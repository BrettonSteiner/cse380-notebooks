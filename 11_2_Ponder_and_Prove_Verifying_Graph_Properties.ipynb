{
  "nbformat": 4,
  "nbformat_minor": 0,
  "metadata": {
    "colab": {
      "name": "11_2_Ponder_and_Prove_Verifying_Graph_Properties.ipynb",
      "provenance": [],
      "include_colab_link": true
    },
    "kernelspec": {
      "name": "python3",
      "display_name": "Python 3"
    }
  },
  "cells": [
    {
      "cell_type": "markdown",
      "metadata": {
        "id": "view-in-github",
        "colab_type": "text"
      },
      "source": [
        "<a href=\"https://colab.research.google.com/github/BrettonSteiner/cse380-notebooks/blob/master/11_2_Ponder_and_Prove_Verifying_Graph_Properties.ipynb\" target=\"_parent\"><img src=\"https://colab.research.google.com/assets/colab-badge.svg\" alt=\"Open In Colab\"/></a>"
      ]
    },
    {
      "cell_type": "markdown",
      "metadata": {
        "id": "VeWHqnJIVg5T"
      },
      "source": [
        "# Ponder and Prove Verifying Graph Properties\n",
        "## Due: Saturday, 20 March 2021, 11:59 pm"
      ]
    },
    {
      "cell_type": "markdown",
      "metadata": {
        "id": "_E77JvrzViCZ"
      },
      "source": [
        "## Introduction"
      ]
    },
    {
      "cell_type": "markdown",
      "metadata": {
        "id": "CSWn0ZQRVhte"
      },
      "source": [
        "The goal of this assignment is to investigate verifying certain properties of graphs. This is an opportunity to apply your knowledge of complete graphs, graph representations, and subgraphs.\n",
        "\n",
        "Another name for a complete graph is a word that in high school is often mispronounced as **click**. Making it rhyme with the second syllable of the words **antique** or **technique** is the correct way to pronounce **clique**.\n",
        "\n",
        "Think about how to **verify** this graph property, **and its opposite**.\n",
        "\n",
        "To give an operational definition, a clique is a subgraph of a given graph in which every two nodes are connected by a link. An **anti**-clique is a subgraph in which every two nodes are **not** connected by a link. (Note that this is the same as saying that **no** two nodes in this subgraph are connected. Or in other words, they form an **independent set** of nodes --- nodes that are all independent of each other.) Searching through a specified graph, a verifier would check the alleged \"clique-ness\" or \"anti-clique-ness\" of a given list of nodes.\n",
        "\n",
        "Use the code below as a starting point. Decide how to represent a graph. Use the ```link_exists``` predicate as is, or change it to suit. If you decide as is is good enough, you will still need to implement the ```get_adjacency_list``` function. Test several graphs and various-sized candidate node lists (see below) using a suitably implemented ```check_clique_or_anti_clique``` function."
      ]
    },
    {
      "cell_type": "code",
      "metadata": {
        "id": "oS9bcmG1WbAZ"
      },
      "source": [
        "def link_exists(graph, node1, node2):\n",
        "  \"\"\"Given a graph, is there a link between\n",
        "     node1 and node2?\n",
        "  \"\"\"\n",
        "  # link = next((l for l in graph if (node1 in l and node2 in l)), None)\n",
        "  # return link != None\n",
        "  return graph.has(make_link(node1, node2))\n",
        "\n",
        "def check_clique_or_anti_clique(graph, nodes, anti):\n",
        "  \"\"\"Checks if the graph contains a subgraph consisting of\n",
        "     the given nodes that is a clique (if anti is False)\n",
        "     or an anti-clique (if anti is True). Returns True or\n",
        "     False appropriately.\n",
        "  \"\"\"\n",
        "  # YOUR CODE GOES HERE\n",
        "  # # This works, but is too long and isn't efficient enough\n",
        "  # links = list(filter(lambda link: any(node == link[0] for node in nodes) and any(node == link[1] for node in nodes), graph))\n",
        "  # return (not anti and len(links) == (len(nodes) * (len(nodes) - 1)) // 2) or (anti and len(links) == 0)\n",
        "\n",
        "  # # This works, but is also too long and isn't efficient enough\n",
        "  # # It also used the combinations method instead of product\n",
        "  # exist = set([link_exists(graph, l[0], l[1]) for l in combinations(nodes, r=2)])\n",
        "  # return len(exist) == 1 and list(exist)[0] != anti\n",
        "\n",
        "  # This works, is effecient, and fits within 75 characters on each line!\n",
        "  l = len(set(graph).intersection(set(l for l in product(nodes, repeat=2))))\n",
        "  return (anti and l==0) or (not anti and l==(len(nodes)*(len(nodes)-1))//2)"
      ],
      "execution_count": 1,
      "outputs": []
    },
    {
      "cell_type": "markdown",
      "metadata": {
        "id": "Py3uqa03Yhmb"
      },
      "source": [
        "## Caution"
      ]
    },
    {
      "cell_type": "markdown",
      "metadata": {
        "id": "cypfjKdLYkLc"
      },
      "source": [
        "Be aware that a possible misconception is that finding the maximal clique in an undirected graph using something like the Bron-Kerbosch algorithm is a clever strategy for this assignment. Not so! Please do not reach this conclusion, which stems from a fundamental misunderstanding of what this assignment is all about."
      ]
    },
    {
      "cell_type": "markdown",
      "metadata": {
        "id": "weZ6yZ-yYp4g"
      },
      "source": [
        "## TODO Test Graphs with Candidate Node Lists"
      ]
    },
    {
      "cell_type": "markdown",
      "metadata": {
        "id": "cTYmS1-pYsm5"
      },
      "source": [
        "There are six test graphs containing from 27 up to just over one million (1,000,000) links. Each line of the input file represents one link, consisting of two nonnegative integers that represent the nodes of the link. All graphs are connected, and the numbers are contiguous from 0 to $n$, where $n$ is some number less than or equal to 60,000. Contiguous means, for example, the nodes 1, 2, 3, 4, 5 and 10, (or any list with gaps) will not occur. However, the nodes may not appear in sorted order in the file, so don't assume they will.\n",
        "\n",
        "Execute the following code block to get the test graph files:"
      ]
    },
    {
      "cell_type": "code",
      "metadata": {
        "id": "LWLQRUqFay3W",
        "colab": {
          "base_uri": "https://localhost:8080/"
        },
        "outputId": "1f8603ae-c12d-4c76-f21b-419d7e92110d"
      },
      "source": [
        "!curl -O https://rickneff.github.io/testgraphfiles.zip"
      ],
      "execution_count": 2,
      "outputs": [
        {
          "output_type": "stream",
          "text": [
            "  % Total    % Received % Xferd  Average Speed   Time    Time     Time  Current\n",
            "                                 Dload  Upload   Total   Spent    Left  Speed\n",
            "100 7010k  100 7010k    0     0  11.3M      0 --:--:-- --:--:-- --:--:-- 11.2M\n"
          ],
          "name": "stdout"
        }
      ]
    },
    {
      "cell_type": "markdown",
      "metadata": {
        "id": "hmjCHijZe73B"
      },
      "source": [
        "Your task is to figure out how this code should work, and supply what it lacks to make it work."
      ]
    },
    {
      "cell_type": "code",
      "metadata": {
        "id": "RxBG-osIZ_Rb"
      },
      "source": [
        "from itertools import product\n",
        "from io import BytesIO\n",
        "from zipfile import ZipFile\n",
        "\n",
        "def make_link(node1, node2):\n",
        "  \"\"\"make link a tuple with lower node number first\n",
        "  \"\"\"\n",
        "  return tuple([node1, node2]) if node1 < node2 else tuple([node2, node1])\n",
        "\n",
        "# This is the slow way (takes almost a minute to verify 24 tests)\n",
        "# by having a graph represented by a list of its links.\n",
        "# See if you can do better!\n",
        "def read_graph(zip_file, N):\n",
        "  contents = BytesIO(zip_file.read('testgraphfiles/graph' + str(N) + '.in'))\n",
        "  graph = set([])\n",
        "  for line in contents:\n",
        "    node1, node2 = map(int, line.split())\n",
        "    link = make_link(node1, node2)\n",
        "    graph.add(link)\n",
        "  return graph\n",
        "\n",
        "# See above for one way to implement this, but certainly\n",
        "# not the only way, nor even the best way, perhaps.\n",
        "def link_exists(graph, node1, node2):\n",
        "  \"\"\"Does a link exist between node1 and node2 in graph?\n",
        "  \"\"\"\n",
        "  # YOUR CODE GOES HERE\n",
        "  # I can do this because our graph is a set.\n",
        "  return graph.has(make_link(node1, node2))\n",
        "\n",
        "# Make use of link_exists, of course, but also the product\n",
        "# function imported from itertools.\n",
        "def check_clique_or_anti_clique(graph, nodes, anti):\n",
        "  \"\"\"Checks if the graph contains a subgraph consisting of\n",
        "     the given nodes that is a clique (if anti is False)\n",
        "     or an anti-clique (if anti is True). Returns True or\n",
        "     False appropriately.\n",
        "  \"\"\"\n",
        "  # YOUR CODE GOES HERE\n",
        "  l = len(graph.intersection(l for l in product(nodes, repeat=2)))\n",
        "  return (anti and l==0) or (not anti and l==(len(nodes)*(len(nodes)-1))//2)\n",
        "\n",
        "graph_test_dict = {\n",
        "  1: [\n",
        "    [2, 3, 4, 10, 11], True, False,\n",
        "    [2, 4, 5, 10, 11], False, False,\n",
        "    [1, 3, 5, 8], False, True,\n",
        "    [4, 5, 8, 11], False, False\n",
        "  ],\n",
        "  2: [\n",
        "    [251, 417, 517], True, False,\n",
        "    [414, 587, 588], True, False,\n",
        "    [8, 10, 14, 17, 20, 49, 51, 66, 74, 80, 84, 109, 124, 127, 129, 132, 139, 141, 143, 150, 154, 161, 168, 177, 192, 196, 200, 203, 207, 215, 218, 239, 259, 261, 272, 278, 285, 292, 298, 302, 309, 312, 315, 320, 338, 343, 356, 368, 372, 380, 391, 395, 397, 402, 407, 415, 418, 427, 429, 434, 441, 448, 458, 461, 465, 470, 475, 480, 482, 494, 498, 512, 516, 549, 560, 570, 582], False, True,\n",
        "    [17, 290, 129, 212, 354, 497, 192, 381, 389, 112, 386, 341], False, False\n",
        "  ],\n",
        "  3: [\n",
        "    [212, 320, 357, 463, 690], True, False,\n",
        "    [266, 606, 990, 243, 11], True, False,\n",
        "    [534, 787, 579, 430, 849, 399, 561, 798, 72, 623, 422, 197, 8, 336, 1001, 401, 173, 862, 716, 117, 17, 175, 123, 317, 521, 246], False, True,\n",
        "    [12, 235, 198, 199, 264, 345, 444, 501, 672, 734, 908], False, False\n",
        "  ],\n",
        "  4: [\n",
        "    [664, 1026, 1171], True, False,\n",
        "    [838, 1184, 1055, 1480], True, False,\n",
        "    [2, 4, 7, 9, 12, 15, 17, 20, 23, 29, 33, 35, 43, 48, 53, 57], False, False,\n",
        "    [237, 820, 1665, 301, 453, 952, 1864, 710, 266, 1177, 1798, 392, 339, 1492, 1652, 483, 798, 745, 975, 1638, 1035, 1483, 1065, 1336, 1601, 1567, 1839, 2001, 802, 1456, 434, 504, 1754, 1524, 1889, 1624, 104, 1449, 1322, 1343, 88, 1118, 341, 762, 1311, 599, 993, 280, 288, 792, 1361], False, True\n",
        "  ],\n",
        "  5: [\n",
        "    [791, 1516, 1938, 2233], True, False,\n",
        "    [836, 2406, 2489, 583, 584], True, False,\n",
        "    [911, 1014, 1665, 2297, 1363, 314, 1548, 1469, 743, 622, 1408, 1288, 2228, 545, 1313, 1962, 1509, 1329, 1978, 149, 1945, 1959, 552, 2069, 394, 856, 1, 2171, 888, 2269, 2032, 77, 2494, 646, 1214, 1381], False, True,\n",
        "    [15, 18, 110, 246, 314, 981], False, False\n",
        "  ],\n",
        "  6: [\n",
        "    [157, 1995, 2059, 2060, 2165, 2511], True, False,\n",
        "    [1787, 1300, 52, 2141, 1812, 1184, 695], True, False,\n",
        "    [666, 848, 1861, 949, 959, 1728, 1540, 1384, 1412, 2170, 2374, 260, 1519, 2417, 2342, 2738, 2492, 2233, 2041, 2799, 2628, 701, 1498, 589, 2160, 396, 1223, 1962], False, True,\n",
        "    [2, 7, 18, 28, 45, 90, 459, 571, 888, 905, 1312, 1450], False, False\n",
        "  ]\n",
        "}\n",
        "\n",
        "def run_tests(test_only):\n",
        "  with ZipFile('testgraphfiles.zip') as zfile:\n",
        "    for N in graph_test_dict:\n",
        "      graph = read_graph(zfile, N)\n",
        "      if not test_only:\n",
        "        print(f'Verifying graph {N}:\\n')\n",
        "      for n in range(4):\n",
        "        index = 3 * n\n",
        "        nodes = graph_test_dict[N][index]\n",
        "        expected_clique = graph_test_dict[N][index + 1]\n",
        "        expected_anticl = graph_test_dict[N][index + 2]\n",
        "        clique = check_clique_or_anti_clique(graph, nodes, False)\n",
        "        anticl = check_clique_or_anti_clique(graph, nodes, True)\n",
        "        if test_only:\n",
        "          assert(expected_clique == clique)\n",
        "          assert(expected_anticl == anticl)\n",
        "        else:\n",
        "          print(f'{nodes}\\n     Clique: {clique}\\nAnti-clique: {anticl}\\n')"
      ],
      "execution_count": 23,
      "outputs": []
    },
    {
      "cell_type": "code",
      "metadata": {
        "id": "UDauB0WIeNKl",
        "colab": {
          "base_uri": "https://localhost:8080/"
        },
        "outputId": "496aa9d6-761e-4390-ad83-2e1f96073322"
      },
      "source": [
        "run_tests(False)"
      ],
      "execution_count": 24,
      "outputs": [
        {
          "output_type": "stream",
          "text": [
            "Verifying graph 1:\n",
            "\n",
            "[2, 3, 4, 10, 11]\n",
            "     Clique: True\n",
            "Anti-clique: False\n",
            "\n",
            "[2, 4, 5, 10, 11]\n",
            "     Clique: False\n",
            "Anti-clique: False\n",
            "\n",
            "[1, 3, 5, 8]\n",
            "     Clique: False\n",
            "Anti-clique: True\n",
            "\n",
            "[4, 5, 8, 11]\n",
            "     Clique: False\n",
            "Anti-clique: False\n",
            "\n",
            "Verifying graph 2:\n",
            "\n",
            "[251, 417, 517]\n",
            "     Clique: True\n",
            "Anti-clique: False\n",
            "\n",
            "[414, 587, 588]\n",
            "     Clique: True\n",
            "Anti-clique: False\n",
            "\n",
            "[8, 10, 14, 17, 20, 49, 51, 66, 74, 80, 84, 109, 124, 127, 129, 132, 139, 141, 143, 150, 154, 161, 168, 177, 192, 196, 200, 203, 207, 215, 218, 239, 259, 261, 272, 278, 285, 292, 298, 302, 309, 312, 315, 320, 338, 343, 356, 368, 372, 380, 391, 395, 397, 402, 407, 415, 418, 427, 429, 434, 441, 448, 458, 461, 465, 470, 475, 480, 482, 494, 498, 512, 516, 549, 560, 570, 582]\n",
            "     Clique: False\n",
            "Anti-clique: True\n",
            "\n",
            "[17, 290, 129, 212, 354, 497, 192, 381, 389, 112, 386, 341]\n",
            "     Clique: False\n",
            "Anti-clique: False\n",
            "\n",
            "Verifying graph 3:\n",
            "\n",
            "[212, 320, 357, 463, 690]\n",
            "     Clique: True\n",
            "Anti-clique: False\n",
            "\n",
            "[266, 606, 990, 243, 11]\n",
            "     Clique: True\n",
            "Anti-clique: False\n",
            "\n",
            "[534, 787, 579, 430, 849, 399, 561, 798, 72, 623, 422, 197, 8, 336, 1001, 401, 173, 862, 716, 117, 17, 175, 123, 317, 521, 246]\n",
            "     Clique: False\n",
            "Anti-clique: True\n",
            "\n",
            "[12, 235, 198, 199, 264, 345, 444, 501, 672, 734, 908]\n",
            "     Clique: False\n",
            "Anti-clique: False\n",
            "\n",
            "Verifying graph 4:\n",
            "\n",
            "[664, 1026, 1171]\n",
            "     Clique: True\n",
            "Anti-clique: False\n",
            "\n",
            "[838, 1184, 1055, 1480]\n",
            "     Clique: True\n",
            "Anti-clique: False\n",
            "\n",
            "[2, 4, 7, 9, 12, 15, 17, 20, 23, 29, 33, 35, 43, 48, 53, 57]\n",
            "     Clique: False\n",
            "Anti-clique: False\n",
            "\n",
            "[237, 820, 1665, 301, 453, 952, 1864, 710, 266, 1177, 1798, 392, 339, 1492, 1652, 483, 798, 745, 975, 1638, 1035, 1483, 1065, 1336, 1601, 1567, 1839, 2001, 802, 1456, 434, 504, 1754, 1524, 1889, 1624, 104, 1449, 1322, 1343, 88, 1118, 341, 762, 1311, 599, 993, 280, 288, 792, 1361]\n",
            "     Clique: False\n",
            "Anti-clique: True\n",
            "\n",
            "Verifying graph 5:\n",
            "\n",
            "[791, 1516, 1938, 2233]\n",
            "     Clique: True\n",
            "Anti-clique: False\n",
            "\n",
            "[836, 2406, 2489, 583, 584]\n",
            "     Clique: True\n",
            "Anti-clique: False\n",
            "\n",
            "[911, 1014, 1665, 2297, 1363, 314, 1548, 1469, 743, 622, 1408, 1288, 2228, 545, 1313, 1962, 1509, 1329, 1978, 149, 1945, 1959, 552, 2069, 394, 856, 1, 2171, 888, 2269, 2032, 77, 2494, 646, 1214, 1381]\n",
            "     Clique: False\n",
            "Anti-clique: True\n",
            "\n",
            "[15, 18, 110, 246, 314, 981]\n",
            "     Clique: False\n",
            "Anti-clique: False\n",
            "\n",
            "Verifying graph 6:\n",
            "\n",
            "[157, 1995, 2059, 2060, 2165, 2511]\n",
            "     Clique: True\n",
            "Anti-clique: False\n",
            "\n",
            "[1787, 1300, 52, 2141, 1812, 1184, 695]\n",
            "     Clique: True\n",
            "Anti-clique: False\n",
            "\n",
            "[666, 848, 1861, 949, 959, 1728, 1540, 1384, 1412, 2170, 2374, 260, 1519, 2417, 2342, 2738, 2492, 2233, 2041, 2799, 2628, 701, 1498, 589, 2160, 396, 1223, 1962]\n",
            "     Clique: False\n",
            "Anti-clique: True\n",
            "\n",
            "[2, 7, 18, 28, 45, 90, 459, 571, 888, 905, 1312, 1450]\n",
            "     Clique: False\n",
            "Anti-clique: False\n",
            "\n"
          ],
          "name": "stdout"
        }
      ]
    },
    {
      "cell_type": "code",
      "metadata": {
        "id": "igq5RvLteTXT",
        "colab": {
          "base_uri": "https://localhost:8080/"
        },
        "outputId": "04177856-b0cf-485b-ca39-74064ca58ecb"
      },
      "source": [
        "%timeit run_tests(True)"
      ],
      "execution_count": 25,
      "outputs": [
        {
          "output_type": "stream",
          "text": [
            "1 loop, best of 5: 2.84 s per loop\n"
          ],
          "name": "stdout"
        }
      ]
    },
    {
      "cell_type": "code",
      "metadata": {
        "id": "4mgnHDOuiqmg"
      },
      "source": [
        "def test_read_graph():\n",
        "  with ZipFile('testgraphfiles.zip') as zfile:\n",
        "    for N in graph_test_dict:\n",
        "      graph = read_graph(zfile, N)"
      ],
      "execution_count": 26,
      "outputs": []
    },
    {
      "cell_type": "code",
      "metadata": {
        "colab": {
          "base_uri": "https://localhost:8080/"
        },
        "id": "wqTH4AlVjsY4",
        "outputId": "602e6634-6cf6-460f-af41-53c96e5e94e0"
      },
      "source": [
        "%timeit test_read_graph()"
      ],
      "execution_count": 27,
      "outputs": [
        {
          "output_type": "stream",
          "text": [
            "1 loop, best of 5: 2.71 s per loop\n"
          ],
          "name": "stdout"
        }
      ]
    },
    {
      "cell_type": "markdown",
      "metadata": {
        "id": "81dbKwHenxnT"
      },
      "source": [
        "# TODO My Report on What I Did and What I Learned"
      ]
    },
    {
      "cell_type": "markdown",
      "metadata": {
        "id": "C8BeiIern33B"
      },
      "source": [
        "## Fun\n"
      ]
    },
    {
      "cell_type": "markdown",
      "metadata": {
        "id": "ElukRLoezyxd"
      },
      "source": [
        "I had fun in this assignment when I figured out how to mathematically calculate the total number of links present in a complete graph given just the number of nodes in it by examining complete graphs with sizes of 2, 3, 4, and 5 nodes. A complete graph will have $\\frac{n(n-1)}{2}$ links where $n$ is the number of nodes. I felt that this was key to a performant algorithm and I feel that I've successfully integrated it into my solution."
      ]
    },
    {
      "cell_type": "markdown",
      "metadata": {
        "id": "OzOkZ3son-u9"
      },
      "source": [
        "## New"
      ]
    },
    {
      "cell_type": "markdown",
      "metadata": {
        "id": "3-nYIdEUz4x5"
      },
      "source": [
        "I learned that set operations can be much quicker than iterating through each item and doing a check on it. I was happy with the speed of the intersection method of sets in my solution.\n",
        "\n",
        "I also learned how the cartesian product could be helpful in the context of graphs. Most of my time on this assignment was spent trying to figure out why the cartesian product was suggested. I eventually realized that I needed to know all of the possible links for the complete subgraph to use in taking the intersection with the links present in the graph. From there, I can compare the length of the resulting intersection with the desired check. An anti-clique would have an intersection of 0 links and a clique would have an intersection of $\\frac{n(n-1)}{2}$ links where $n$ is the number of nodes in the complete graph. I learned that the cartesian product is the way that I can calculate every possible link for a complete graph given the list of nodes. It even creates links that can't exist in my graph, such as (1,1). Therefore, I know that my solution has limitations which I will outline in the \"Meaningful\" section below."
      ]
    },
    {
      "cell_type": "markdown",
      "metadata": {
        "id": "mJHvoj6GokaZ"
      },
      "source": [
        "## Meaningful\n"
      ]
    },
    {
      "cell_type": "markdown",
      "metadata": {
        "id": "XOxh3XFTz-6N"
      },
      "source": [
        "I managed to find a working solution that didn't use the link_exists() function at all. I did this by using the fact that a complete graph will have a specific amount of edges between its nodes based on the number of nodes within it. So, instead of checking if any of the links exist, I take the count of links of the intersection of all possible edges that could exist in a complete graph (plus a few since the cartesian product of the nodes have some links in which one node connects back to itself) and I compare it with either the max number of links in said complete graph or zero, depending on if we are checking for a clique or anti-clique. As a result, I have a solution that only works given a few assumptions are true: the graph must not contain any duplicate edges, such as (1,2) and (2,1), and the graph must not contain any edges which point to the same node such as (1,1). If those conditions are met, then my solution will work.\n",
        "\n",
        "This is meaningful because I've discovered a mathematical way to solve this problem without checking if each link exists, one by one. This could be a base for me to go forward and search for more things that could be solved easier through mathematics."
      ]
    },
    {
      "cell_type": "markdown",
      "metadata": {
        "id": "_RBE03fhpNUG"
      },
      "source": [
        "## Other"
      ]
    },
    {
      "cell_type": "markdown",
      "metadata": {
        "id": "d-sXEeq60C3W"
      },
      "source": [
        "As a team, we've been able to come up with a solution that runs in under 3 seconds consistently. The best time we've seen is 2.5 seconds. Most of the performance time is taken up by the read_graph function, so we know it can probably be improved further, but this is the best that we can do.\n",
        "\n",
        "I worked with Claire Hocker, Daniel Strickland, and Hannah Parker. Both Claire and Daniel worked on finding a better solution for the read_graph function. Only Claire was successful and made the function run about 0.3 seconds quicker using a dictionary to represent the graph. Unfortunately, we couldn't figure out how to use a dictionary representation with our check_clique_or_anti_clique function, so we didn't end up using it. Hannah didn't contribute very much to this assignment and was mostly quiet during our conversations. She didn't take any time outside of our meetings to do work on her own. I made the check_clique_or_anti_clique function which fit all the criteria we were aiming for. Daniel saw my use of sets in the function and converted the read_graph to make a set instead of a list which cut our performance time in half since it removed all list-set conversions.\n",
        "\n",
        "I've previously known of sets and how to use them, but I didn't understand how they applied to graphs until this assignment. I still feel like there is more to learn and understand between sets and graphs, but it was amazing to find out how I could use sets to help me with my operations on the links of the graph. Part of me feels like there is a deeper meaning that can be pulled from set operations on graphs. Perhaps I can find some important properties about those graphs using sets.\n",
        "\n",
        "I've taken Algorithms and Complexity already, so I already knew a few things about speeding up an algorithm. One of them is to reduce the number of function calls. My final solution for the check_clique_or_anti_clique function didn't use the link_exists function at all. I think this is one of the factors that helped speed up the performance time."
      ]
    },
    {
      "cell_type": "markdown",
      "metadata": {
        "id": "Nrk-8EmgW4NP"
      },
      "source": [
        "# TODO What is True?\n",
        "Click on each warranted checkbox to toggle it to True (or back to False). \n",
        "\n",
        "NOTE: *This only works in Colab. If you run it in some other Jupyter notebook client/server environment you may have to change False to True (or vice versa) manually.*\n",
        "\n",
        "This self-assessment is subject to revision by a grader."
      ]
    },
    {
      "cell_type": "code",
      "metadata": {
        "id": "qGAjzgVRXR4M"
      },
      "source": [
        "#@markdown ## What is True about what I did?\n",
        "#@markdown ### I had fun.\n",
        "cb00 = True #@param {type:'boolean'}\n",
        "#@markdown ### I learned something new.\n",
        "cb01 = True #@param {type:'boolean'}\n",
        "#@markdown ### I achieved something meaningful, or something I can build upon at a later time.\n",
        "cb02 = True #@param {type:'boolean'}\n",
        "#@markdown ## What is True about my report?\n",
        "#@markdown ### I wrote a sufficient number of well-written sentences.\n",
        "cb03 = True #@param {type:'boolean'}\n",
        "#@markdown ### My report is free of mechanical infelicities.\n",
        "cb04 = True #@param {type:'boolean'}\n",
        "#@markdown ### I used Grammarly (or something better described in my report) to check for MIs.\n",
        "cb05 = True #@param {type:'boolean'}\n",
        "#@markdown ### I reported on any connections I found between these problems and something I already know. \n",
        "cb06 = True #@param {type:'boolean'}\n",
        "#@markdown ### I reported who were and what contribution each of my collaborators made.\n",
        "cb07 = True #@param {type:'boolean'}\n",
        "#@markdown ## What is True about my code's size?\n",
        "#@markdown ### I created a body for \"link_exists\" that is no more than 2 lines (not greater than 75 characters each).\n",
        "cb08 = True #@param {type:'boolean'}\n",
        "#@markdown ### I created a body for \"check_clique_or_anti_clique\" that is no more than 6 lines (not greater than 75 characters each).\n",
        "cb09 = True #@param {type:'boolean'}\n",
        "#@markdown ### I created a body for \"check_clique_or_anti_clique\" that is no more than 5 lines (not greater than 75 characters each).\n",
        "cb10 = True #@param {type:'boolean'}\n",
        "#@markdown ### I created a body for \"check_clique_or_anti_clique\" that is no more than 4 lines (not greater than 75 characters each).\n",
        "cb11 = True #@param {type:'boolean'}\n",
        "#@markdown ### I created a body for \"check_clique_or_anti_clique\" that is no more than 3 lines (not greater than 75 characters each).\n",
        "cb12 = True #@param {type:'boolean'}\n",
        "#@markdown ### I created a body for \"check_clique_or_anti_clique\" that is no more than 2 lines (not greater than 75 characters each).\n",
        "cb13 = True #@param {type:'boolean'}\n",
        "#@markdown ## What is True about my code's efficiency?\n",
        "#@markdown ### My code is efficient enough to run all 4 tests on all 6 graphs in less than 5 minutes.\n",
        "cb14 = True #@param {type:'boolean'}\n",
        "#@markdown ### My code is efficient enough to run all 4 tests on all 6 graphs in less than 2 minutes.\n",
        "cb15 = True #@param {type:'boolean'}\n",
        "#@markdown ### My code is efficient enough to run all 4 tests on all 6 graphs in less than 1 minute.\n",
        "cb16 = True #@param {type:'boolean'}\n",
        "#@markdown ### My code is efficient enough to run all 4 tests on all 6 graphs in less than 30 seconds.\n",
        "cb17 = True #@param {type:'boolean'}\n",
        "#@markdown ### My code is efficient enough to run all 4 tests on all 6 graphs in less than 15 seconds.\n",
        "cb18 = True #@param {type:'boolean'}\n",
        "#@markdown ### My code is efficient enough to run all 4 tests on all 6 graphs in less than 5 seconds.\n",
        "cb19 = True #@param {type:'boolean'}"
      ],
      "execution_count": 29,
      "outputs": []
    }
  ]
}