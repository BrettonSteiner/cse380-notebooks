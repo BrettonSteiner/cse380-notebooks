{
  "nbformat": 4,
  "nbformat_minor": 0,
  "metadata": {
    "colab": {
      "name": " 07_3_About_Deeper_Elementary_Number_Theory.ipynb",
      "provenance": [],
      "include_colab_link": true
    },
    "kernelspec": {
      "name": "python3",
      "display_name": "Python 3"
    }
  },
  "cells": [
    {
      "cell_type": "markdown",
      "metadata": {
        "id": "view-in-github",
        "colab_type": "text"
      },
      "source": [
        "<a href=\"https://colab.research.google.com/github/BrettonSteiner/cse380-notebooks/blob/master/07_3_About_Deeper_Elementary_Number_Theory.ipynb\" target=\"_parent\"><img src=\"https://colab.research.google.com/assets/colab-badge.svg\" alt=\"Open In Colab\"/></a>"
      ]
    },
    {
      "cell_type": "markdown",
      "metadata": {
        "id": "fKBSJ5Hh6UMv"
      },
      "source": [
        "# About Deeper Elementary Number Theory\n",
        "## Class Directed Learning\n",
        "### Due: Wednesday, 17 February 2021, 11:59 pm"
      ]
    },
    {
      "cell_type": "markdown",
      "metadata": {
        "id": "yx-XMrWE6hEw"
      },
      "source": [
        "## Read and Ponder\n",
        "https://byui-cse.github.io/cse380-course/about-deeper-elementary-number-theory.pdf\n",
        "\n",
        "Put your answers in cells you will add below.\n",
        "\n",
        "Above and beyond behavior: Incorporate the material in the PDF into this notebook."
      ]
    },
    {
      "cell_type": "markdown",
      "metadata": {
        "id": "gm_BvbRWaYbp"
      },
      "source": [
        "### Explore Fermat’s Little Theorem Further\r\n",
        "The hypothesis ($N$ is prime) is implicitly used in step 8 of the proof because that statement would not be true if $N$ is not prime. So, step 8 should say, \"Therefore the number of *distinguishable* bracelets is $(X^N − X)/N$, since $N$ is prime.\"\r\n",
        "\r\n",
        "This [video](https://www.khanacademy.org/computing/computer-science/cryptography/random-algorithms-probability/v/fermat-s-little-theorem-visualization) describes how if the number is not prime, it will not end up with with the same amount of *unique* cyclic permutations as there are beads. Essentially, non-prime number necklaces can be composed of repeated patterns thus resulting in some permutations being repeated, too. $N$ must be prime number in order for step 8 to be true."
      ]
    },
    {
      "cell_type": "markdown",
      "metadata": {
        "id": "bJQcR17QZ69f"
      },
      "source": [
        "### Explore Primes and Probability Further\r\n",
        "Yes, I can use the Prime Number Theorem to estimate the probability that a randomly chosen k-digit number is prime. Look at my implementation below."
      ]
    },
    {
      "cell_type": "code",
      "metadata": {
        "id": "tcTdRtbnMR2a",
        "colab": {
          "base_uri": "https://localhost:8080/"
        },
        "outputId": "a5e371b1-d842-409f-d48a-61393b6f533b"
      },
      "source": [
        "import math\r\n",
        "\r\n",
        "def num_primes(n):\r\n",
        "  return n / math.log(n)\r\n",
        "\r\n",
        "def prob_num_is_prime(digits):\r\n",
        "  largest = int(''.join(str(i) for i in [9 for _ in range(digits)]))\r\n",
        "  primes = num_primes(largest)\r\n",
        "  smallest = int('1' + ''.join(str(i) for i in [0 for _ in range(digits - 1)]))\r\n",
        "  total = largest - smallest\r\n",
        "  return primes / total\r\n",
        "\r\n",
        "for k in range(1,11):\r\n",
        "  print(f'{k} = {prob_num_is_prime(k)}')\r\n",
        "  print(1 / math.log(int(''.join(str(i) for i in [9 for _ in range(k)]))))"
      ],
      "execution_count": null,
      "outputs": [
        {
          "output_type": "stream",
          "text": [
            "1 = 0.512009564977596\n",
            "0.45511961331341866\n",
            "2 = 0.24207411054343164\n",
            "0.21762218018550925\n",
            "3 = 0.1608910032050489\n",
            "0.14478579767901795\n",
            "4 = 0.12064000654598024\n",
            "0.10857479937066469\n",
            "5 = 0.09651007592979219\n",
            "0.08685897182577193\n",
            "6 = 0.08042491881362078\n",
            "0.07238241888975878\n",
            "7 = 0.06893563324177772\n",
            "0.06204206922824354\n",
            "8 = 0.06031867814188415\n",
            "0.054286810267377056\n",
            "9 = 0.053616602712649834\n",
            "0.04825494243602319\n",
            "10 = 0.04825494243444038\n",
            "0.043429448190513795\n"
          ],
          "name": "stdout"
        }
      ]
    }
  ]
}