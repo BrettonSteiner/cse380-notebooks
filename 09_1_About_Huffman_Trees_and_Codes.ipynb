{
  "nbformat": 4,
  "nbformat_minor": 0,
  "metadata": {
    "colab": {
      "name": "09_1_About_Huffman_Trees_and_Codes.ipynb",
      "provenance": [],
      "collapsed_sections": [],
      "include_colab_link": true
    },
    "kernelspec": {
      "name": "python3",
      "display_name": "Python 3"
    }
  },
  "cells": [
    {
      "cell_type": "markdown",
      "metadata": {
        "id": "view-in-github",
        "colab_type": "text"
      },
      "source": [
        "<a href=\"https://colab.research.google.com/github/BrettonSteiner/cse380-notebooks/blob/master/09_1_About_Huffman_Trees_and_Codes.ipynb\" target=\"_parent\"><img src=\"https://colab.research.google.com/assets/colab-badge.svg\" alt=\"Open In Colab\"/></a>"
      ]
    },
    {
      "cell_type": "markdown",
      "metadata": {
        "id": "VPy5vbgRQBMQ"
      },
      "source": [
        "# About Huffman Trees and Codes\n",
        "## Divide Pair Conquer\n",
        "### Due: Monday, 1 March 2021, 11:59 pm"
      ]
    },
    {
      "cell_type": "markdown",
      "metadata": {
        "id": "sgaSqpkyQMwl"
      },
      "source": [
        "## Goal"
      ]
    },
    {
      "cell_type": "markdown",
      "metadata": {
        "id": "_YpNGyjWQbVx"
      },
      "source": [
        "Review Huffman Trees and Codes from DM1 to get ready for your Ponder and Prove assignment."
      ]
    },
    {
      "cell_type": "code",
      "metadata": {
        "id": "7C-ClNTHQkFw",
        "colab": {
          "base_uri": "https://localhost:8080/"
        },
        "outputId": "c0aa339b-b127-4276-d9ec-25463fe3133c"
      },
      "source": [
        "from math import ceil, log\n",
        "from collections import Counter\n",
        "\n",
        "def show_results(message, code_tuples):\n",
        "  total_characters = len(message)\n",
        "  total_unique_characters = len(code_tuples)\n",
        "  total_bits = 0\n",
        "  for char, count, code in code_tuples:\n",
        "    total_bits += count * len(code)\n",
        "  average_bits_per_character = total_bits / total_characters\n",
        "  fixed_bits_per_character = ceil(log(total_unique_characters, 2))\n",
        "  total_fixed_bits = total_characters * fixed_bits_per_character\n",
        "  compression_ratio = (total_fixed_bits - total_bits) / total_fixed_bits\n",
        "  print(f'          Total Characters: {total_characters}')\n",
        "  print(f'   Total Unique Characters: {total_unique_characters}')\n",
        "  print(f'                Total Bits: {total_bits}')\n",
        "  print(f'Average Bits per Character: {average_bits_per_character:.2f}')\n",
        "  print(f'  Fixed Bits per Character: {fixed_bits_per_character}')\n",
        "  print(f'          Total Fixed Bits: {total_fixed_bits}')\n",
        "  print(f'         Compression Ratio: {compression_ratio:.3f}')\n",
        "  return compression_ratio\n",
        "\n",
        "message1 = 'thebookofmormon'\n",
        "counter1 = Counter(message1)\n",
        "\n",
        "print(message1, '-->', counter1)\n",
        "\n",
        "message2 = 'therestoration'\n",
        "\n",
        "counter2 = Counter(message2)\n",
        "\n",
        "print(message2, '-->', counter2)"
      ],
      "execution_count": 84,
      "outputs": [
        {
          "output_type": "stream",
          "text": [
            "thebookofmormon --> Counter({'o': 5, 'm': 2, 't': 1, 'h': 1, 'e': 1, 'b': 1, 'k': 1, 'f': 1, 'r': 1, 'n': 1})\n",
            "therestoration --> Counter({'t': 3, 'e': 2, 'r': 2, 'o': 2, 'h': 1, 's': 1, 'a': 1, 'i': 1, 'n': 1})\n"
          ],
          "name": "stdout"
        }
      ]
    },
    {
      "cell_type": "markdown",
      "metadata": {
        "id": "YnsvrdQkRZIP"
      },
      "source": [
        "### Which message has the lower compression ratio?"
      ]
    },
    {
      "cell_type": "markdown",
      "metadata": {
        "id": "ZQZ9qfo-RgDB"
      },
      "source": [
        "#### Message 1"
      ]
    },
    {
      "cell_type": "markdown",
      "metadata": {
        "id": "66pMEoO_Rkb3"
      },
      "source": [
        "Do all the steps, like the examples in the book, first sorting the counted occurrences:\n",
        "\n",
        "| Char | # |\n",
        "|------|---|\n",
        "|   b  | 1 |\n",
        "|   e  | 1 |\n",
        "|   f  | 1 |\n",
        "|   h  | 1 |\n",
        "|   k  | 1 |\n",
        "|   n  | 1 |\n",
        "|   r  | 1 |\n",
        "|   t  | 1 |\n",
        "|   m  | 2 |\n",
        "|   o  | 5 |"
      ]
    },
    {
      "cell_type": "markdown",
      "metadata": {
        "id": "Sf-Wc2SvSMvh"
      },
      "source": [
        "##### The ever-shrinking queue:"
      ]
    },
    {
      "cell_type": "markdown",
      "metadata": {
        "id": "1NVAHiTySQUZ"
      },
      "source": [
        "* b1 e1 f1 h1 k1 n1 r1 t1 m2 o5\n",
        "* f1 h1 k1 n1 r1 t1 m2 be2 o5\n",
        "* k1 n1 r1 t1 m2 be2 fh2 o5\n",
        "* r1 t1 m2 be2 fh2 kn2 o5\n",
        "* m2 be2 fh2 kn2 rt2 o5\n",
        "* fh2 kn2 rt2 mbe4 o5\n",
        "* rt2 meb4 fhkn4 o5\n",
        "* fhkn4 o5 rtmeb6\n",
        "* rtmbe6 fhkno9\n",
        "* rtmbefhkno15"
      ]
    },
    {
      "cell_type": "markdown",
      "metadata": {
        "id": "FQ542b55SnRo"
      },
      "source": [
        "##### The Huffman Tree:"
      ]
    },
    {
      "cell_type": "code",
      "metadata": {
        "id": "JEatqgo2S2GS",
        "colab": {
          "base_uri": "https://localhost:8080/",
          "height": 35
        },
        "outputId": "2fe59bc1-0062-42b2-fb1a-f462f5e6a064"
      },
      "source": [
        "'''\n",
        "       rtmbefhkno15\n",
        "         /        \\\n",
        "     rtmbe6      fhkno9\n",
        "     /   \\        /    \\\n",
        "  rt2   mbe4   fhkn4   o5\n",
        "  /\\    / \\     /   \\\n",
        "r1 t1 m2 be2  fh2   kn2\n",
        "         / \\  / \\   / \\\n",
        "       b1 e1 f1 h1 k1 n1\n",
        "'''"
      ],
      "execution_count": 85,
      "outputs": [
        {
          "output_type": "execute_result",
          "data": {
            "application/vnd.google.colaboratory.intrinsic+json": {
              "type": "string"
            },
            "text/plain": [
              "'\\n       rtmbefhkno15\\n         /             rtmbe6      fhkno9\\n     /   \\\\        /      rt2   mbe4   fhkn4   o5\\n  /\\\\    / \\\\     /   r1 t1 m2 be2  fh2   kn2\\n         / \\\\  / \\\\   /        b1 e1 f1 h1 k1 n1\\n'"
            ]
          },
          "metadata": {
            "tags": []
          },
          "execution_count": 85
        }
      ]
    },
    {
      "cell_type": "markdown",
      "metadata": {
        "id": "Zz3k9BfdSqMh"
      },
      "source": [
        "##### The Code Tuples"
      ]
    },
    {
      "cell_type": "markdown",
      "metadata": {
        "id": "k8NwLvJzTzOd"
      },
      "source": [
        "Read the codes from the tree:"
      ]
    },
    {
      "cell_type": "code",
      "metadata": {
        "colab": {
          "base_uri": "https://localhost:8080/"
        },
        "id": "7dT6TB3MS7wY",
        "outputId": "5a9ea452-11e4-4dd0-9503-2b38d6c14e13"
      },
      "source": [
        "message1_code_tuples = \\\n",
        "[('b', 1, '0110'),\n",
        " ('e', 1, '0111'),\n",
        " ('f', 1, '1000'),\n",
        " ('h', 1, '1001'),\n",
        " ('k', 1, '1010'),\n",
        " ('m', 2, '010'),\n",
        " ('n', 1, '1011'),\n",
        " ('o', 5, '11'),\n",
        " ('r', 1, '000'),\n",
        " ('t', 1, '001'),\n",
        "]\n",
        "\n",
        "show_results(message1, message1_code_tuples)"
      ],
      "execution_count": 86,
      "outputs": [
        {
          "output_type": "stream",
          "text": [
            "          Total Characters: 15\n",
            "   Total Unique Characters: 10\n",
            "                Total Bits: 46\n",
            "Average Bits per Character: 3.07\n",
            "  Fixed Bits per Character: 4\n",
            "          Total Fixed Bits: 60\n",
            "         Compression Ratio: 0.233\n"
          ],
          "name": "stdout"
        },
        {
          "output_type": "execute_result",
          "data": {
            "text/plain": [
              "0.23333333333333334"
            ]
          },
          "metadata": {
            "tags": []
          },
          "execution_count": 86
        }
      ]
    },
    {
      "cell_type": "markdown",
      "metadata": {
        "id": "EekOyNAyVbY3"
      },
      "source": [
        "#### Message 2"
      ]
    },
    {
      "cell_type": "markdown",
      "metadata": {
        "id": "5ktqJRmOVbY3"
      },
      "source": [
        "Do all the steps, like the examples in the book, first sorting the counted occurrences:\n",
        "\n",
        "| Char | # |\n",
        "|------|---|\n",
        "|   a  | 1 |\n",
        "|   h  | 1 |\n",
        "|   i  | 1 |\n",
        "|   n  | 1 |\n",
        "|   s  | 1 |\n",
        "|   e  | 2 |\n",
        "|   o  | 2 |\n",
        "|   r  | 2 |\n",
        "|   t  | 3 |"
      ]
    },
    {
      "cell_type": "markdown",
      "metadata": {
        "id": "BjOIgAZZVbY4"
      },
      "source": [
        "##### The ever-shrinking queue:"
      ]
    },
    {
      "cell_type": "markdown",
      "metadata": {
        "id": "LEVjSFE9VbY4"
      },
      "source": [
        "* a1 h1 i1 n1 s1 e2 o2 r2 t3\n",
        "* i1 n1 s1 e2 o2 r2 ah2 t3\n",
        "* s1 e2 o2 r2 ah2 in2 t3\n",
        "* o2 r2 ah2 in2 t3 se3\n",
        "* ah2 in2 t3 se3 or4\n",
        "* t3 se3 or4 ahin4\n",
        "* or4 ahin4 tse6\n",
        "* tse6 orahin8\n",
        "* tseorahin14"
      ]
    },
    {
      "cell_type": "markdown",
      "metadata": {
        "id": "ZeozgfOLVbY4"
      },
      "source": [
        "##### The Huffman Tree:"
      ]
    },
    {
      "cell_type": "code",
      "metadata": {
        "id": "-2FB2vHtVbY4",
        "colab": {
          "base_uri": "https://localhost:8080/",
          "height": 35
        },
        "outputId": "4925680c-7561-40fe-a9a5-5f4fba161913"
      },
      "source": [
        "'''\n",
        "    tseorahin14\n",
        "    /        \\\n",
        " tse6     orahin8\n",
        "  / \\      /    \\\n",
        "t3 se3   or4   ahin4\n",
        "   / \\   / \\    /   \\\n",
        "  s1 e2 o2 r2 ah2   in2\n",
        "              / \\   / \\\n",
        "             a1 h1 i1 n1\n",
        "'''"
      ],
      "execution_count": 87,
      "outputs": [
        {
          "output_type": "execute_result",
          "data": {
            "application/vnd.google.colaboratory.intrinsic+json": {
              "type": "string"
            },
            "text/plain": [
              "'\\n    tseorahin14\\n    /         tse6     orahin8\\n  / \\\\      /    t3 se3   or4   ahin4\\n   / \\\\   / \\\\    /     s1 e2 o2 r2 ah2   in2\\n              / \\\\   /              a1 h1 i1 n1\\n'"
            ]
          },
          "metadata": {
            "tags": []
          },
          "execution_count": 87
        }
      ]
    },
    {
      "cell_type": "markdown",
      "metadata": {
        "id": "Weh87t4iVbY6"
      },
      "source": [
        "##### The Code Tuples"
      ]
    },
    {
      "cell_type": "markdown",
      "metadata": {
        "id": "-uihVyZuVbY6"
      },
      "source": [
        "Read the codes from the tree:"
      ]
    },
    {
      "cell_type": "code",
      "metadata": {
        "id": "3J20ht-dVbY6",
        "colab": {
          "base_uri": "https://localhost:8080/"
        },
        "outputId": "791919b0-1fb1-4258-8889-c3f0d4670da9"
      },
      "source": [
        "message2_code_tuples = \\\n",
        "[('a', 1, '1100'),\n",
        " ('e', 2, '011'),\n",
        " ('h', 1, '1101'),\n",
        " ('i', 1, '1110'),\n",
        " ('n', 1, '1111'),\n",
        " ('o', 2, '100'),\n",
        " ('r', 2, '101'),\n",
        " ('s', 1, '010'),\n",
        " ('t', 3, '00'),\n",
        "]\n",
        "\n",
        "show_results(message2, message2_code_tuples)"
      ],
      "execution_count": 88,
      "outputs": [
        {
          "output_type": "stream",
          "text": [
            "          Total Characters: 14\n",
            "   Total Unique Characters: 9\n",
            "                Total Bits: 43\n",
            "Average Bits per Character: 3.07\n",
            "  Fixed Bits per Character: 4\n",
            "          Total Fixed Bits: 56\n",
            "         Compression Ratio: 0.232\n"
          ],
          "name": "stdout"
        },
        {
          "output_type": "execute_result",
          "data": {
            "text/plain": [
              "0.23214285714285715"
            ]
          },
          "metadata": {
            "tags": []
          },
          "execution_count": 88
        }
      ]
    },
    {
      "cell_type": "markdown",
      "metadata": {
        "id": "iNVsz1Pixjxg"
      },
      "source": [
        "### TODO Create Data Tree and Code"
      ]
    },
    {
      "cell_type": "markdown",
      "metadata": {
        "id": "5HGwfaArxmyg"
      },
      "source": [
        "More warmup for your Ponder and Prove assignment this week:\n",
        "\n",
        "Create a Huffman Tree and codes for the gaps between the first few prime (except for the gap of size 1 between 2 and 3). Your goal is to find how many is \"few\" enough to have a compression ratio **better than 24%**.\n"
      ]
    },
    {
      "cell_type": "markdown",
      "metadata": {
        "id": "jZQhy84V0g7k"
      },
      "source": [
        "#### Manual Attempts"
      ]
    },
    {
      "cell_type": "code",
      "metadata": {
        "colab": {
          "base_uri": "https://localhost:8080/"
        },
        "id": "7TBjHxPqx9WI",
        "outputId": "f733de1a-40c0-4afb-ee03-fed7c715ed09"
      },
      "source": [
        "from sympy import primerange\n",
        "\n",
        "list_of_gaps = []\n",
        "list_of_primes = []\n",
        "prev = 3\n",
        "gap = 0\n",
        "for prime in list(primerange(4, 150)):\n",
        "    list_of_primes.append(prime)\n",
        "    gap = prime - prev\n",
        "    #print(gap)\n",
        "    prev = prime\n",
        "    list_of_gaps.append(gap)\n",
        "\n",
        "print(list_of_gaps)\n",
        "print(f'2 occurs {list_of_gaps.count(2)} times')\n",
        "print(f'4 occurs {list_of_gaps.count(4)} times')\n",
        "print(f'6 occurs {list_of_gaps.count(6)} times')\n",
        "print(f'8 occurs {list_of_gaps.count(8)} times')\n",
        "print(f'10 occurs {list_of_gaps.count(10)} times')\n",
        "print(f'14 occurs {list_of_gaps.count(14)} times')"
      ],
      "execution_count": 89,
      "outputs": [
        {
          "output_type": "stream",
          "text": [
            "[2, 2, 4, 2, 4, 2, 4, 6, 2, 6, 4, 2, 4, 6, 6, 2, 6, 4, 2, 6, 4, 6, 8, 4, 2, 4, 2, 4, 14, 4, 6, 2, 10]\n",
            "2 occurs 11 times\n",
            "4 occurs 11 times\n",
            "6 occurs 8 times\n",
            "8 occurs 1 times\n",
            "10 occurs 1 times\n",
            "14 occurs 1 times\n"
          ],
          "name": "stdout"
        }
      ]
    },
    {
      "cell_type": "markdown",
      "metadata": {
        "id": "orVF-njp3o1w"
      },
      "source": [
        "Do all the steps, like the examples in the book, first sorting the counted occurrences:\r\n",
        "\r\n",
        "| Gap | # |\r\n",
        "|-----|---|\r\n",
        "|  2  | 8 |\r\n",
        "|  4  | 7 |\r\n",
        "|  6  | 7 |\r\n",
        "|  8  | 1 |\r\n",
        "\r\n",
        "| Gap | # |\r\n",
        "|-----|---|\r\n",
        "|  2  | 11|\r\n",
        "|  4  | 11|\r\n",
        "|  6  | 8 |\r\n",
        "|  8  | 1 |\r\n",
        "|  10 | 1 |\r\n",
        "|  14 | 1 |"
      ]
    },
    {
      "cell_type": "markdown",
      "metadata": {
        "id": "sO89U5Ir4dB3"
      },
      "source": [
        "* 8.1 6.7 4.7 2.8\r\n",
        "* 4.7 2.8 86.8\r\n",
        "* 86.8 42.15\r\n",
        "* 8642.23\r\n",
        "\r\n",
        "* 14.1 10.1 8.1 6.7 4.11 2.11\r\n",
        "* 8.1 1410.2 6.7 4.11 2.11\r\n",
        "* 81410.3 6.7 4.11 2.11\r\n",
        "* 814106.10 4.11 2.11\r\n",
        "* 8141064.21 2.11\r\n",
        "* 81410642.32\r\n"
      ]
    },
    {
      "cell_type": "code",
      "metadata": {
        "id": "64tK84VA5k8p",
        "colab": {
          "base_uri": "https://localhost:8080/",
          "height": 35
        },
        "outputId": "67514a23-5949-4195-89ac-a74498dbbd7d"
      },
      "source": [
        "'''\r\n",
        "     8642.23\r\n",
        "    /       \\\r\n",
        " 86.8       42.15\r\n",
        "  / \\      /    \\\r\n",
        "8.1 6.7   4.7   2.8\r\n",
        "'''\r\n",
        "\r\n",
        "'''\r\n",
        "     81410642.32\r\n",
        "       /        \\\r\n",
        "     8141064.21  2.11\r\n",
        "    /          \\ \r\n",
        "    814106.10   4.11\r\n",
        "    /        \\\r\n",
        "  81410.3     6.7\r\n",
        "  /      \\\r\n",
        "8.1      1410.2\r\n",
        "         /     \\\r\n",
        "      14.1     10.1\r\n",
        "'''"
      ],
      "execution_count": 90,
      "outputs": [
        {
          "output_type": "execute_result",
          "data": {
            "application/vnd.google.colaboratory.intrinsic+json": {
              "type": "string"
            },
            "text/plain": [
              "'\\n     81410642.32\\n       /             8141064.21  2.11\\n    /          \\\\ \\n    814106.10   4.11\\n    /          81410.3     6.7\\n  /      8.1      1410.2\\n         /           14.1     10.1\\n'"
            ]
          },
          "metadata": {
            "tags": []
          },
          "execution_count": 90
        }
      ]
    },
    {
      "cell_type": "code",
      "metadata": {
        "id": "iiwJ7rVd5s94",
        "colab": {
          "base_uri": "https://localhost:8080/"
        },
        "outputId": "b6fe66fa-9bbb-445f-e43c-0047b3f76912"
      },
      "source": [
        "# message3 = ''.join(str(e) for e in list_of_primes)\r\n",
        "message3 = list_of_gaps\r\n",
        "\r\n",
        "message3_code_tuples = \\\r\n",
        "[('8', 1, '00'),\r\n",
        " ('6', 7, '01'),\r\n",
        " ('4', 7, '10'),\r\n",
        " ('2', 8, '11'),\r\n",
        "]\r\n",
        "\r\n",
        "message4_code_tuples = \\\r\n",
        "[('14', 3, '00010'),\r\n",
        " ('10', 3, '00011'),\r\n",
        " ('8', 3, '0000'),\r\n",
        " ('6', 7, '001'),\r\n",
        " ('4', 11, '01'),\r\n",
        " ('2', 11, '1'),\r\n",
        "]\r\n",
        "\r\n",
        "show_results(message3, message3_code_tuples)\r\n",
        "print()\r\n",
        "show_results(message3, message4_code_tuples)"
      ],
      "execution_count": 91,
      "outputs": [
        {
          "output_type": "stream",
          "text": [
            "          Total Characters: 33\n",
            "   Total Unique Characters: 4\n",
            "                Total Bits: 46\n",
            "Average Bits per Character: 1.39\n",
            "  Fixed Bits per Character: 2\n",
            "          Total Fixed Bits: 66\n",
            "         Compression Ratio: 0.303\n",
            "\n",
            "          Total Characters: 33\n",
            "   Total Unique Characters: 6\n",
            "                Total Bits: 96\n",
            "Average Bits per Character: 2.91\n",
            "  Fixed Bits per Character: 3\n",
            "          Total Fixed Bits: 99\n",
            "         Compression Ratio: 0.030\n"
          ],
          "name": "stdout"
        },
        {
          "output_type": "execute_result",
          "data": {
            "text/plain": [
              "0.030303030303030304"
            ]
          },
          "metadata": {
            "tags": []
          },
          "execution_count": 91
        }
      ]
    },
    {
      "cell_type": "markdown",
      "metadata": {
        "id": "QgPd4erK0plu"
      },
      "source": [
        "#### Code Attempts"
      ]
    },
    {
      "cell_type": "markdown",
      "metadata": {
        "id": "-03e07q9_doj"
      },
      "source": [
        "##### I worked with Matthew Reed who was able to come up with this code to automatically create a Huffman tree with a given list of primes."
      ]
    },
    {
      "cell_type": "code",
      "metadata": {
        "colab": {
          "base_uri": "https://localhost:8080/"
        },
        "id": "50CowsQfy55M",
        "outputId": "011c9842-fa87-4212-bed4-dd4a44395a1b"
      },
      "source": [
        "# https://stackoverflow.com/questions/2600191/how-can-i-count-the-occurrences-of-a-list-item\r\n",
        "gap_count = [[list_of_gaps.count(x),x] for x in set(list_of_gaps)]\r\n",
        "gap_count"
      ],
      "execution_count": 92,
      "outputs": [
        {
          "output_type": "execute_result",
          "data": {
            "text/plain": [
              "[[11, 2], [11, 4], [8, 6], [1, 8], [1, 10], [1, 14]]"
            ]
          },
          "metadata": {
            "tags": []
          },
          "execution_count": 92
        }
      ]
    },
    {
      "cell_type": "code",
      "metadata": {
        "colab": {
          "base_uri": "https://localhost:8080/"
        },
        "id": "JRxcBYPYzNfz",
        "outputId": "de81c5e9-a8fd-4326-d450-a91e9d256ea3"
      },
      "source": [
        "gap_count.sort(key=lambda x: x[0])\r\n",
        "gap_count"
      ],
      "execution_count": 93,
      "outputs": [
        {
          "output_type": "execute_result",
          "data": {
            "text/plain": [
              "[[1, 8], [1, 10], [1, 14], [8, 6], [11, 2], [11, 4]]"
            ]
          },
          "metadata": {
            "tags": []
          },
          "execution_count": 93
        }
      ]
    },
    {
      "cell_type": "code",
      "metadata": {
        "colab": {
          "base_uri": "https://localhost:8080/"
        },
        "id": "XeRP6dXEzXBk",
        "outputId": "1b1ee8f3-5338-4a46-e7f7-28862654dde6"
      },
      "source": [
        "def es_queue(l):\r\n",
        "  l.sort(key=lambda x: x[0])\r\n",
        "  if len(l) == 1:\r\n",
        "    return l[0]\r\n",
        "  else:\r\n",
        "    return es_queue([[l[0][0] + l[1][0], [l[0],l[1]]]] + l[2:])\r\n",
        "\r\n",
        "tree = es_queue(gap_count)\r\n",
        "tree"
      ],
      "execution_count": 94,
      "outputs": [
        {
          "output_type": "execute_result",
          "data": {
            "text/plain": [
              "[33,\n",
              " [[11, 4],\n",
              "  [22, [[11, [[3, [[1, 14], [2, [[1, 8], [1, 10]]]]], [8, 6]]], [11, 2]]]]]"
            ]
          },
          "metadata": {
            "tags": []
          },
          "execution_count": 94
        }
      ]
    },
    {
      "cell_type": "code",
      "metadata": {
        "colab": {
          "base_uri": "https://localhost:8080/"
        },
        "id": "c28ly-XCz2fT",
        "outputId": "1997ad5d-07c4-4ec0-c3ee-e05e5a2bb4ee"
      },
      "source": [
        "def get_tuples(l, path=''):\r\n",
        "  tuples = []\r\n",
        "  if type(l[1]) is list:\r\n",
        "    tuples = tuples + get_tuples(l[1][0], path+'0')\r\n",
        "    tuples = tuples + get_tuples(l[1][1], path+'1')\r\n",
        "    return tuples\r\n",
        "  else:\r\n",
        "    return [(l[1], l[0], path)]\r\n",
        "\r\n",
        "gap_tuples = get_tuples(tree)\r\n",
        "gap_tuples"
      ],
      "execution_count": 95,
      "outputs": [
        {
          "output_type": "execute_result",
          "data": {
            "text/plain": [
              "[(4, 11, '0'),\n",
              " (14, 1, '1000'),\n",
              " (8, 1, '10010'),\n",
              " (10, 1, '10011'),\n",
              " (6, 8, '101'),\n",
              " (2, 11, '11')]"
            ]
          },
          "metadata": {
            "tags": []
          },
          "execution_count": 95
        }
      ]
    },
    {
      "cell_type": "code",
      "metadata": {
        "colab": {
          "base_uri": "https://localhost:8080/"
        },
        "id": "lgGhQvpL--w-",
        "outputId": "00497f3d-fa21-491f-a596-d0e39fb85b03"
      },
      "source": [
        "show_results(list_of_gaps, gap_tuples)"
      ],
      "execution_count": 96,
      "outputs": [
        {
          "output_type": "stream",
          "text": [
            "          Total Characters: 33\n",
            "   Total Unique Characters: 6\n",
            "                Total Bits: 71\n",
            "Average Bits per Character: 2.15\n",
            "  Fixed Bits per Character: 3\n",
            "          Total Fixed Bits: 99\n",
            "         Compression Ratio: 0.283\n"
          ],
          "name": "stdout"
        },
        {
          "output_type": "execute_result",
          "data": {
            "text/plain": [
              "0.2828282828282828"
            ]
          },
          "metadata": {
            "tags": []
          },
          "execution_count": 96
        }
      ]
    },
    {
      "cell_type": "code",
      "metadata": {
        "id": "jrpAdp_BArCr"
      },
      "source": [
        ""
      ],
      "execution_count": null,
      "outputs": []
    },
    {
      "cell_type": "markdown",
      "metadata": {
        "id": "_HLTpTmY00uE"
      },
      "source": [
        "##### I will now insert my own code that utilizes Matthew's code to run through various lengths of prime numbers to find the cases in which a huffman tree can provide a 24% or better compression ratio."
      ]
    },
    {
      "cell_type": "code",
      "metadata": {
        "colab": {
          "base_uri": "https://localhost:8080/"
        },
        "id": "KPA8fLE71PGM",
        "outputId": "a445932f-184f-4a21-e17a-ccded7b2e14b"
      },
      "source": [
        "# I will start by using the provided code to give me a starting list.\r\n",
        "# But it will be extended to include prime numbers up to 350.\r\n",
        "\r\n",
        "list_of_gaps = []\r\n",
        "list_of_primes = []\r\n",
        "prev = 3\r\n",
        "gap = 0\r\n",
        "for prime in list(primerange(4, 351)):\r\n",
        "  list_of_primes.append(prime)\r\n",
        "  gap = prime - prev\r\n",
        "  prev = prime\r\n",
        "  list_of_gaps.append(gap)\r\n",
        "\r\n",
        "print(list_of_primes)\r\n",
        "print(list_of_gaps)\r\n",
        "print(len(list_of_gaps))"
      ],
      "execution_count": 97,
      "outputs": [
        {
          "output_type": "stream",
          "text": [
            "[5, 7, 11, 13, 17, 19, 23, 29, 31, 37, 41, 43, 47, 53, 59, 61, 67, 71, 73, 79, 83, 89, 97, 101, 103, 107, 109, 113, 127, 131, 137, 139, 149, 151, 157, 163, 167, 173, 179, 181, 191, 193, 197, 199, 211, 223, 227, 229, 233, 239, 241, 251, 257, 263, 269, 271, 277, 281, 283, 293, 307, 311, 313, 317, 331, 337, 347, 349]\n",
            "[2, 2, 4, 2, 4, 2, 4, 6, 2, 6, 4, 2, 4, 6, 6, 2, 6, 4, 2, 6, 4, 6, 8, 4, 2, 4, 2, 4, 14, 4, 6, 2, 10, 2, 6, 6, 4, 6, 6, 2, 10, 2, 4, 2, 12, 12, 4, 2, 4, 6, 2, 10, 6, 6, 6, 2, 6, 4, 2, 10, 14, 4, 2, 4, 14, 6, 10, 2]\n",
            "68\n"
          ],
          "name": "stdout"
        }
      ]
    },
    {
      "cell_type": "code",
      "metadata": {
        "colab": {
          "base_uri": "https://localhost:8080/"
        },
        "id": "RKkRneOo1lZU",
        "outputId": "00c99b96-10ee-42ed-90c4-27c5da9874d3"
      },
      "source": [
        "# I will create a tree for each size of the gap list starting at size 3 where binary options begin\r\n",
        "# I also altered the show_results function to actually return the compression ratio\r\n",
        "\r\n",
        "ratios = {}\r\n",
        "for index in range(3, len(list_of_gaps) + 1):\r\n",
        "  gaps = list_of_gaps[:index]\r\n",
        "  gap_counts = [[gaps.count(x),x] for x in set(gaps)]\r\n",
        "  tree = es_queue(gap_counts)\r\n",
        "  tuples = get_tuples(tree)\r\n",
        "  ratios[index] = show_results(gaps, tuples)"
      ],
      "execution_count": 98,
      "outputs": [
        {
          "output_type": "stream",
          "text": [
            "          Total Characters: 3\n",
            "   Total Unique Characters: 2\n",
            "                Total Bits: 3\n",
            "Average Bits per Character: 1.00\n",
            "  Fixed Bits per Character: 1\n",
            "          Total Fixed Bits: 3\n",
            "         Compression Ratio: 0.000\n",
            "          Total Characters: 4\n",
            "   Total Unique Characters: 2\n",
            "                Total Bits: 4\n",
            "Average Bits per Character: 1.00\n",
            "  Fixed Bits per Character: 1\n",
            "          Total Fixed Bits: 4\n",
            "         Compression Ratio: 0.000\n",
            "          Total Characters: 5\n",
            "   Total Unique Characters: 2\n",
            "                Total Bits: 5\n",
            "Average Bits per Character: 1.00\n",
            "  Fixed Bits per Character: 1\n",
            "          Total Fixed Bits: 5\n",
            "         Compression Ratio: 0.000\n",
            "          Total Characters: 6\n",
            "   Total Unique Characters: 2\n",
            "                Total Bits: 6\n",
            "Average Bits per Character: 1.00\n",
            "  Fixed Bits per Character: 1\n",
            "          Total Fixed Bits: 6\n",
            "         Compression Ratio: 0.000\n",
            "          Total Characters: 7\n",
            "   Total Unique Characters: 2\n",
            "                Total Bits: 7\n",
            "Average Bits per Character: 1.00\n",
            "  Fixed Bits per Character: 1\n",
            "          Total Fixed Bits: 7\n",
            "         Compression Ratio: 0.000\n",
            "          Total Characters: 8\n",
            "   Total Unique Characters: 3\n",
            "                Total Bits: 12\n",
            "Average Bits per Character: 1.50\n",
            "  Fixed Bits per Character: 2\n",
            "          Total Fixed Bits: 16\n",
            "         Compression Ratio: 0.250\n",
            "          Total Characters: 9\n",
            "   Total Unique Characters: 3\n",
            "                Total Bits: 13\n",
            "Average Bits per Character: 1.44\n",
            "  Fixed Bits per Character: 2\n",
            "          Total Fixed Bits: 18\n",
            "         Compression Ratio: 0.278\n",
            "          Total Characters: 10\n",
            "   Total Unique Characters: 3\n",
            "                Total Bits: 15\n",
            "Average Bits per Character: 1.50\n",
            "  Fixed Bits per Character: 2\n",
            "          Total Fixed Bits: 20\n",
            "         Compression Ratio: 0.250\n",
            "          Total Characters: 11\n",
            "   Total Unique Characters: 3\n",
            "                Total Bits: 17\n",
            "Average Bits per Character: 1.55\n",
            "  Fixed Bits per Character: 2\n",
            "          Total Fixed Bits: 22\n",
            "         Compression Ratio: 0.227\n",
            "          Total Characters: 12\n",
            "   Total Unique Characters: 3\n",
            "                Total Bits: 18\n",
            "Average Bits per Character: 1.50\n",
            "  Fixed Bits per Character: 2\n",
            "          Total Fixed Bits: 24\n",
            "         Compression Ratio: 0.250\n",
            "          Total Characters: 13\n",
            "   Total Unique Characters: 3\n",
            "                Total Bits: 20\n",
            "Average Bits per Character: 1.54\n",
            "  Fixed Bits per Character: 2\n",
            "          Total Fixed Bits: 26\n",
            "         Compression Ratio: 0.231\n",
            "          Total Characters: 14\n",
            "   Total Unique Characters: 3\n",
            "                Total Bits: 22\n",
            "Average Bits per Character: 1.57\n",
            "  Fixed Bits per Character: 2\n",
            "          Total Fixed Bits: 28\n",
            "         Compression Ratio: 0.214\n",
            "          Total Characters: 15\n",
            "   Total Unique Characters: 3\n",
            "                Total Bits: 24\n",
            "Average Bits per Character: 1.60\n",
            "  Fixed Bits per Character: 2\n",
            "          Total Fixed Bits: 30\n",
            "         Compression Ratio: 0.200\n",
            "          Total Characters: 16\n",
            "   Total Unique Characters: 3\n",
            "                Total Bits: 25\n",
            "Average Bits per Character: 1.56\n",
            "  Fixed Bits per Character: 2\n",
            "          Total Fixed Bits: 32\n",
            "         Compression Ratio: 0.219\n",
            "          Total Characters: 17\n",
            "   Total Unique Characters: 3\n",
            "                Total Bits: 27\n",
            "Average Bits per Character: 1.59\n",
            "  Fixed Bits per Character: 2\n",
            "          Total Fixed Bits: 34\n",
            "         Compression Ratio: 0.206\n",
            "          Total Characters: 18\n",
            "   Total Unique Characters: 3\n",
            "                Total Bits: 29\n",
            "Average Bits per Character: 1.61\n",
            "  Fixed Bits per Character: 2\n",
            "          Total Fixed Bits: 36\n",
            "         Compression Ratio: 0.194\n",
            "          Total Characters: 19\n",
            "   Total Unique Characters: 3\n",
            "                Total Bits: 30\n",
            "Average Bits per Character: 1.58\n",
            "  Fixed Bits per Character: 2\n",
            "          Total Fixed Bits: 38\n",
            "         Compression Ratio: 0.211\n",
            "          Total Characters: 20\n",
            "   Total Unique Characters: 3\n",
            "                Total Bits: 32\n",
            "Average Bits per Character: 1.60\n",
            "  Fixed Bits per Character: 2\n",
            "          Total Fixed Bits: 40\n",
            "         Compression Ratio: 0.200\n",
            "          Total Characters: 21\n",
            "   Total Unique Characters: 3\n",
            "                Total Bits: 34\n",
            "Average Bits per Character: 1.62\n",
            "  Fixed Bits per Character: 2\n",
            "          Total Fixed Bits: 42\n",
            "         Compression Ratio: 0.190\n",
            "          Total Characters: 22\n",
            "   Total Unique Characters: 3\n",
            "                Total Bits: 36\n",
            "Average Bits per Character: 1.64\n",
            "  Fixed Bits per Character: 2\n",
            "          Total Fixed Bits: 44\n",
            "         Compression Ratio: 0.182\n",
            "          Total Characters: 23\n",
            "   Total Unique Characters: 4\n",
            "                Total Bits: 46\n",
            "Average Bits per Character: 2.00\n",
            "  Fixed Bits per Character: 2\n",
            "          Total Fixed Bits: 46\n",
            "         Compression Ratio: 0.000\n",
            "          Total Characters: 24\n",
            "   Total Unique Characters: 4\n",
            "                Total Bits: 48\n",
            "Average Bits per Character: 2.00\n",
            "  Fixed Bits per Character: 2\n",
            "          Total Fixed Bits: 48\n",
            "         Compression Ratio: 0.000\n",
            "          Total Characters: 25\n",
            "   Total Unique Characters: 4\n",
            "                Total Bits: 49\n",
            "Average Bits per Character: 1.96\n",
            "  Fixed Bits per Character: 2\n",
            "          Total Fixed Bits: 50\n",
            "         Compression Ratio: 0.020\n",
            "          Total Characters: 26\n",
            "   Total Unique Characters: 4\n",
            "                Total Bits: 51\n",
            "Average Bits per Character: 1.96\n",
            "  Fixed Bits per Character: 2\n",
            "          Total Fixed Bits: 52\n",
            "         Compression Ratio: 0.019\n",
            "          Total Characters: 27\n",
            "   Total Unique Characters: 4\n",
            "                Total Bits: 52\n",
            "Average Bits per Character: 1.93\n",
            "  Fixed Bits per Character: 2\n",
            "          Total Fixed Bits: 54\n",
            "         Compression Ratio: 0.037\n",
            "          Total Characters: 28\n",
            "   Total Unique Characters: 4\n",
            "                Total Bits: 54\n",
            "Average Bits per Character: 1.93\n",
            "  Fixed Bits per Character: 2\n",
            "          Total Fixed Bits: 56\n",
            "         Compression Ratio: 0.036\n",
            "          Total Characters: 29\n",
            "   Total Unique Characters: 5\n",
            "                Total Bits: 59\n",
            "Average Bits per Character: 2.03\n",
            "  Fixed Bits per Character: 3\n",
            "          Total Fixed Bits: 87\n",
            "         Compression Ratio: 0.322\n",
            "          Total Characters: 30\n",
            "   Total Unique Characters: 5\n",
            "                Total Bits: 60\n",
            "Average Bits per Character: 2.00\n",
            "  Fixed Bits per Character: 3\n",
            "          Total Fixed Bits: 90\n",
            "         Compression Ratio: 0.333\n",
            "          Total Characters: 31\n",
            "   Total Unique Characters: 5\n",
            "                Total Bits: 63\n",
            "Average Bits per Character: 2.03\n",
            "  Fixed Bits per Character: 3\n",
            "          Total Fixed Bits: 93\n",
            "         Compression Ratio: 0.323\n",
            "          Total Characters: 32\n",
            "   Total Unique Characters: 5\n",
            "                Total Bits: 65\n",
            "Average Bits per Character: 2.03\n",
            "  Fixed Bits per Character: 3\n",
            "          Total Fixed Bits: 96\n",
            "         Compression Ratio: 0.323\n",
            "          Total Characters: 33\n",
            "   Total Unique Characters: 6\n",
            "                Total Bits: 71\n",
            "Average Bits per Character: 2.15\n",
            "  Fixed Bits per Character: 3\n",
            "          Total Fixed Bits: 99\n",
            "         Compression Ratio: 0.283\n",
            "          Total Characters: 34\n",
            "   Total Unique Characters: 6\n",
            "                Total Bits: 72\n",
            "Average Bits per Character: 2.12\n",
            "  Fixed Bits per Character: 3\n",
            "          Total Fixed Bits: 102\n",
            "         Compression Ratio: 0.294\n",
            "          Total Characters: 35\n",
            "   Total Unique Characters: 6\n",
            "                Total Bits: 75\n",
            "Average Bits per Character: 2.14\n",
            "  Fixed Bits per Character: 3\n",
            "          Total Fixed Bits: 105\n",
            "         Compression Ratio: 0.286\n",
            "          Total Characters: 36\n",
            "   Total Unique Characters: 6\n",
            "                Total Bits: 77\n",
            "Average Bits per Character: 2.14\n",
            "  Fixed Bits per Character: 3\n",
            "          Total Fixed Bits: 108\n",
            "         Compression Ratio: 0.287\n",
            "          Total Characters: 37\n",
            "   Total Unique Characters: 6\n",
            "                Total Bits: 79\n",
            "Average Bits per Character: 2.14\n",
            "  Fixed Bits per Character: 3\n",
            "          Total Fixed Bits: 111\n",
            "         Compression Ratio: 0.288\n",
            "          Total Characters: 38\n",
            "   Total Unique Characters: 6\n",
            "                Total Bits: 81\n",
            "Average Bits per Character: 2.13\n",
            "  Fixed Bits per Character: 3\n",
            "          Total Fixed Bits: 114\n",
            "         Compression Ratio: 0.289\n",
            "          Total Characters: 39\n",
            "   Total Unique Characters: 6\n",
            "                Total Bits: 83\n",
            "Average Bits per Character: 2.13\n",
            "  Fixed Bits per Character: 3\n",
            "          Total Fixed Bits: 117\n",
            "         Compression Ratio: 0.291\n",
            "          Total Characters: 40\n",
            "   Total Unique Characters: 6\n",
            "                Total Bits: 85\n",
            "Average Bits per Character: 2.12\n",
            "  Fixed Bits per Character: 3\n",
            "          Total Fixed Bits: 120\n",
            "         Compression Ratio: 0.292\n",
            "          Total Characters: 41\n",
            "   Total Unique Characters: 6\n",
            "                Total Bits: 88\n",
            "Average Bits per Character: 2.15\n",
            "  Fixed Bits per Character: 3\n",
            "          Total Fixed Bits: 123\n",
            "         Compression Ratio: 0.285\n",
            "          Total Characters: 42\n",
            "   Total Unique Characters: 6\n",
            "                Total Bits: 90\n",
            "Average Bits per Character: 2.14\n",
            "  Fixed Bits per Character: 3\n",
            "          Total Fixed Bits: 126\n",
            "         Compression Ratio: 0.286\n",
            "          Total Characters: 43\n",
            "   Total Unique Characters: 6\n",
            "                Total Bits: 92\n",
            "Average Bits per Character: 2.14\n",
            "  Fixed Bits per Character: 3\n",
            "          Total Fixed Bits: 129\n",
            "         Compression Ratio: 0.287\n",
            "          Total Characters: 44\n",
            "   Total Unique Characters: 6\n",
            "                Total Bits: 94\n",
            "Average Bits per Character: 2.14\n",
            "  Fixed Bits per Character: 3\n",
            "          Total Fixed Bits: 132\n",
            "         Compression Ratio: 0.288\n",
            "          Total Characters: 45\n",
            "   Total Unique Characters: 7\n",
            "                Total Bits: 100\n",
            "Average Bits per Character: 2.22\n",
            "  Fixed Bits per Character: 3\n",
            "          Total Fixed Bits: 135\n",
            "         Compression Ratio: 0.259\n",
            "          Total Characters: 46\n",
            "   Total Unique Characters: 7\n",
            "                Total Bits: 104\n",
            "Average Bits per Character: 2.26\n",
            "  Fixed Bits per Character: 3\n",
            "          Total Fixed Bits: 138\n",
            "         Compression Ratio: 0.246\n",
            "          Total Characters: 47\n",
            "   Total Unique Characters: 7\n",
            "                Total Bits: 106\n",
            "Average Bits per Character: 2.26\n",
            "  Fixed Bits per Character: 3\n",
            "          Total Fixed Bits: 141\n",
            "         Compression Ratio: 0.248\n",
            "          Total Characters: 48\n",
            "   Total Unique Characters: 7\n",
            "                Total Bits: 108\n",
            "Average Bits per Character: 2.25\n",
            "  Fixed Bits per Character: 3\n",
            "          Total Fixed Bits: 144\n",
            "         Compression Ratio: 0.250\n",
            "          Total Characters: 49\n",
            "   Total Unique Characters: 7\n",
            "                Total Bits: 110\n",
            "Average Bits per Character: 2.24\n",
            "  Fixed Bits per Character: 3\n",
            "          Total Fixed Bits: 147\n",
            "         Compression Ratio: 0.252\n",
            "          Total Characters: 50\n",
            "   Total Unique Characters: 7\n",
            "                Total Bits: 112\n",
            "Average Bits per Character: 2.24\n",
            "  Fixed Bits per Character: 3\n",
            "          Total Fixed Bits: 150\n",
            "         Compression Ratio: 0.253\n",
            "          Total Characters: 51\n",
            "   Total Unique Characters: 7\n",
            "                Total Bits: 114\n",
            "Average Bits per Character: 2.24\n",
            "  Fixed Bits per Character: 3\n",
            "          Total Fixed Bits: 153\n",
            "         Compression Ratio: 0.255\n",
            "          Total Characters: 52\n",
            "   Total Unique Characters: 7\n",
            "                Total Bits: 117\n",
            "Average Bits per Character: 2.25\n",
            "  Fixed Bits per Character: 3\n",
            "          Total Fixed Bits: 156\n",
            "         Compression Ratio: 0.250\n",
            "          Total Characters: 53\n",
            "   Total Unique Characters: 7\n",
            "                Total Bits: 119\n",
            "Average Bits per Character: 2.25\n",
            "  Fixed Bits per Character: 3\n",
            "          Total Fixed Bits: 159\n",
            "         Compression Ratio: 0.252\n",
            "          Total Characters: 54\n",
            "   Total Unique Characters: 7\n",
            "                Total Bits: 121\n",
            "Average Bits per Character: 2.24\n",
            "  Fixed Bits per Character: 3\n",
            "          Total Fixed Bits: 162\n",
            "         Compression Ratio: 0.253\n",
            "          Total Characters: 55\n",
            "   Total Unique Characters: 7\n",
            "                Total Bits: 123\n",
            "Average Bits per Character: 2.24\n",
            "  Fixed Bits per Character: 3\n",
            "          Total Fixed Bits: 165\n",
            "         Compression Ratio: 0.255\n",
            "          Total Characters: 56\n",
            "   Total Unique Characters: 7\n",
            "                Total Bits: 125\n",
            "Average Bits per Character: 2.23\n",
            "  Fixed Bits per Character: 3\n",
            "          Total Fixed Bits: 168\n",
            "         Compression Ratio: 0.256\n",
            "          Total Characters: 57\n",
            "   Total Unique Characters: 7\n",
            "                Total Bits: 127\n",
            "Average Bits per Character: 2.23\n",
            "  Fixed Bits per Character: 3\n",
            "          Total Fixed Bits: 171\n",
            "         Compression Ratio: 0.257\n",
            "          Total Characters: 58\n",
            "   Total Unique Characters: 7\n",
            "                Total Bits: 129\n",
            "Average Bits per Character: 2.22\n",
            "  Fixed Bits per Character: 3\n",
            "          Total Fixed Bits: 174\n",
            "         Compression Ratio: 0.259\n",
            "          Total Characters: 59\n",
            "   Total Unique Characters: 7\n",
            "                Total Bits: 131\n",
            "Average Bits per Character: 2.22\n",
            "  Fixed Bits per Character: 3\n",
            "          Total Fixed Bits: 177\n",
            "         Compression Ratio: 0.260\n",
            "          Total Characters: 60\n",
            "   Total Unique Characters: 7\n",
            "                Total Bits: 134\n",
            "Average Bits per Character: 2.23\n",
            "  Fixed Bits per Character: 3\n",
            "          Total Fixed Bits: 180\n",
            "         Compression Ratio: 0.256\n",
            "          Total Characters: 61\n",
            "   Total Unique Characters: 7\n",
            "                Total Bits: 139\n",
            "Average Bits per Character: 2.28\n",
            "  Fixed Bits per Character: 3\n",
            "          Total Fixed Bits: 183\n",
            "         Compression Ratio: 0.240\n",
            "          Total Characters: 62\n",
            "   Total Unique Characters: 7\n",
            "                Total Bits: 141\n",
            "Average Bits per Character: 2.27\n",
            "  Fixed Bits per Character: 3\n",
            "          Total Fixed Bits: 186\n",
            "         Compression Ratio: 0.242\n",
            "          Total Characters: 63\n",
            "   Total Unique Characters: 7\n",
            "                Total Bits: 143\n",
            "Average Bits per Character: 2.27\n",
            "  Fixed Bits per Character: 3\n",
            "          Total Fixed Bits: 189\n",
            "         Compression Ratio: 0.243\n",
            "          Total Characters: 64\n",
            "   Total Unique Characters: 7\n",
            "                Total Bits: 145\n",
            "Average Bits per Character: 2.27\n",
            "  Fixed Bits per Character: 3\n",
            "          Total Fixed Bits: 192\n",
            "         Compression Ratio: 0.245\n",
            "          Total Characters: 65\n",
            "   Total Unique Characters: 7\n",
            "                Total Bits: 149\n",
            "Average Bits per Character: 2.29\n",
            "  Fixed Bits per Character: 3\n",
            "          Total Fixed Bits: 195\n",
            "         Compression Ratio: 0.236\n",
            "          Total Characters: 66\n",
            "   Total Unique Characters: 7\n",
            "                Total Bits: 151\n",
            "Average Bits per Character: 2.29\n",
            "  Fixed Bits per Character: 3\n",
            "          Total Fixed Bits: 198\n",
            "         Compression Ratio: 0.237\n",
            "          Total Characters: 67\n",
            "   Total Unique Characters: 7\n",
            "                Total Bits: 154\n",
            "Average Bits per Character: 2.30\n",
            "  Fixed Bits per Character: 3\n",
            "          Total Fixed Bits: 201\n",
            "         Compression Ratio: 0.234\n",
            "          Total Characters: 68\n",
            "   Total Unique Characters: 7\n",
            "                Total Bits: 156\n",
            "Average Bits per Character: 2.29\n",
            "  Fixed Bits per Character: 3\n",
            "          Total Fixed Bits: 204\n",
            "         Compression Ratio: 0.235\n"
          ],
          "name": "stdout"
        }
      ]
    },
    {
      "cell_type": "code",
      "metadata": {
        "colab": {
          "base_uri": "https://localhost:8080/"
        },
        "id": "D9uNQxTA3DWd",
        "outputId": "462e6c02-24d8-4512-b5c6-58c2238de808"
      },
      "source": [
        "# Then I can display the results so I may easily come to my conclusion.\r\n",
        "\r\n",
        "for key in ratios:\r\n",
        "  print(f'{key}: {ratios[key]:.3f}')"
      ],
      "execution_count": 99,
      "outputs": [
        {
          "output_type": "stream",
          "text": [
            "3: 0.000\n",
            "4: 0.000\n",
            "5: 0.000\n",
            "6: 0.000\n",
            "7: 0.000\n",
            "8: 0.250\n",
            "9: 0.278\n",
            "10: 0.250\n",
            "11: 0.227\n",
            "12: 0.250\n",
            "13: 0.231\n",
            "14: 0.214\n",
            "15: 0.200\n",
            "16: 0.219\n",
            "17: 0.206\n",
            "18: 0.194\n",
            "19: 0.211\n",
            "20: 0.200\n",
            "21: 0.190\n",
            "22: 0.182\n",
            "23: 0.000\n",
            "24: 0.000\n",
            "25: 0.020\n",
            "26: 0.019\n",
            "27: 0.037\n",
            "28: 0.036\n",
            "29: 0.322\n",
            "30: 0.333\n",
            "31: 0.323\n",
            "32: 0.323\n",
            "33: 0.283\n",
            "34: 0.294\n",
            "35: 0.286\n",
            "36: 0.287\n",
            "37: 0.288\n",
            "38: 0.289\n",
            "39: 0.291\n",
            "40: 0.292\n",
            "41: 0.285\n",
            "42: 0.286\n",
            "43: 0.287\n",
            "44: 0.288\n",
            "45: 0.259\n",
            "46: 0.246\n",
            "47: 0.248\n",
            "48: 0.250\n",
            "49: 0.252\n",
            "50: 0.253\n",
            "51: 0.255\n",
            "52: 0.250\n",
            "53: 0.252\n",
            "54: 0.253\n",
            "55: 0.255\n",
            "56: 0.256\n",
            "57: 0.257\n",
            "58: 0.259\n",
            "59: 0.260\n",
            "60: 0.256\n",
            "61: 0.240\n",
            "62: 0.242\n",
            "63: 0.243\n",
            "64: 0.245\n",
            "65: 0.236\n",
            "66: 0.237\n",
            "67: 0.234\n",
            "68: 0.235\n"
          ],
          "name": "stdout"
        }
      ]
    },
    {
      "cell_type": "markdown",
      "metadata": {
        "id": "V7BqyPbZ8rJn"
      },
      "source": [
        "#### Conclusion"
      ]
    },
    {
      "cell_type": "markdown",
      "metadata": {
        "id": "l6XZM66V8vI9"
      },
      "source": [
        "In order to get a compression ratio **better than 24%** from a Huffman Tree of the list of the gaps between the first $n$ primes, excluding 2 and 3, you've just got to get lucky. There may be a simple answer to this question as it probably relates to how many different gap sizes are present in the list, but I have not been able to figure it out. For now, just print them all out and choose your favorite one."
      ]
    }
  ]
}