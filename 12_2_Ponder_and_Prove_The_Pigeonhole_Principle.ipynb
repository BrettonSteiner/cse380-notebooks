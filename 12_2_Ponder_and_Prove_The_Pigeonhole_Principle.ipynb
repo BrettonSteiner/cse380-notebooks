{
  "nbformat": 4,
  "nbformat_minor": 0,
  "metadata": {
    "colab": {
      "name": "12_2_Ponder_and_Prove_The_Pigeonhole_Principle.ipynb",
      "provenance": [],
      "include_colab_link": true
    },
    "kernelspec": {
      "name": "python3",
      "display_name": "Python 3"
    },
    "language_info": {
      "name": "python"
    }
  },
  "cells": [
    {
      "cell_type": "markdown",
      "metadata": {
        "id": "view-in-github",
        "colab_type": "text"
      },
      "source": [
        "<a href=\"https://colab.research.google.com/github/BrettonSteiner/cse380-notebooks/blob/master/12_2_Ponder_and_Prove_The_Pigeonhole_Principle.ipynb\" target=\"_parent\"><img src=\"https://colab.research.google.com/assets/colab-badge.svg\" alt=\"Open In Colab\"/></a>"
      ]
    },
    {
      "cell_type": "markdown",
      "metadata": {
        "id": "ivY_Ypmxx7Vm"
      },
      "source": [
        "# Ponder and Prove The Pigeonhole Principle\n",
        "## Due: Saturday, 27 March 2021"
      ]
    },
    {
      "cell_type": "markdown",
      "metadata": {
        "id": "zF2K38sxyH5Z"
      },
      "source": [
        "## Exploration"
      ]
    },
    {
      "cell_type": "markdown",
      "metadata": {
        "id": "uBgYLYK5yJzk"
      },
      "source": [
        "You are invited to explore some of the ramifications of the *Pigeonhole Principle*, a fascinating counting principle belonging to combinatorics.\n"
      ]
    },
    {
      "cell_type": "markdown",
      "metadata": {
        "id": "cIS4n3DpyXA1"
      },
      "source": [
        "### Requirements"
      ]
    },
    {
      "cell_type": "markdown",
      "metadata": {
        "id": "FqgealMfyZc8"
      },
      "source": [
        "Read Brother Kent Bessey's essay entitled *Pigeons and Pigeonholes*, think about and explore the topics therein, and write your response thereto.\n",
        "\n",
        "Include in your response a description of a discussion about this essay that you will have had with someone *not in the class* (nor in any of the STEM majors). This person can be a spouse, friend, roommate, or relative. The point is to find someone who is not mathematically strong, and has probably never heard of the Pigeonhole Principle, or combinatorics (or discrete mathematics) in general."
      ]
    },
    {
      "cell_type": "markdown",
      "metadata": {
        "id": "Xd5eokMZ99bm"
      },
      "source": [
        "#### Response"
      ]
    },
    {
      "cell_type": "markdown",
      "metadata": {
        "id": "0vBPZT6_9_a9"
      },
      "source": [
        "At first, I thought the pigeon principle was going to be a difficult thing to understand, but it is the opposite! I was easily able to follow Brother Bessey as he described it and presented examples. It is surprising how things of seemly little significance can hold proof of truths that we search for.\n",
        "\n",
        "The one thing that stood out to me the most was the exercise on page 40. After I solved it, I realized that it didn't matter what exactly the true and false statements were for each individual. I could swap any of them out for a different true or false statement and the results would be the same because when it comes down to calculating the pigeonholes, both ways will just be multiplying the total count by 2 due to their binary nature. I wonder if this can be used to find the existence of special truths that we don't think about in the first place. I can't find any specific examples through my thoughts, but I am sure this is important in some way. After all, what may seem like an unimportant coincidence could be a gateway to truth.\n",
        "\n",
        "When I first read about the certainty-not-chance feature of the pigeonhole principle I had to pause and think it through. There wasn't a lot of evidence to support this claim in the article other than just stating that it is a thing. But I was able to understand it as I thought it through. It is a pretty cool truth that I didn't realize before.\n",
        "\n",
        "Unfortunately, the pigeonhole principle only proves that a solution exists which leads me to the philosophical aspect of the pigeonhole principle. Even though I may not think this very important, it has huge ramifications in mathematics. Some problems are hopelessly complex and the idea of finding a solution may seem nearly impossible. Some may think there is no solution at all. With this principle, the existence of a solution can be proven, even though the solution itself hasn't been found.\n",
        "\n",
        "I discussed these ideas with my mom. She didn't seem surprised by the pigeon principle and seemed to understand it pretty easily. That may be because I used examples similar to Brother Bessey's in his article. She didn't seem to see the significance of being able to prove that a solution exists for a problem, but I suppose that is okay since she isn't a mathematician."
      ]
    },
    {
      "cell_type": "markdown",
      "metadata": {
        "id": "aPEEcqUGzFds"
      },
      "source": [
        "#### Copyright Note"
      ]
    },
    {
      "cell_type": "markdown",
      "metadata": {
        "id": "9EPgpQ0hzHr5"
      },
      "source": [
        "Brother Kent A. Bessey, Professor of Mathematics at BYU-Idaho, holds the copyright to this essay, which means:\n",
        "\n",
        "> All rights reserved (by him). Reproduced by permission (from him).\n",
        "Read-only. Please do not copy, print, transmit or save a copy of\n",
        "this work.\n",
        "\n",
        "He has authorized your temporary use of his work, which [you can find here](https://firstthreeodds.org/17657741833134731255/pigeons-and-pigeonholes.pdf)."
      ]
    },
    {
      "cell_type": "markdown",
      "metadata": {
        "id": "vRKIt3NOzkwH"
      },
      "source": [
        "### TODO Concretize the Abstract by Writing Some Code"
      ]
    },
    {
      "cell_type": "markdown",
      "metadata": {
        "id": "ngXSoVu3znIJ"
      },
      "source": [
        "Specifically, write some Python code to help you figure out the problem on page 40, which Brother Bessey prefaces by saying:\n",
        "\n",
        "> I leave it to the reader to verify the calculations for a final (albeit challenging) exercise ...!\n",
        "\n",
        "Include the results of your grappling with this problem, and note the two stubbed functions below that you must flesh out in order to verify the calculations and explain the hows and whys."
      ]
    },
    {
      "cell_type": "markdown",
      "metadata": {
        "id": "EBQNhzqGzzIF"
      },
      "source": [
        "#### Stub Code"
      ]
    },
    {
      "cell_type": "code",
      "metadata": {
        "id": "fCOUkHjqz10k"
      },
      "source": [
        "def calculate_number_of_possible_initials_including_middle_initial_if_any(n):\n",
        "  # YOUR CODE GOES HERE\n",
        "  return n * (n+1) * n \n",
        "\n",
        "def pigeonhole_from_pigeon(pigeon_represented_as_a_person_with_traits):\n",
        "  # YOUR CODE GOES HERE\n",
        "  # Get the initials\n",
        "  names = (pigeon_represented_as_a_person_with_traits['Name']).split()\n",
        "  initials = names[0][0].upper()\n",
        "  if len(names) == 3:\n",
        "    initials += names[1][0].upper() + names[2][0].upper()\n",
        "  else:\n",
        "    initials += ' ' + names[1][0].upper()\n",
        "\n",
        "  # Get the binaries\n",
        "  binaries = ''\n",
        "  binary_keys = list(filter(lambda key: key != 'Name', list(pigeon.keys())))\n",
        "  for key in binary_keys:\n",
        "    binaries += '1' if pigeon_represented_as_a_person_with_traits[key] else '0'\n",
        "\n",
        "  # Assert the string is exactly 10 characters long\n",
        "  string = initials + ':' + binaries\n",
        "  assert(len(string) == 10)\n",
        "\n",
        "  # Assert the cardinality of the combinations of the initials and binaries is over 1 million\n",
        "  cardinality = calculate_number_of_possible_initials_including_middle_initial_if_any(26) * 2 ** len(binary_keys)\n",
        "  # print(cardinality)\n",
        "  assert(cardinality > 1000000)\n",
        "\n",
        "  # Returns the string 'J D:111001'\n",
        "  return string"
      ],
      "execution_count": 4,
      "outputs": []
    },
    {
      "cell_type": "code",
      "metadata": {
        "id": "Ovgg8J-mQHhz",
        "colab": {
          "base_uri": "https://localhost:8080/"
        },
        "outputId": "9a68accc-a406-40a6-edd2-bbe5df7454e3"
      },
      "source": [
        "pigeon = {'Name': 'John Doe', 'LDS': True, 'Likes Cats': True, 'Born Before': True, 'Wears Contacts': False, 'Bites Fingernails': False, 'Lives Close': True}\n",
        "pigeonhole = pigeonhole_from_pigeon(pigeon)\n",
        "print(pigeonhole)"
      ],
      "execution_count": 5,
      "outputs": [
        {
          "output_type": "stream",
          "text": [
            "J D:111001\n"
          ],
          "name": "stdout"
        }
      ]
    },
    {
      "cell_type": "code",
      "metadata": {
        "id": "e5HLFA5S7rH5",
        "colab": {
          "base_uri": "https://localhost:8080/"
        },
        "outputId": "dce29c24-8cfb-4c20-8545-4e55a426813b"
      },
      "source": [
        "num_pigeonholes = 26 * 27 * 26 * 2 * 2 * 2 * 2 * 2 * 2\n",
        "# This is the population of Idaho found here: https://www.macrotrends.net/states/idaho/population\n",
        "num_pigeons = 1826913\n",
        "\n",
        "print(num_pigeons, num_pigeonholes, num_pigeons / num_pigeonholes)"
      ],
      "execution_count": 6,
      "outputs": [
        {
          "output_type": "stream",
          "text": [
            "1826913 1168128 1.5639664488823142\n"
          ],
          "name": "stdout"
        }
      ]
    },
    {
      "cell_type": "markdown",
      "metadata": {
        "id": "5ylU5WMZZM0D"
      },
      "source": [
        "It wasn't hard to solve the exercise given by Brother Bessey on page 40 of his article. It was pretty much just a repeat of the many examples that he gave, but with a little twist. Instead of just a single feature that people match on, there are several. Each of the initials has 26 possibilities (27 in the case of using a space for no middle name) and each of the true or false features has 2 possibilities. By multiplying all of the possibilities together, we get\n",
        "\n",
        "$26 * 27 * 26 * 2 * 2 * 2 * 2 * 2 * 2 = 1168128$\n",
        "\n",
        "And it was really easy to find the population of Idaho which is 1826913. Since there are more people of Idaho than \"pigeonhole\" possibilities, then there must be at least two people of Idaho who have exactly the same features."
      ]
    },
    {
      "cell_type": "markdown",
      "metadata": {
        "id": "JvMpIHMF0JuM"
      },
      "source": [
        "### TODO Find Applications of the Pigeonhole Principle"
      ]
    },
    {
      "cell_type": "markdown",
      "metadata": {
        "id": "9aicPoZG0Lbj"
      },
      "source": [
        "Especially in graph theory --- there are many!"
      ]
    },
    {
      "cell_type": "markdown",
      "metadata": {
        "id": "JSqUjEQyeqoO"
      },
      "source": [
        "[Pumping Lemma](https://en.wikipedia.org/wiki/Pumping_lemma_for_regular_languages) and [other](https://web.cs.hacettepe.edu.tr/~ozkahya/classes/bbm401/Lectures/Lec5ProveNonreg.pdf) [things](http://cs.tsu.edu/ghemri/CS248/ClassNotes/Non_Reg_Lang.pdf) which help determine what type of language we are looking at.\n",
        "\n",
        "A few more were mentioned [here](https://mathoverflow.net/questions/4279/interesting-applications-of-the-pigeonhole-principle), most of which relate to things I've never heard of before.\n",
        "\n",
        "And as for graph theory, we found [this source](https://d3gt.com/unit.html?pigeonhole) and [this source](http://web.stanford.edu/class/archive/cs/cs103/cs103.1184/lectures/11/Small11.pdf)."
      ]
    },
    {
      "cell_type": "markdown",
      "metadata": {
        "id": "81dbKwHenxnT"
      },
      "source": [
        "## TODO My Report on What I Did and What I Learned"
      ]
    },
    {
      "cell_type": "markdown",
      "metadata": {
        "id": "C8BeiIern33B"
      },
      "source": [
        "### Fun\n"
      ]
    },
    {
      "cell_type": "markdown",
      "metadata": {
        "id": "ElukRLoezyxd"
      },
      "source": [
        "I did have fun on this assignment, but not as much fun as I did on other assignments. I enjoyed learning about the pigeonhole principle and how it relates to proving the existence of things, but I wish we went into more depth in how it applies to real-world problems. Yes, we can prove that a certain number of people share a birthday in the Hart center, but how is that important in solving real problems?"
      ]
    },
    {
      "cell_type": "markdown",
      "metadata": {
        "id": "OzOkZ3son-u9"
      },
      "source": [
        "### New"
      ]
    },
    {
      "cell_type": "markdown",
      "metadata": {
        "id": "3-nYIdEUz4x5"
      },
      "source": [
        "I learned how the pigeonhole principle works and was quite surprised at how simple it is. I was starting to get used to learning complicated topics, so this took me by surprise.\n",
        "\n",
        "I think my favorite thing to learn was how the pigeonhole principle relates to graphs. I have it detailed in the \"Other\" section below. I think a lot of significance is involved in the pigeonhole principle and graphs. If I had more time, I would probably go and research this more to get a better understanding of how to apply it. After all, I am still wanting to understand how this can apply to significant real-world problems."
      ]
    },
    {
      "cell_type": "markdown",
      "metadata": {
        "id": "mJHvoj6GokaZ"
      },
      "source": [
        "### Meaningful\n"
      ]
    },
    {
      "cell_type": "markdown",
      "metadata": {
        "id": "XOxh3XFTz-6N"
      },
      "source": [
        "This is where I struggled the most with this assignment. I learned about the pigeonhole principle, but I do not understand why it is important or meaningful. Yeah, it is meaningful for mathematicians in proving solutions exist for extremely difficult problems, but how can I use it to my benefit? Is there such a connection? Again, I think this is hidden somewhere in its application to graphs, but I haven't figured it out, yet. Hopefully, figuring this out will help build upon my understanding of graphs."
      ]
    },
    {
      "cell_type": "markdown",
      "metadata": {
        "id": "_RBE03fhpNUG"
      },
      "source": [
        "### Other"
      ]
    },
    {
      "cell_type": "markdown",
      "metadata": {
        "id": "d-sXEeq60C3W"
      },
      "source": [
        "I worked with Clair Hocker, Daniel Strickland, and Hannah Parker on this assignment. I wrote the pigeonhole_from_pigeon() function. Claire asked the class for clarification on the first function and got feedback from Brother Neff. Also, that is how we know we did it right. Hannah and Daniel worked to find applications for the pigeonhole principle.\n",
        "\n",
        "I was able to make a connection between the Pigeon Principle and graphs! The nodes can be the pigeonholes and the links are the pigeons. I can use the same logic to determine if there is a node with at least $n$ links connecting to it or not (assuming it is an undirected graph). For example, say I have a graph with 5 nodes and 6 links. I can know for certain that there exists a node with at last 2 links in that graph. This is pretty much exactly like the example that Brother Bessey gave in his article with the acquaintance relationship with people at a party.\n",
        "\n",
        "I ran all of my responses through Grammarly to fix mechanical infelicities."
      ]
    },
    {
      "cell_type": "markdown",
      "metadata": {
        "id": "Nrk-8EmgW4NP"
      },
      "source": [
        "## TODO What is True?\n",
        "Click on each warranted checkbox to toggle it to True (or back to False). \n",
        "\n",
        "NOTE: *This only works in Colab. If you run it in some other Jupyter notebook client/server environment you may have to change False to True (or vice versa) manually.*\n",
        "\n",
        "This self-assessment is subject to revision by a grader."
      ]
    },
    {
      "cell_type": "code",
      "metadata": {
        "id": "qGAjzgVRXR4M"
      },
      "source": [
        "#@markdown ## What is True about what I did?\n",
        "#@markdown ### I had fun.\n",
        "cb00 = True #@param {type:'boolean'}\n",
        "#@markdown ### I learned something new.\n",
        "cb01 = True #@param {type:'boolean'}\n",
        "#@markdown ### I achieved something meaningful, or something I can build upon at a later time.\n",
        "cb02 = True #@param {type:'boolean'}\n",
        "#@markdown ## What is True about my report?\n",
        "#@markdown ### I wrote a sufficient number of well-written sentences.\n",
        "cb03 = True #@param {type:'boolean'}\n",
        "#@markdown ### My report is free of mechanical infelicities.\n",
        "cb04 = True #@param {type:'boolean'}\n",
        "#@markdown ### I used Grammarly (or something better described in my report) to check for MIs.\n",
        "cb05 = True #@param {type:'boolean'}\n",
        "#@markdown ### I reported on any connections I found between these problems and something I already know. \n",
        "cb06 = True #@param {type:'boolean'}\n",
        "#@markdown ### I reported who were and what contribution each of my collaborators made.\n",
        "cb07 = True #@param {type:'boolean'}\n",
        "#@markdown ### I reported what I thought about the essay in general.\n",
        "cb08 = True #@param {type:'boolean'}\n",
        "#@markdown ### I reported what I thought about the certainty-not-chance feature of the pigeonhole principle.\n",
        "cb09 = True #@param {type:'boolean'}\n",
        "#@markdown ### I reported what I thought about the philosophical aspect of the pigeonhole principle per page 41.\n",
        "cb10 = True #@param {type:'boolean'}\n",
        "#@markdown ### I reported on how my discussion with a non-STEM non-classmate went.\n",
        "cb11 = True #@param {type:'boolean'}\n",
        "#@markdown ### I reported on how I grappled with the problem at the bottom of page 40.\n",
        "cb12 = True #@param {type:'boolean'}\n",
        "#@markdown ### I reported on the connection I found between the pigeonhole principle and graphs.\n",
        "cb13 = True #@param {type:'boolean'}\n",
        "#@markdown ## What is True about my code?\n",
        "#@markdown ### I implemented the first function (the one with the absurdly long name) in one or two lines of code.\n",
        "cb14 = True #@param {type:'boolean'}\n",
        "#@markdown ### I used either the sum rule and product rule together or else just the product rule in the first function.\n",
        "cb15 = True #@param {type:'boolean'}\n",
        "#@markdown ### The first function calculates and returns the correct value (see Exercise 250).\n",
        "cb16 = True #@param {type:'boolean'}\n",
        "#@markdown ### The second function inputs a dictionary like {'Name': 'John Doe', 'LDS': True, 'Likes Cats': True, 'Born Before': True, 'Wears Contacts': False, 'Bites Fingernails': False, 'Lives Close': True} and returns the string 'J D:111001'.\n",
        "cb17 = True #@param {type:'boolean'}\n",
        "#@markdown ### The second function calls the first function with the appropriate argument and uses the result.\n",
        "cb18 = True #@param {type:'boolean'}\n",
        "#@markdown ### The second function includes an assert that the length of the string being returned is 10.\n",
        "cb19 = True #@param {type:'boolean'}\n",
        "#@markdown ### The second function includes an assert that the cardinality of its codomain (set of possible return values) is over a million.\n",
        "cb20 = True #@param {type:'boolean'}"
      ],
      "execution_count": 7,
      "outputs": []
    }
  ]
}