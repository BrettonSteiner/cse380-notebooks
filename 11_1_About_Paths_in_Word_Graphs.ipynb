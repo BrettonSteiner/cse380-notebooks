{
  "nbformat": 4,
  "nbformat_minor": 0,
  "metadata": {
    "colab": {
      "name": "11_1_About_Paths_in_Word_Graphs.ipynb",
      "provenance": [],
      "include_colab_link": true
    },
    "kernelspec": {
      "name": "python3",
      "display_name": "Python 3"
    }
  },
  "cells": [
    {
      "cell_type": "markdown",
      "metadata": {
        "id": "view-in-github",
        "colab_type": "text"
      },
      "source": [
        "<a href=\"https://colab.research.google.com/github/BrettonSteiner/cse380-notebooks/blob/master/11_1_About_Paths_in_Word_Graphs.ipynb\" target=\"_parent\"><img src=\"https://colab.research.google.com/assets/colab-badge.svg\" alt=\"Open In Colab\"/></a>"
      ]
    },
    {
      "cell_type": "markdown",
      "metadata": {
        "id": "bdAeTh17kn01"
      },
      "source": [
        "# About Paths in Word Graphs\n",
        "## Divide Pair Conquer\n",
        "### Due: Monday, 15 March 2021, 11:59 pm"
      ]
    },
    {
      "cell_type": "markdown",
      "metadata": {
        "id": "XJHGM9eQkwxH"
      },
      "source": [
        "## Definition"
      ]
    },
    {
      "cell_type": "markdown",
      "metadata": {
        "id": "GM3LBOlNkzid"
      },
      "source": [
        "Word graphs are like those in Exercise 381, the nodes are words, the links are between words that differ by only one letter in the same position (e.g., **wind** and **wins** differ in the fourth letter only, so that defines a link. But **dine** and **tone** differ in the first and second letters, so no link there)."
      ]
    },
    {
      "cell_type": "markdown",
      "metadata": {
        "id": "YxO6SnVXoFWY"
      },
      "source": [
        "## TODO Find Short Paths"
      ]
    },
    {
      "cell_type": "markdown",
      "metadata": {
        "id": "pASpYbc-oGns"
      },
      "source": [
        "**Without** looking online at any of the 5 billion web sites devoted to this problem, create a graph representation using the following \"universe\" of words:"
      ]
    },
    {
      "cell_type": "code",
      "metadata": {
        "id": "JPLq4YOJoLab",
        "outputId": "f1883218-4e14-45c9-edad-1546efa84d33",
        "colab": {
          "base_uri": "https://localhost:8080/"
        }
      },
      "source": [
        "import json, urllib.request\n",
        "# word list comes from here: https://github.com/dwyl/english-words\n",
        "url = \"https://raw.githubusercontent.com/dwyl/english-words/master/words_dictionary.json\"\n",
        "with urllib.request.urlopen(url) as f: \n",
        "  words = json.loads(f.read())\n",
        "  print('toust' in words)"
      ],
      "execution_count": 58,
      "outputs": [
        {
          "output_type": "stream",
          "text": [
            "True\n"
          ],
          "name": "stdout"
        }
      ]
    },
    {
      "cell_type": "markdown",
      "metadata": {
        "id": "THnbd22gocyt"
      },
      "source": [
        "Find by hand the shortest paths for as many of the following endpoints as you can. Or, if you have time, write code to find these paths:"
      ]
    },
    {
      "cell_type": "code",
      "metadata": {
        "id": "0INtopRGw66n",
        "outputId": "326d0bb0-f120-466f-fac3-4924d4ae256c",
        "colab": {
          "base_uri": "https://localhost:8080/"
        }
      },
      "source": [
        "# I wrote this code to help us find words we could use\r\n",
        "# I did not look up anything to solve this problem specifically, but I did look up python code which could sift through possible words.\r\n",
        "# My source: https://stackoverflow.com/questions/52393441/simpler-way-to-get-the-list-of-words-that-has-only-1-letter-difference-python/52393691\r\n",
        "with urllib.request.urlopen(url) as f: \r\n",
        "  wordList = json.loads(f.read())\r\n",
        "  word = 'trest'\r\n",
        "  words = [w for w in wordList if sum(a!=b for a,b in zip(word,w)) == 1 and len(w) == len(word)]\r\n",
        "  print(words)"
      ],
      "execution_count": 60,
      "outputs": [
        {
          "output_type": "stream",
          "text": [
            "['arest', 'brest', 'crest', 'drest', 'prest', 'teest', 'treat', 'trent', 'tress', 'trist', 'tryst', 'trust', 'wrest']\n"
          ],
          "name": "stdout"
        }
      ]
    },
    {
      "cell_type": "markdown",
      "metadata": {
        "id": "sir5gH7cpQFB"
      },
      "source": [
        "### From \"dry\" to \"wet\""
      ]
    },
    {
      "cell_type": "markdown",
      "metadata": {
        "id": "tXoZiV9xtnvO"
      },
      "source": [
        "dry\n",
        "day\n",
        "way\n",
        "wad\n",
        "wed\n",
        "wet"
      ]
    },
    {
      "cell_type": "markdown",
      "metadata": {
        "id": "b6V-ITRMpRvE"
      },
      "source": [
        "### From \"read\" to \"ride\""
      ]
    },
    {
      "cell_type": "markdown",
      "metadata": {
        "id": "xWFsSyIiwTTp"
      },
      "source": [
        "read rend rind rine ride"
      ]
    },
    {
      "cell_type": "markdown",
      "metadata": {
        "id": "uLOTZRAVpVKF"
      },
      "source": [
        "### From \"fish\" to \"fowl\""
      ]
    },
    {
      "cell_type": "markdown",
      "metadata": {
        "id": "lgcvsR_qwxNY"
      },
      "source": [
        "fish fise file fole foll fowl"
      ]
    },
    {
      "cell_type": "markdown",
      "metadata": {
        "id": "cm0_qn79pWaZ"
      },
      "source": [
        "### From \"hate\" to \"love\""
      ]
    },
    {
      "cell_type": "markdown",
      "metadata": {
        "id": "8Uh64Mu7yJvB"
      },
      "source": [
        "hate have lave love"
      ]
    },
    {
      "cell_type": "markdown",
      "metadata": {
        "id": "bwsoOSr2pXsI"
      },
      "source": [
        "### From \"head\" to \"feet\""
      ]
    },
    {
      "cell_type": "markdown",
      "metadata": {
        "id": "Z4PXmCfvyPFJ"
      },
      "source": [
        "head heat feat feet"
      ]
    },
    {
      "cell_type": "markdown",
      "metadata": {
        "id": "tYmmwLDApY-a"
      },
      "source": [
        "### From \"poor\" to \"rich\""
      ]
    },
    {
      "cell_type": "markdown",
      "metadata": {
        "id": "LtFkrdq-ySsw"
      },
      "source": [
        "poor poot root riot rist rise rice rich"
      ]
    },
    {
      "cell_type": "markdown",
      "metadata": {
        "id": "hvEyvK3ypaR5"
      },
      "source": [
        "### From \"sick\" to \"well\""
      ]
    },
    {
      "cell_type": "markdown",
      "metadata": {
        "id": "XabUkysjziwX"
      },
      "source": [
        "sick silk sill sell well"
      ]
    },
    {
      "cell_type": "markdown",
      "metadata": {
        "id": "2KzWkpn3pb2H"
      },
      "source": [
        "### From \"warm\" to \"cold\""
      ]
    },
    {
      "cell_type": "markdown",
      "metadata": {
        "id": "eb6kizilzu0u"
      },
      "source": [
        "warm ward word cord cold"
      ]
    },
    {
      "cell_type": "markdown",
      "metadata": {
        "id": "nriebmvRpg9m"
      },
      "source": [
        "### From \"work\" to \"play\""
      ]
    },
    {
      "cell_type": "markdown",
      "metadata": {
        "id": "HA6qD5Kzz4qv"
      },
      "source": [
        "work woak woad goad glad blad blay play"
      ]
    },
    {
      "cell_type": "markdown",
      "metadata": {
        "id": "Bn1gMDAvpidg"
      },
      "source": [
        "### From \"bane\" to \"boon\""
      ]
    },
    {
      "cell_type": "markdown",
      "metadata": {
        "id": "O52CZKBg1rdH"
      },
      "source": [
        "bane bone bond bood boon"
      ]
    },
    {
      "cell_type": "markdown",
      "metadata": {
        "id": "iZ0UQQBGpjvy"
      },
      "source": [
        "### From \"black\" to \"white\""
      ]
    },
    {
      "cell_type": "markdown",
      "metadata": {
        "id": "-w0Z2Usi4cJP"
      },
      "source": [
        "black blick brick brisk brist wrist whist whiss whits white"
      ]
    },
    {
      "cell_type": "markdown",
      "metadata": {
        "id": "PUhtca6YplBL"
      },
      "source": [
        "### From \"bread\" to \"toast\""
      ]
    },
    {
      "cell_type": "markdown",
      "metadata": {
        "id": "VsGzKH3p4nAP"
      },
      "source": [
        "bread tread treat trest trust toust toast"
      ]
    },
    {
      "cell_type": "markdown",
      "metadata": {
        "id": "drhFyUbnpmwQ"
      },
      "source": [
        "## TODO Go Above and Beyond"
      ]
    },
    {
      "cell_type": "markdown",
      "metadata": {
        "id": "9Y_YdUrapoaE"
      },
      "source": [
        "Think of ways to change the definition of a link in a word graph to make it possible (although perhaps costlier) to move from word to word."
      ]
    },
    {
      "cell_type": "markdown",
      "metadata": {
        "id": "9PA0LuVT4Xx3"
      },
      "source": [
        "I worked with Gage Briggs on this assignment."
      ]
    }
  ]
}