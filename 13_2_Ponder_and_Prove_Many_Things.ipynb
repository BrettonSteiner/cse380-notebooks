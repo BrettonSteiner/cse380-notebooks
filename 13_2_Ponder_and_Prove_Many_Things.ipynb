{
  "nbformat": 4,
  "nbformat_minor": 0,
  "metadata": {
    "colab": {
      "name": "13_2_Ponder_and_Prove_Many_Things.ipynb",
      "provenance": [],
      "include_colab_link": true
    },
    "kernelspec": {
      "name": "python3",
      "display_name": "Python 3"
    },
    "language_info": {
      "name": "python"
    }
  },
  "cells": [
    {
      "cell_type": "markdown",
      "metadata": {
        "id": "view-in-github",
        "colab_type": "text"
      },
      "source": [
        "<a href=\"https://colab.research.google.com/github/BrettonSteiner/cse380-notebooks/blob/master/13_2_Ponder_and_Prove_Many_Things.ipynb\" target=\"_parent\"><img src=\"https://colab.research.google.com/assets/colab-badge.svg\" alt=\"Open In Colab\"/></a>"
      ]
    },
    {
      "cell_type": "markdown",
      "metadata": {
        "id": "0GZOWnts9NAD"
      },
      "source": [
        "# Ponder and Prove Many Things\n",
        "## Due: Thursday, 1 April 2021, 11:59 pm"
      ]
    },
    {
      "cell_type": "markdown",
      "metadata": {
        "id": "S5XdXGMv9dy4"
      },
      "source": [
        "### Is It Decidable?"
      ]
    },
    {
      "cell_type": "markdown",
      "metadata": {
        "id": "Gzy9wIboAVvi"
      },
      "source": [
        "#### TODO Study and run the code below."
      ]
    },
    {
      "cell_type": "markdown",
      "metadata": {
        "id": "218Qmbtx9lP6"
      },
      "source": [
        "And answer these questions:\n",
        "1. What is this program computing?\n",
        "2. How does it do it?\n",
        "3. Will it ever terminate?"
      ]
    },
    {
      "cell_type": "code",
      "metadata": {
        "id": "LfltDFaw9trA"
      },
      "source": [
        "from math import log2\n",
        "\n",
        "def you_decide():\n",
        "  flibbers = [17,78,19,23,29,77,95,77,1,11,13,15,15,55]\n",
        "  flobbers = [91,85,51,38,33,29,23,19,17,13,11,14,2,1]\n",
        "  i = 2\n",
        "  time_keeps_ticking = True\n",
        "  while time_keeps_ticking:\n",
        "    time_keeps_ticking = False\n",
        "    for n in range(len(flibbers)):\n",
        "      f = i * flibbers[n]\n",
        "      if not f % flobbers[n]:\n",
        "        i = f // flobbers[n]\n",
        "        p = log2(i)\n",
        "        if p.is_integer():\n",
        "          print(i)\n",
        "        time_keeps_ticking = True\n",
        "        break"
      ],
      "execution_count": 1,
      "outputs": []
    },
    {
      "cell_type": "code",
      "metadata": {
        "id": "fGZ9lZCP9xWC",
        "outputId": "73e23e59-f602-4944-d74a-7c75ac67b395",
        "colab": {
          "base_uri": "https://localhost:8080/",
          "height": 850
        }
      },
      "source": [
        "you_decide()"
      ],
      "execution_count": 2,
      "outputs": [
        {
          "output_type": "stream",
          "text": [
            "4\n",
            "8\n",
            "32\n",
            "128\n",
            "2048\n",
            "8192\n",
            "131072\n",
            "524288\n",
            "8388608\n",
            "536870912\n",
            "2147483648\n",
            "137438953472\n",
            "2199023255552\n",
            "8796093022208\n",
            "140737488355328\n",
            "9007199254740992\n",
            "576460752303423488\n",
            "2305843009213693952\n",
            "147573952589676412928\n",
            "2361183241434822606848\n",
            "9444732965739290427392\n",
            "604462909807314587353088\n",
            "9671406556917033397649408\n",
            "618970019642690137449562112\n",
            "158456325028528675187087900672\n",
            "2535301200456458802993406410752\n",
            "10141204801825835211973625643008\n",
            "162259276829213363391578010288128\n",
            "649037107316853453566312041152512\n",
            "10384593717069655257060992658440192\n",
            "170141183460469231731687303715884105728\n",
            "2722258935367507707706996859454145691648\n",
            "174224571863520493293247799005065324265472\n",
            "696898287454081973172991196020261297061888\n"
          ],
          "name": "stdout"
        },
        {
          "output_type": "error",
          "ename": "KeyboardInterrupt",
          "evalue": "ignored",
          "traceback": [
            "\u001b[0;31m---------------------------------------------------------------------------\u001b[0m",
            "\u001b[0;31mKeyboardInterrupt\u001b[0m                         Traceback (most recent call last)",
            "\u001b[0;32m<ipython-input-2-7e16ef8f7eca>\u001b[0m in \u001b[0;36m<module>\u001b[0;34m()\u001b[0m\n\u001b[0;32m----> 1\u001b[0;31m \u001b[0myou_decide\u001b[0m\u001b[0;34m(\u001b[0m\u001b[0;34m)\u001b[0m\u001b[0;34m\u001b[0m\u001b[0;34m\u001b[0m\u001b[0m\n\u001b[0m",
            "\u001b[0;32m<ipython-input-1-a2e2415ef96f>\u001b[0m in \u001b[0;36myou_decide\u001b[0;34m()\u001b[0m\n\u001b[1;32m      9\u001b[0m     \u001b[0mtime_keeps_ticking\u001b[0m \u001b[0;34m=\u001b[0m \u001b[0;32mFalse\u001b[0m\u001b[0;34m\u001b[0m\u001b[0;34m\u001b[0m\u001b[0m\n\u001b[1;32m     10\u001b[0m     \u001b[0;32mfor\u001b[0m \u001b[0mn\u001b[0m \u001b[0;32min\u001b[0m \u001b[0mrange\u001b[0m\u001b[0;34m(\u001b[0m\u001b[0mlen\u001b[0m\u001b[0;34m(\u001b[0m\u001b[0mflibbers\u001b[0m\u001b[0;34m)\u001b[0m\u001b[0;34m)\u001b[0m\u001b[0;34m:\u001b[0m\u001b[0;34m\u001b[0m\u001b[0;34m\u001b[0m\u001b[0m\n\u001b[0;32m---> 11\u001b[0;31m       \u001b[0mf\u001b[0m \u001b[0;34m=\u001b[0m \u001b[0mi\u001b[0m \u001b[0;34m*\u001b[0m \u001b[0mflibbers\u001b[0m\u001b[0;34m[\u001b[0m\u001b[0mn\u001b[0m\u001b[0;34m]\u001b[0m\u001b[0;34m\u001b[0m\u001b[0;34m\u001b[0m\u001b[0m\n\u001b[0m\u001b[1;32m     12\u001b[0m       \u001b[0;32mif\u001b[0m \u001b[0;32mnot\u001b[0m \u001b[0mf\u001b[0m \u001b[0;34m%\u001b[0m \u001b[0mflobbers\u001b[0m\u001b[0;34m[\u001b[0m\u001b[0mn\u001b[0m\u001b[0;34m]\u001b[0m\u001b[0;34m:\u001b[0m\u001b[0;34m\u001b[0m\u001b[0;34m\u001b[0m\u001b[0m\n\u001b[1;32m     13\u001b[0m         \u001b[0mi\u001b[0m \u001b[0;34m=\u001b[0m \u001b[0mf\u001b[0m \u001b[0;34m//\u001b[0m \u001b[0mflobbers\u001b[0m\u001b[0;34m[\u001b[0m\u001b[0mn\u001b[0m\u001b[0;34m]\u001b[0m\u001b[0;34m\u001b[0m\u001b[0;34m\u001b[0m\u001b[0m\n",
            "\u001b[0;31mKeyboardInterrupt\u001b[0m: "
          ]
        }
      ]
    },
    {
      "cell_type": "markdown",
      "metadata": {
        "id": "oqZ3784B-EyX"
      },
      "source": [
        "### Fun With Decidability"
      ]
    },
    {
      "cell_type": "markdown",
      "metadata": {
        "id": "aeiVo2WpkySc"
      },
      "source": [
        "#### TODO Read and Share"
      ]
    },
    {
      "cell_type": "markdown",
      "metadata": {
        "id": "i13mpSpd-O39"
      },
      "source": [
        "Read [Can't Decide? Undecide! by Chaim Goodman-Strauss](https://strauss.hosted.uark.edu/papers/decide.pdf)\n",
        "\n",
        "Share six things that you found interesting in this paper.\n",
        "\n",
        "Share six things that you already knew or had heard about before. (These can overlap with the first six.)\n",
        "\n",
        "Write one to two sentences for each of the things you share.\n"
      ]
    },
    {
      "cell_type": "markdown",
      "metadata": {
        "id": "TyW6GcwCpzyW"
      },
      "source": [
        "##### Found Interesting"
      ]
    },
    {
      "cell_type": "markdown",
      "metadata": {
        "id": "6KtJGHrRp5CW"
      },
      "source": [
        "1. Figuring out tilable shapes is a thing that admits world records. The reading mentioned that the world-record shape has more edges bulging inwards than outwards, so I wonder if there is any significance of that fact to the shapes ability to be tilable.\n",
        "2. None of the three undecidable problems provided in the reading can be solved quicker with multi-processing or threading. The reason for this is because each calculation is based off of the answer to the previous calculation's result and thus the operations cannot be separated to gain any additional speed in computation.\n",
        "3. \"As the Halting Problem is undecidable, so too is the Completion Problem.\" This is because the Completion Problem is the complement of the Halting Problem and would require us to know the entire universe of solutions in order to calculate, which we don't."
      ]
    },
    {
      "cell_type": "markdown",
      "metadata": {
        "id": "vdhY57P9p5WO"
      },
      "source": [
        "##### Already Knew or Had Heard About Before"
      ]
    },
    {
      "cell_type": "markdown",
      "metadata": {
        "id": "z365R2nyp9CW"
      },
      "source": [
        "1. I've heard about the pattern where given a number $n$ it would recursively either take $3n + 1$ if $n$ is odd or $n/2$ if $n$ is even. What I didn't realize before is that it is a part of a decision problem as to whether it will go on forever with a given $n$ or eventually settle to a loop.\n",
        "2. Undecidable problems can't be solved any quicker with multi-processing or threading. The reason for this is because each calculation is based off of the answer to the previous calculation's result and thus the operations cannot be separated to gain any additional speed in computation."
      ]
    },
    {
      "cell_type": "markdown",
      "metadata": {
        "id": "gjeWZ0Mo-r6E"
      },
      "source": [
        "### The Map of Mathematics"
      ]
    },
    {
      "cell_type": "markdown",
      "metadata": {
        "id": "xFFVrRTl-wY9"
      },
      "source": [
        "[The entire field of mathematics summarized in a single map!](https://www.youtube.com/watch?v=OmJ-4B-mS-Y) --- direct link, or embedded below.\n",
        "\n",
        "This video shows how pure mathematics and applied mathematics relate to each other and all of the sub-topics they are made from."
      ]
    },
    {
      "cell_type": "code",
      "metadata": {
        "id": "Wd_Ny-gS-zpk"
      },
      "source": [
        "from IPython.display import YouTubeVideo\n",
        "YouTubeVideo('OmJ-4B-mS-Y') # 11 minutes 5 seconds"
      ],
      "execution_count": null,
      "outputs": []
    },
    {
      "cell_type": "markdown",
      "metadata": {
        "id": "8PD-pimc-1dk"
      },
      "source": [
        "#### TODO Watch and Share"
      ]
    },
    {
      "cell_type": "markdown",
      "metadata": {
        "id": "9WIEkJ0p-9JD"
      },
      "source": [
        "Share six things that you found interesting in this video.\n",
        "\n",
        "Share six things that you already knew or had heard about before. (These can overlap with the first six.)\n",
        "\n",
        "Write one to two sentences for each of the things you share.\n"
      ]
    },
    {
      "cell_type": "markdown",
      "metadata": {
        "id": "fVTnQKwVqHV_"
      },
      "source": [
        "##### Found Interesting"
      ]
    },
    {
      "cell_type": "markdown",
      "metadata": {
        "id": "FByPlAnqqOOI"
      },
      "source": [
        "1. hi\n",
        "2. hi"
      ]
    },
    {
      "cell_type": "markdown",
      "metadata": {
        "id": "ZKH6276oqQS-"
      },
      "source": [
        "##### Already Knew or Had Heard About Before"
      ]
    },
    {
      "cell_type": "markdown",
      "metadata": {
        "id": "WJzT3Hk9qQkf"
      },
      "source": [
        "1. hi\n",
        "2. hi"
      ]
    },
    {
      "cell_type": "markdown",
      "metadata": {
        "id": "nfxMo9bl_TZA"
      },
      "source": [
        "### The Map of Computer Science"
      ]
    },
    {
      "cell_type": "markdown",
      "metadata": {
        "id": "bM9Dst0d_tIW"
      },
      "source": [
        "[The field of computer science similarly summarized.](https://www.youtube.com/watch?v=SzJ46YA_RaA) --- direct link, or embedded below."
      ]
    },
    {
      "cell_type": "code",
      "metadata": {
        "id": "LnBJvrbi_xIp"
      },
      "source": [
        "from IPython.display import YouTubeVideo\n",
        "YouTubeVideo('SzJ46YA_RaA') # 10 minutes 57 seconds"
      ],
      "execution_count": null,
      "outputs": []
    },
    {
      "cell_type": "markdown",
      "metadata": {
        "id": "5194ShLd_zjU"
      },
      "source": [
        "#### TODO Watch and Share"
      ]
    },
    {
      "cell_type": "markdown",
      "metadata": {
        "id": "zTI_XHCU_1HW"
      },
      "source": [
        "Share six things that you found interesting in this video.\n",
        "\n",
        "Share six things that you already knew or had heard about before. (These can overlap with the first six.)\n",
        "\n",
        "Write one to two sentences for each of the things you share."
      ]
    },
    {
      "cell_type": "markdown",
      "metadata": {
        "id": "Q_-kQJAJqZ6u"
      },
      "source": [
        "##### Found Interesting"
      ]
    },
    {
      "cell_type": "markdown",
      "metadata": {
        "id": "vCHxK7bXqcJO"
      },
      "source": [
        "1. hi\n",
        "2. hi"
      ]
    },
    {
      "cell_type": "markdown",
      "metadata": {
        "id": "4hw3IccvqcZn"
      },
      "source": [
        "##### Already Knew or Had Heard About Before"
      ]
    },
    {
      "cell_type": "markdown",
      "metadata": {
        "id": "7GfgtdoGqcsN"
      },
      "source": [
        "1. hi\n",
        "2. hi"
      ]
    },
    {
      "cell_type": "markdown",
      "metadata": {
        "id": "fPu3fWgR_3hI"
      },
      "source": [
        "### SKIP Report"
      ]
    },
    {
      "cell_type": "markdown",
      "metadata": {
        "id": "JoO9lagO_5lt"
      },
      "source": [
        "The sentences you have already (supposedly) written will suffice."
      ]
    },
    {
      "cell_type": "markdown",
      "metadata": {
        "id": "shpEERFS_87F"
      },
      "source": [
        "### SKIP Self-Assessment"
      ]
    },
    {
      "cell_type": "markdown",
      "metadata": {
        "id": "yWvKYeqc__bX"
      },
      "source": [
        "Instead, you will have ilearn peer reviews to complete."
      ]
    }
  ]
}