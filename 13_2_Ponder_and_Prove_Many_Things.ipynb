{
  "nbformat": 4,
  "nbformat_minor": 0,
  "metadata": {
    "colab": {
      "name": "13_2_Ponder_and_Prove_Many_Things.ipynb",
      "provenance": [],
      "include_colab_link": true
    },
    "kernelspec": {
      "name": "python3",
      "display_name": "Python 3"
    },
    "language_info": {
      "name": "python"
    }
  },
  "cells": [
    {
      "cell_type": "markdown",
      "metadata": {
        "id": "view-in-github",
        "colab_type": "text"
      },
      "source": [
        "<a href=\"https://colab.research.google.com/github/BrettonSteiner/cse380-notebooks/blob/master/13_2_Ponder_and_Prove_Many_Things.ipynb\" target=\"_parent\"><img src=\"https://colab.research.google.com/assets/colab-badge.svg\" alt=\"Open In Colab\"/></a>"
      ]
    },
    {
      "cell_type": "markdown",
      "metadata": {
        "id": "0GZOWnts9NAD"
      },
      "source": [
        "# Ponder and Prove Many Things\n",
        "## Due: Thursday, 1 April 2021, 11:59 pm"
      ]
    },
    {
      "cell_type": "markdown",
      "metadata": {
        "id": "S5XdXGMv9dy4"
      },
      "source": [
        "### Is It Decidable?"
      ]
    },
    {
      "cell_type": "markdown",
      "metadata": {
        "id": "Gzy9wIboAVvi"
      },
      "source": [
        "#### TODO Study and run the code below."
      ]
    },
    {
      "cell_type": "markdown",
      "metadata": {
        "id": "218Qmbtx9lP6"
      },
      "source": [
        "And answer these questions:\n",
        "1. What is this program computing?\n",
        "2. How does it do it?\n",
        "3. Will it ever terminate?"
      ]
    },
    {
      "cell_type": "code",
      "metadata": {
        "id": "LfltDFaw9trA"
      },
      "source": [
        "from math import log2\n",
        "\n",
        "def you_decide():\n",
        "  flibbers = [17,78,19,23,29,77,95,77,1,11,13,15,15,55]\n",
        "  flobbers = [91,85,51,38,33,29,23,19,17,13,11,14,2,1]\n",
        "  i = 2\n",
        "  time_keeps_ticking = True\n",
        "  while time_keeps_ticking:\n",
        "    time_keeps_ticking = False\n",
        "    for n in range(len(flibbers)):\n",
        "      f = i * flibbers[n]\n",
        "      if not f % flobbers[n]:\n",
        "        i = f // flobbers[n]\n",
        "        p = log2(i)\n",
        "        if p.is_integer():\n",
        "          print(i)\n",
        "        time_keeps_ticking = True\n",
        "        break"
      ],
      "execution_count": null,
      "outputs": []
    },
    {
      "cell_type": "code",
      "metadata": {
        "id": "fGZ9lZCP9xWC",
        "colab": {
          "base_uri": "https://localhost:8080/",
          "height": 632
        },
        "outputId": "ba61dcff-bffa-4c1a-e145-5dc4e771a25e"
      },
      "source": [
        "you_decide()"
      ],
      "execution_count": null,
      "outputs": [
        {
          "output_type": "stream",
          "text": [
            "4\n",
            "8\n",
            "32\n",
            "128\n",
            "2048\n",
            "8192\n",
            "131072\n",
            "524288\n",
            "8388608\n",
            "536870912\n",
            "2147483648\n",
            "137438953472\n",
            "2199023255552\n",
            "8796093022208\n",
            "140737488355328\n",
            "9007199254740992\n",
            "576460752303423488\n",
            "2305843009213693952\n",
            "147573952589676412928\n",
            "2361183241434822606848\n",
            "9444732965739290427392\n"
          ],
          "name": "stdout"
        },
        {
          "output_type": "error",
          "ename": "KeyboardInterrupt",
          "evalue": "ignored",
          "traceback": [
            "\u001b[0;31m---------------------------------------------------------------------------\u001b[0m",
            "\u001b[0;31mKeyboardInterrupt\u001b[0m                         Traceback (most recent call last)",
            "\u001b[0;32m<ipython-input-14-7e16ef8f7eca>\u001b[0m in \u001b[0;36m<module>\u001b[0;34m()\u001b[0m\n\u001b[0;32m----> 1\u001b[0;31m \u001b[0myou_decide\u001b[0m\u001b[0;34m(\u001b[0m\u001b[0;34m)\u001b[0m\u001b[0;34m\u001b[0m\u001b[0;34m\u001b[0m\u001b[0m\n\u001b[0m",
            "\u001b[0;32m<ipython-input-13-a2e2415ef96f>\u001b[0m in \u001b[0;36myou_decide\u001b[0;34m()\u001b[0m\n\u001b[1;32m     10\u001b[0m     \u001b[0;32mfor\u001b[0m \u001b[0mn\u001b[0m \u001b[0;32min\u001b[0m \u001b[0mrange\u001b[0m\u001b[0;34m(\u001b[0m\u001b[0mlen\u001b[0m\u001b[0;34m(\u001b[0m\u001b[0mflibbers\u001b[0m\u001b[0;34m)\u001b[0m\u001b[0;34m)\u001b[0m\u001b[0;34m:\u001b[0m\u001b[0;34m\u001b[0m\u001b[0;34m\u001b[0m\u001b[0m\n\u001b[1;32m     11\u001b[0m       \u001b[0mf\u001b[0m \u001b[0;34m=\u001b[0m \u001b[0mi\u001b[0m \u001b[0;34m*\u001b[0m \u001b[0mflibbers\u001b[0m\u001b[0;34m[\u001b[0m\u001b[0mn\u001b[0m\u001b[0;34m]\u001b[0m\u001b[0;34m\u001b[0m\u001b[0;34m\u001b[0m\u001b[0m\n\u001b[0;32m---> 12\u001b[0;31m       \u001b[0;32mif\u001b[0m \u001b[0;32mnot\u001b[0m \u001b[0mf\u001b[0m \u001b[0;34m%\u001b[0m \u001b[0mflobbers\u001b[0m\u001b[0;34m[\u001b[0m\u001b[0mn\u001b[0m\u001b[0;34m]\u001b[0m\u001b[0;34m:\u001b[0m\u001b[0;34m\u001b[0m\u001b[0;34m\u001b[0m\u001b[0m\n\u001b[0m\u001b[1;32m     13\u001b[0m         \u001b[0mi\u001b[0m \u001b[0;34m=\u001b[0m \u001b[0mf\u001b[0m \u001b[0;34m//\u001b[0m \u001b[0mflobbers\u001b[0m\u001b[0;34m[\u001b[0m\u001b[0mn\u001b[0m\u001b[0;34m]\u001b[0m\u001b[0;34m\u001b[0m\u001b[0;34m\u001b[0m\u001b[0m\n\u001b[1;32m     14\u001b[0m         \u001b[0mp\u001b[0m \u001b[0;34m=\u001b[0m \u001b[0mlog2\u001b[0m\u001b[0;34m(\u001b[0m\u001b[0mi\u001b[0m\u001b[0;34m)\u001b[0m\u001b[0;34m\u001b[0m\u001b[0;34m\u001b[0m\u001b[0m\n",
            "\u001b[0;31mKeyboardInterrupt\u001b[0m: "
          ]
        }
      ]
    },
    {
      "cell_type": "code",
      "metadata": {
        "id": "RU-2hH22m4QS",
        "colab": {
          "base_uri": "https://localhost:8080/"
        },
        "outputId": "1b13311e-40c3-4798-e580-daa326f9cd11"
      },
      "source": [
        "print(2**2)\n",
        "print(2**3)\n",
        "print(2**5)\n",
        "print(2**7)\n",
        "print(2**11)\n",
        "print(2**13)\n",
        "print(2**17)\n",
        "print(2**19)\n",
        "print(2**23)"
      ],
      "execution_count": null,
      "outputs": [
        {
          "output_type": "stream",
          "text": [
            "4\n",
            "8\n",
            "32\n",
            "128\n",
            "2048\n",
            "8192\n",
            "131072\n",
            "524288\n",
            "8388608\n"
          ],
          "name": "stdout"
        }
      ]
    },
    {
      "cell_type": "markdown",
      "metadata": {
        "id": "PHmI_QlVR8bz"
      },
      "source": [
        "1. It is finding prime numbers. It is currently printing off the prime numbers as powers of 2, but if we change the code above to print off the \"p\" variable instead of the \"i\" variable, we will get the primes themselves.\n",
        "2. It is finding the prime numbers by implementing [Conway's Prime Game](https://www.jstor.org/stable/2690263?seq=1) or [Conway's Prime Producing Machine](https://www.futilitycloset.com/2010/06/27/conways-prime-producing-machine/). The flibbers and flobbers together make a list of 14 rational numbers which Conway figured out can help determine if a number is prime or not. The idea is that prime numbers can only be divisible by 1 and itself. This means if the number can't divide with any of the rational numbers until the last one, then it must be prime (since the last number has a divisor of 1). According to the second article I linked above, \"these fourteen fractions alone have it in them to produce an infinity of primes.\" Whether it can determine every single prime or just an infinite subset of all primes is still a mystery and not one that either article above addresses.\n",
        "3. It will never terminate because the code is doing a modulus of 1 to determine if it will continue to the next number or not. Since 1 divides every integer, we know this will always be true. Therefore, it will never terminate. But its efficiency seems to dwindle over time as it takes more and more steps to find the next prime. So, I wouldn't recommend running this program forever as there will likely be a point where it will be more efficient to stop this program and switch to a different prime-finding algorithm where we left off, assuming there is another one out there."
      ]
    },
    {
      "cell_type": "markdown",
      "metadata": {
        "id": "oqZ3784B-EyX"
      },
      "source": [
        "### Fun With Decidability"
      ]
    },
    {
      "cell_type": "markdown",
      "metadata": {
        "id": "aeiVo2WpkySc"
      },
      "source": [
        "#### TODO Read and Share"
      ]
    },
    {
      "cell_type": "markdown",
      "metadata": {
        "id": "i13mpSpd-O39"
      },
      "source": [
        "Read [Can't Decide? Undecide! by Chaim Goodman-Strauss](https://strauss.hosted.uark.edu/papers/decide.pdf)\n",
        "\n",
        "Share six things that you found interesting in this paper.\n",
        "\n",
        "Share six things that you already knew or had heard about before. (These can overlap with the first six.)\n",
        "\n",
        "Write one to two sentences for each of the things you share.\n"
      ]
    },
    {
      "cell_type": "markdown",
      "metadata": {
        "id": "TyW6GcwCpzyW"
      },
      "source": [
        "##### Found Interesting"
      ]
    },
    {
      "cell_type": "markdown",
      "metadata": {
        "id": "6KtJGHrRp5CW"
      },
      "source": [
        "1. Figuring out tileable shapes is a thing that admits world records. The reading mentioned that the world-record shape has more edges bulging inwards than outwards, so I wonder if that fact is significant to the shape's ability to be tileable.\n",
        "2. None of the three undecidable problems provided in the reading can be solved quicker with multi-processing or threading. The reason for this is because each calculation is based on the answer to the previous calculation's result and thus the operations cannot be separated to gain any additional speed in computation.\n",
        "3. \"As the Halting Problem is undecidable, so too is the Completion Problem.\" This is because the Completion Problem is the complement of the Halting Problem and would require us to know the entire universe of solutions in order to calculate, which we don't know.\n",
        "4. The Normal Form Theorem utilizes the same concept of alphabets and constructing languages as we've covered in class. The interesting thing here is that the alphabet and grammar generate a language of the prime numbers in unary form.\n",
        "5. I find it interesting that all NP-hard problems can be converted into undecidable problems. This makes sense since both are similar in that undecidable problems are problems that we do not know the outcome of and NP-hard problems are those known to be difficult to solve with computers.\n",
        "6. Problems don't have to be entirely decidable or undecidable. They can be semi-decidable in that there's a procedure that can decide with finite time at least if the answer is yes, but no procedure can answer in every instance that the answer is no, or vice versa."
      ]
    },
    {
      "cell_type": "markdown",
      "metadata": {
        "id": "vdhY57P9p5WO"
      },
      "source": [
        "##### Already Knew or Had Heard About Before"
      ]
    },
    {
      "cell_type": "markdown",
      "metadata": {
        "id": "z365R2nyp9CW"
      },
      "source": [
        "1. I've heard about the pattern when given a number $n$ it would recursively either take $3n + 1$ if $n$ is odd or $n/2$ if $n$ is even. What I didn't realize before is that it is a part of a decision problem as to whether it will go on forever with a given $n$ or eventually settle into a loop.\n",
        "2. Undecidable problems can't be solved any quicker with multi-processing or threading. The reason for this is because each calculation is based on the answer to the previous calculation's result and thus the operations cannot be separated to gain any additional speed in computation.\n",
        "3. The Normal Form Theorem utilizes the same concept of alphabets and constructing languages as we've covered in class.\n",
        "4. NP-hard Problems are taught in the Algorithms and Complexity class, so I've heard of them before. Examples include the Traveling Salesman Problem, the computer game Minesweeper, and Sudoko puzzles. It means any purported solution of an instance can be rapidly checked.\n",
        "5. We used Word Ladders in one of our class assignments. They are considered decidable because there are only finitely many legitimate words to comb through.\n",
        "6. I knew about semi-decidability, but I had assumed it was just considered undecidable since not every instance can be given a direct answer of yes or no. But I guess it has its unique name after all."
      ]
    },
    {
      "cell_type": "markdown",
      "metadata": {
        "id": "gjeWZ0Mo-r6E"
      },
      "source": [
        "### The Map of Mathematics"
      ]
    },
    {
      "cell_type": "markdown",
      "metadata": {
        "id": "xFFVrRTl-wY9"
      },
      "source": [
        "[The entire field of mathematics summarized in a single map!](https://www.youtube.com/watch?v=OmJ-4B-mS-Y) --- direct link, or embedded below.\n",
        "\n",
        "This video shows how pure mathematics and applied mathematics relate to each other and all of the sub-topics they are made from."
      ]
    },
    {
      "cell_type": "code",
      "metadata": {
        "id": "Wd_Ny-gS-zpk"
      },
      "source": [
        "from IPython.display import YouTubeVideo\n",
        "YouTubeVideo('OmJ-4B-mS-Y') # 11 minutes 5 seconds"
      ],
      "execution_count": null,
      "outputs": []
    },
    {
      "cell_type": "markdown",
      "metadata": {
        "id": "8PD-pimc-1dk"
      },
      "source": [
        "#### TODO Watch and Share"
      ]
    },
    {
      "cell_type": "markdown",
      "metadata": {
        "id": "9WIEkJ0p-9JD"
      },
      "source": [
        "Share six things that you found interesting in this video.\n",
        "\n",
        "Share six things that you already knew or had heard about before. (These can overlap with the first six.)\n",
        "\n",
        "Write one to two sentences for each of the things you share.\n"
      ]
    },
    {
      "cell_type": "markdown",
      "metadata": {
        "id": "fVTnQKwVqHV_"
      },
      "source": [
        "##### Found Interesting"
      ]
    },
    {
      "cell_type": "markdown",
      "metadata": {
        "id": "FByPlAnqqOOI"
      },
      "source": [
        "1. Pure Mathematics can be organized into these four categories: Number Systems, Structures, Spaces, and Changes. Seeing everything organized this way suddenly makes a bunch of disconnected things I know about seem connected and organized.\n",
        "2. I find it interesting that negative numbers were invented before the number zero was. How did negative numbers work if there was no \"boundary\" between them and the positive numbers?\n",
        "3. The video mentioned how we, as humans, use optimization as part of our daily lives in things like maximizing the value of our money through using it smartly or maximizing our happiness through the activities we choose to do.\n",
        "4. I was a little surprised to see Set Theory put in with the Foundations category rather than elsewhere like Structures. Set Theory seems simple to me unlike its neighbors in Foundations such as Mathematical Logic, Fundamental Rules, and Theory of Computation.\n",
        "5. I didn't know that animals other than humans are capable of counting. I wonder how they figured that out.\n",
        "6. The Renaissance saw a huge boom in mathematics and sciences including the invention of mathematical notation. What form did math take in writing before mathematical notation came to be?"
      ]
    },
    {
      "cell_type": "markdown",
      "metadata": {
        "id": "ZKH6276oqQS-"
      },
      "source": [
        "##### Already Knew or Had Heard About Before"
      ]
    },
    {
      "cell_type": "markdown",
      "metadata": {
        "id": "WJzT3Hk9qQkf"
      },
      "source": [
        "1. I knew that mathematics was eventually constructed through history starting with counting, but most of the other historical facts of mathematics I didn't know.\n",
        "2. I've known that a lot of mathematics is theoretical and has many applications in the real world. The downside is that we often don't get to learn about the applications in typical schooling.\n",
        "3. I've heard of fractal geometry before and seen some examples online, but I don't think I've officially learned what they are or how they work. I wonder if any practical applications have been found for these.\n",
        "4. I learned theory of computation in the Algorithms and Complexity class and the difference between P and NP. They have to do with how easily a computer can solve the problem, the NP representing a problem that seemingly cannot be solved by a computer.\n",
        "5. The author pointed out how there are infinity integers and infinity real numbers, but there are certainly more real numbers than integers. All of those complicated proofs and papers we read to figure this out may have been overkill since it is so simply stated here in this video.\n",
        "6. It is crazy to be going through this map of mathematics and feeling like I know about or understand most of the topics brought up. I've never seen a map like this before and it helps me to further tie my mathematics knowledge altogether."
      ]
    },
    {
      "cell_type": "markdown",
      "metadata": {
        "id": "nfxMo9bl_TZA"
      },
      "source": [
        "### The Map of Computer Science"
      ]
    },
    {
      "cell_type": "markdown",
      "metadata": {
        "id": "bM9Dst0d_tIW"
      },
      "source": [
        "[The field of computer science similarly summarized.](https://www.youtube.com/watch?v=SzJ46YA_RaA) --- direct link, or embedded below."
      ]
    },
    {
      "cell_type": "code",
      "metadata": {
        "id": "LnBJvrbi_xIp"
      },
      "source": [
        "from IPython.display import YouTubeVideo\n",
        "YouTubeVideo('SzJ46YA_RaA') # 10 minutes 57 seconds"
      ],
      "execution_count": null,
      "outputs": []
    },
    {
      "cell_type": "markdown",
      "metadata": {
        "id": "5194ShLd_zjU"
      },
      "source": [
        "#### TODO Watch and Share"
      ]
    },
    {
      "cell_type": "markdown",
      "metadata": {
        "id": "zTI_XHCU_1HW"
      },
      "source": [
        "Share six things that you found interesting in this video.\n",
        "\n",
        "Share six things that you already knew or had heard about before. (These can overlap with the first six.)\n",
        "\n",
        "Write one to two sentences for each of the things you share."
      ]
    },
    {
      "cell_type": "markdown",
      "metadata": {
        "id": "Q_-kQJAJqZ6u"
      },
      "source": [
        "##### Found Interesting"
      ]
    },
    {
      "cell_type": "markdown",
      "metadata": {
        "id": "vCHxK7bXqcJO"
      },
      "source": [
        "1. Turing Machines are general-purpose computers and are equivalent to all other designs except for quantum computers. I think this is because Turing's Machines work in Binary where quantum computers can work with more states than just 2.\n",
        "2. I think it is cool how newer languages are built with the languages available at the time which is why there are multiple levels of compilers to get your code into machine code. The example provided in the video was JavaScript, which was written in C++, which was written in C, which was written in assembly language, which gets compiled into machine code.\n",
        "3. Operating systems are really interesting because they can manage many other programs and provide the user with an interface to work with them. I am only used to writing and running my code and have no real knowledge about writing whole operating systems which are capable of running other programs within it.\n",
        "4. Software Engineering is an art form because it requires taking a creative idea and converting it into a logical process. It is also no small task to make the process efficient as possible and error-free.\n",
        "5. Natural language processing is an interesting concept that has many applications that I can think of. One example, which some companies are already doing, is the use of a computer to speak to people on a phone call which can allow for shorter wait times for the user.\n",
        "6. Near the end of the video, it mentions how computer science is continuing to develop despite how the underlying hardware is hitting limits as to how small it can get. It mentions how other solutions are being worked on that may potentially replace the transistor in computers and again completely change the world as we know it."
      ]
    },
    {
      "cell_type": "markdown",
      "metadata": {
        "id": "4hw3IccvqcZn"
      },
      "source": [
        "##### Already Knew or Had Heard About Before"
      ]
    },
    {
      "cell_type": "markdown",
      "metadata": {
        "id": "7GfgtdoGqcsN"
      },
      "source": [
        "1. I've heard of the Big-O, or $O(n)$, which represents how long an algorithm will take to compute given $n$ items. The goal is to change the algorithm that produces the smallest Big-O function.\n",
        "2. I've heard of data compression and have had the chance to try it out in this class using Huffman Encoding and other methods.\n",
        "3. I've heard of formal methods, but I don't remember seeing them look like graphs like the video showed. When I used formal methods, it was all about using a specific mathematical language to prove mathematical equations in situations.\n",
        "4. I know about multiprocessing and have been able to work with it in another class this semester. I even used it in one of the assignments for this class.\n",
        "5. Machine learning is something I've worked on in another class and it can be quite powerful, but it takes a lot of work to fine-tune. The work involved is more wrangling with the provided data and less model building than I expected at first.\n",
        "6. I've also had the opportunity to try out computer vision which I found to be much more difficult than I had anticipated. Computer vision seems to go very nicely with machine learning provided you use the correct machine learning model and have plenty of training data to teach it."
      ]
    },
    {
      "cell_type": "markdown",
      "metadata": {
        "id": "fPu3fWgR_3hI"
      },
      "source": [
        "### SKIP Report"
      ]
    },
    {
      "cell_type": "markdown",
      "metadata": {
        "id": "JoO9lagO_5lt"
      },
      "source": [
        "The sentences you have already (supposedly) written will suffice."
      ]
    },
    {
      "cell_type": "markdown",
      "metadata": {
        "id": "shpEERFS_87F"
      },
      "source": [
        "### SKIP Self-Assessment"
      ]
    },
    {
      "cell_type": "markdown",
      "metadata": {
        "id": "yWvKYeqc__bX"
      },
      "source": [
        "Instead, you will have ilearn peer reviews to complete."
      ]
    }
  ]
}