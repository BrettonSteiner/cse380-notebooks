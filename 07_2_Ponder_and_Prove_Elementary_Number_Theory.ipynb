{
  "nbformat": 4,
  "nbformat_minor": 0,
  "metadata": {
    "kernelspec": {
      "display_name": "Python 3",
      "language": "python",
      "name": "python3"
    },
    "language_info": {
      "codemirror_mode": {
        "name": "ipython",
        "version": 3
      },
      "file_extension": ".py",
      "mimetype": "text/x-python",
      "name": "python",
      "nbconvert_exporter": "python",
      "pygments_lexer": "ipython3",
      "version": "3.9.0"
    },
    "colab": {
      "name": "07_2_Ponder_and_Prove_Elementary_Number_Theory.ipynb",
      "provenance": [],
      "include_colab_link": true
    }
  },
  "cells": [
    {
      "cell_type": "markdown",
      "metadata": {
        "id": "view-in-github",
        "colab_type": "text"
      },
      "source": [
        "<a href=\"https://colab.research.google.com/github/BrettonSteiner/cse380-notebooks/blob/master/07_2_Ponder_and_Prove_Elementary_Number_Theory.ipynb\" target=\"_parent\"><img src=\"https://colab.research.google.com/assets/colab-badge.svg\" alt=\"Open In Colab\"/></a>"
      ]
    },
    {
      "cell_type": "markdown",
      "metadata": {
        "id": "1rG4k7VvQ2WT"
      },
      "source": [
        "# Ponder and Prove Elementary Number Theory\n",
        "#### Due: Saturday, 20 February 2021, 11:59 pm."
      ]
    },
    {
      "cell_type": "markdown",
      "metadata": {
        "id": "W0WxE3IAQ2WU"
      },
      "source": [
        "## Explore Fermat's Little Theorem Further\n"
      ]
    },
    {
      "cell_type": "markdown",
      "metadata": {
        "id": "w2vby9erSjOv"
      },
      "source": [
        "Fermat's Little Theorem (FLT) says that if $N$ is prime, then $N$ divides $X^N - X$.\n",
        "\n",
        "Remember, the contrapositive of the conditional statement in this theorem is that if $N$ **doesn't** divide $X^N - X$ for some $X$, then $N$ **can't** be prime.\n",
        "\n",
        "Unfortunately, this simple primality test doesn't always work, because it can be fooled by **pseudoprimes**.\n",
        "\n",
        "For example, $341 = 11 \\cdot 31$ is not prime. But $341$ **does** divide $2^{341} - 2$ as verified below:"
      ]
    },
    {
      "cell_type": "code",
      "metadata": {
        "id": "NBrPMgZoTLAe"
      },
      "source": [
        "((2 ** 341) - 2) % 341"
      ],
      "execution_count": null,
      "outputs": []
    },
    {
      "cell_type": "markdown",
      "metadata": {
        "id": "igGoVqAOTTm_"
      },
      "source": [
        "So $341$ is a so-called **base-2 pseudoprime**. What about **base-3**?"
      ]
    },
    {
      "cell_type": "code",
      "metadata": {
        "id": "hwrSZ1xDTVxW"
      },
      "source": [
        "((3 ** 341) - 3) % 341"
      ],
      "execution_count": null,
      "outputs": []
    },
    {
      "cell_type": "markdown",
      "metadata": {
        "id": "sc9w28MiTZXk"
      },
      "source": [
        "Check that the result is not zero, therefore $341$ is **not** a **base-3 pseudoprime**.\n",
        "\n",
        "Are there any other bases that will not fool the FLT test for $341$?\n",
        "\n",
        "Are there any pseudoprimes that will fool the FLT for **any choice** of base coprime to them?"
      ]
    },
    {
      "cell_type": "markdown",
      "metadata": {
        "id": "AMFTYECVTgy4"
      },
      "source": [
        "### The answer is yes."
      ]
    },
    {
      "cell_type": "markdown",
      "metadata": {
        "id": "u-CxbDylTkYp"
      },
      "source": [
        "Your task is the find the first 4-digit **bullet-proof pseudoprime** (**bppp**) and **prove** (yes, **PROVE**) that it will fool the FLT test for every base coprime to it.\n",
        "\n",
        "Your proof must use all of the following:\n",
        "1. the definition of coprime,\n",
        "2. a consequence of coprimality,\n",
        "3. the factorization of the **bppp**,\n",
        "4. FLT, and the\n",
        "5. CRT (Chinese Remainder Theorem).\n"
      ]
    },
    {
      "cell_type": "code",
      "metadata": {
        "id": "luqw6DOoeEzz",
        "outputId": "1af9438c-5848-407f-ff77-703a4cb17ae7",
        "colab": {
          "base_uri": "https://localhost:8080/"
        }
      },
      "source": [
        "# Thank you Brother Neff!\r\n",
        "\r\n",
        "# Actually, there are only 9000 4-digit numbers,\r\n",
        "# so how hard can it be to look at all of them?\r\n",
        "\r\n",
        "# But even better, since we want the smallest *bppp*,\r\n",
        "# we can stop as soon as we find it!\r\n",
        "\r\n",
        "from math import gcd\r\n",
        "from sympy import isprime\r\n",
        "\r\n",
        "def passes_FLT_test_even_though_not_prime(b, n):\r\n",
        "  # primes don't count as pseudoprimes\r\n",
        "  return not isprime(n) and (b ** n) % n == b\r\n",
        "\r\n",
        "def is_bppp(n):\r\n",
        "  bases_coprime_to_n = [b for b in range(2, n) if gcd(b, n) == 1]\r\n",
        "  return all(list(map(lambda b: passes_FLT_test_even_though_not_prime(b, n), \r\n",
        "                      bases_coprime_to_n)))\r\n",
        "\r\n",
        "n = 1000\r\n",
        "while not is_bppp(n):\r\n",
        "  n += 1\r\n",
        "\r\n",
        "n"
      ],
      "execution_count": 1,
      "outputs": [
        {
          "output_type": "execute_result",
          "data": {
            "text/plain": [
              "1105"
            ]
          },
          "metadata": {
            "tags": []
          },
          "execution_count": 1
        }
      ]
    },
    {
      "cell_type": "markdown",
      "metadata": {
        "id": "oQlLTxdCeIZt"
      },
      "source": [
        "The first 4-digit **bppp**, 1105, is composite because 1105 = 5 x 13 x 17, according to a quick [Google Search](https://www.google.com/search?q=what+are+the+prime+factors+of+1105&oq=what+are+the+prime+factors+of+1105&aqs=chrome..69i57.1919j0j7&sourceid=chrome&ie=UTF-8).\r\n",
        "\r\n",
        "The [Definition of Coprime](https://en.wikipedia.org/wiki/Coprime_integers) states that any 2 integers $a$ and $b$ are coprime if the only positive integer that evenly divides (is a divisor of) both of them is 1. Thus the integers are coprime if gcd($a$, $b$) = 1.\r\n",
        "\r\n",
        "Since the gcd of the two integers equals 1, it means that no prime factors between the two are the same. It consequently follows that $a$ is also coprime with all the prime factors of $b$ and vice versa. This is the **Consequence of Coprimality** and can be written with our example as this: If gcd($b$, 1105) = 1, then gcd($b$, 5) = gcd($b$, 13) = gcd($b$, 17) = 1. My code below verifies the above statement."
      ]
    },
    {
      "cell_type": "code",
      "metadata": {
        "id": "FLP-UFeGeK9k",
        "outputId": "113c0bb0-131c-4de9-c943-9d470ea4fdd3",
        "colab": {
          "base_uri": "https://localhost:8080/"
        }
      },
      "source": [
        "from math import gcd\r\n",
        "\r\n",
        "for b in range(1, 11):\r\n",
        "  print(b, gcd(b,1105), gcd(b,5), gcd(b,13), gcd(b,17))"
      ],
      "execution_count": 2,
      "outputs": [
        {
          "output_type": "stream",
          "text": [
            "1 1 1 1 1\n",
            "2 1 1 1 1\n",
            "3 1 1 1 1\n",
            "4 1 1 1 1\n",
            "5 5 5 1 1\n",
            "6 1 1 1 1\n",
            "7 1 1 1 1\n",
            "8 1 1 1 1\n",
            "9 1 1 1 1\n",
            "10 5 5 1 1\n"
          ],
          "name": "stdout"
        }
      ]
    },
    {
      "cell_type": "markdown",
      "metadata": {
        "id": "WtKk9xELeNWD"
      },
      "source": [
        "Since [Fermat's Little Theorem](https://colab.research.google.com/github/byui-cse/cse380-notebooks/blob/master/07_4_Further_Light_and_Knowledge.ipynb#scrollTo=PxfyPL0otqOS) is also stated  as \"$X^{N-1} \\equiv_{N} 1$ , if  N  is prime and does not divide  X\" and since we are working with the *prime* factors of our **bppp**, these three facts follow:\r\n",
        "\r\n",
        "1. $b^{4} \\equiv_{5} 1$\r\n",
        "2. $b^{12} \\equiv_{13} 1$\r\n",
        "3. $b^{16} \\equiv_{17} 1$\r\n",
        "\r\n",
        "Because 1104 is 1 less than 1105, and is also a multiple of 4, 12, and 16 --- which are 1 less than 5, 13, and 17 --- it follows that:\r\n",
        "\r\n",
        "$(b^4)^{276} = b^{1104} \\equiv_{5} 1$\r\n",
        "\r\n",
        "$(b^{12})^{92} = b^{1104} \\equiv_{13} 1$\r\n",
        "\r\n",
        "$(b^{16})^{69} = b^{1104} \\equiv_{17} 1$\r\n",
        "\r\n",
        "So, according to the [Chinese Remainder Theorem](https://brilliant.org/wiki/chinese-remainder-theorem/), $x$ mod $N$ is the unique solution to this system of simultaneous congruences. To find $N$ we multiply all of the remainders of the congruence equations:\r\n",
        "\r\n",
        "$N = 1 \\times 1 \\times 1 = 1$\r\n",
        "\r\n",
        "And $x$ is $b^{1104}$\r\n",
        "\r\n",
        "Therefore, $b^{1104}$ % $1 = 1$?\r\n",
        "\r\n",
        "**THIS NEEDS MORE WORK BECAUSE I STILL DO NOT GET IT**\r\n",
        "\r\n",
        "Therefore, $b^{1104} \\equiv_{1105} 1$.\r\n",
        "\r\n",
        "This follows from a consequence of the Chinese Remainder Theorem.\r\n",
        "\r\n",
        "(Do you see how? In your proof, be convincing that you understand this argument!)"
      ]
    },
    {
      "cell_type": "markdown",
      "metadata": {
        "id": "5Cgy_0B4Q2WW"
      },
      "source": [
        "## What is True?\n",
        "Assess yourself on how you did using the checkboxes below. Check a box by putting an 'X' in it only if it is warranted.\n"
      ]
    },
    {
      "cell_type": "markdown",
      "metadata": {
        "id": "81dbKwHenxnT"
      },
      "source": [
        "# TODO My Report on What I Did and What I Learned"
      ]
    },
    {
      "cell_type": "markdown",
      "metadata": {
        "id": "C8BeiIern33B"
      },
      "source": [
        "## Fun\n",
        "Replace these words with your own detailing how you had fun (if you did)."
      ]
    },
    {
      "cell_type": "markdown",
      "metadata": {
        "id": "OzOkZ3son-u9"
      },
      "source": [
        "## New\n",
        "Replace these words with your own detailing what was something new you learned (if anything)."
      ]
    },
    {
      "cell_type": "markdown",
      "metadata": {
        "id": "mJHvoj6GokaZ"
      },
      "source": [
        "## Meaningful\n",
        "Replace these words with your own detailing what you achieved that was meaningful or that you can build upon."
      ]
    },
    {
      "cell_type": "markdown",
      "metadata": {
        "id": "_RBE03fhpNUG"
      },
      "source": [
        "## Other\n",
        "Replace these words with your own describing other topics or sections of your report --- Connections, Collaborator Contributions, or anything else you feel impressed to add."
      ]
    },
    {
      "cell_type": "markdown",
      "metadata": {
        "id": "Nrk-8EmgW4NP"
      },
      "source": [
        "# TODO What is True?\n",
        "Click on each warranted checkbox to toggle it to True (or back to False). \n",
        "\n",
        "NOTE: *This only works in Colab. If you run it in some other Jupyter notebook client/server environment you may have to change False to True (or vice versa) manually.*\n",
        "\n",
        "This self-assessment is subject to revision by a grader."
      ]
    },
    {
      "cell_type": "code",
      "metadata": {
        "id": "qGAjzgVRXR4M"
      },
      "source": [
        "#@markdown ## What is True about what I did?\n",
        "#@markdown ### I had fun.\n",
        "cb00 = False #@param {type:'boolean'}\n",
        "#@markdown ### I learned something new.\n",
        "cb01 = False #@param {type:'boolean'}\n",
        "#@markdown ### I achieved something meaningful, or something I can build upon at a later time.\n",
        "cb02 = False #@param {type:'boolean'}\n",
        "#@markdown ## What is true about my report?\n",
        "#@markdown ### I wrote a sufficient number of well-written sentences.\n",
        "cb03 = False #@param {type:'boolean'}\n",
        "#@markdown ### My report is free of mechanical infelicities.\n",
        "cb04 = False #@param {type:'boolean'}\n",
        "#@markdown ### I used Grammarly (or something better described in my report) to check for MIs.\n",
        "cb05 = False #@param {type:'boolean'}\n",
        "#@markdown ### I reported on any connections I found between these problems and something I already know. \n",
        "cb06 = False #@param {type:'boolean'}\n",
        "#@markdown ### I reported who were and what contribution each of my collaborators made.\n",
        "cb07 = False #@param {type:'boolean'}\n",
        "#@markdown ## What is true about my proof?\n",
        "#@markdown ### It succinctly uses the definition of coprime.\n",
        "cb08 = False #@param {type:'boolean'}\n",
        "#@markdown ### It correctly uses the definition of coprime.\n",
        "cb09 = False #@param {type:'boolean'}\n",
        "#@markdown ### It succinctly uses a consequence of comprimality\n",
        "cb10 = False #@param {type:'boolean'}\n",
        "#@markdown ### It correctly uses a consequence of comprimality\n",
        "cb11 = False #@param {type:'boolean'}\n",
        "#@markdown ### It succinctly uses the factorization of the **bppp**,\n",
        "cb12 = False #@param {type:'boolean'}\n",
        "#@markdown ### It correctly uses the factorization of the **bppp**,\n",
        "cb13 = False #@param {type:'boolean'}\n",
        "#@markdown ### It succinctly uses Fermat's Little Theorem. \n",
        "cb14 = False #@param {type:'boolean'}\n",
        "#@markdown ### It correctly uses Fermat's Little Theorem. \n",
        "cb15 = False #@param {type:'boolean'}\n",
        "#@markdown ### It succinctly uses the Chinese Remainder Theorem.\n",
        "cb16 = False #@param {type:'boolean'}\n",
        "#@markdown ### It correctly uses the Chinese Remainder Theorem.\n",
        "cb17 = False #@param {type:'boolean'}\n",
        "\n"
      ],
      "execution_count": null,
      "outputs": []
    },
    {
      "cell_type": "markdown",
      "metadata": {
        "id": "q8KESLBANSkC"
      },
      "source": [
        "## DO NOT CHANGE ANYTHING IN THE NEXT CODE CELL!!\n",
        "### Delete this cell and the following ones before submitting your work."
      ]
    },
    {
      "cell_type": "code",
      "metadata": {
        "id": "rJ_vaL0DWwoc"
      },
      "source": [
        "points_for_what_I_did = [5]*3\n",
        "points_for_my_report = [7]*5\n",
        "points_for_my_proof = [5]*10\n",
        "points = points_for_what_I_did + points_for_my_report + points_for_my_proof\n",
        "# cb is short for checkbox\n",
        "total = sum(map(lambda n, p: p if eval(f'cb{n:02}') else 0,\n",
        "                range(len(points)), points))             \n",
        "total"
      ],
      "execution_count": null,
      "outputs": []
    },
    {
      "cell_type": "markdown",
      "metadata": {
        "id": "muxeYgQQKGEU"
      },
      "source": [
        "# For graders"
      ]
    },
    {
      "cell_type": "code",
      "metadata": {
        "id": "c0ldoieNKMTU"
      },
      "source": [
        "#@markdown ---\n",
        "number_of_MIs_found = 0 #@param {type: 'slider', min: 0, max: 5}\n",
        "#@markdown ---\n"
      ],
      "execution_count": null,
      "outputs": []
    }
  ]
}