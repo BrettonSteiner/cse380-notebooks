{
  "nbformat": 4,
  "nbformat_minor": 0,
  "metadata": {
    "colab": {
      "name": "11_3_About_The_Petersen_Graph.ipynb",
      "provenance": [],
      "include_colab_link": true
    },
    "kernelspec": {
      "name": "python3",
      "display_name": "Python 3"
    }
  },
  "cells": [
    {
      "cell_type": "markdown",
      "metadata": {
        "id": "view-in-github",
        "colab_type": "text"
      },
      "source": [
        "<a href=\"https://colab.research.google.com/github/BrettonSteiner/cse380-notebooks/blob/master/11_3_About_The_Petersen_Graph.ipynb\" target=\"_parent\"><img src=\"https://colab.research.google.com/assets/colab-badge.svg\" alt=\"Open In Colab\"/></a>"
      ]
    },
    {
      "cell_type": "markdown",
      "metadata": {
        "id": "0lYSr_8JNUpQ"
      },
      "source": [
        "# About The Petersen Graph\n",
        "## Class Directed Learning\n",
        "### Due: Tuesday, 16 March 2021, 11:59 pm"
      ]
    },
    {
      "cell_type": "markdown",
      "metadata": {
        "id": "0PuwZHqzNfTa"
      },
      "source": [
        "## TODO Explore and Wonder"
      ]
    },
    {
      "cell_type": "markdown",
      "metadata": {
        "id": "Gsu1FnbuNptP"
      },
      "source": [
        "The Petersen graph is described as the complement of the line graph of $K_5$.\n",
        "\n",
        "Draw each step of this construction using any graph-drawing tools in your toolbox.\n",
        "\n",
        "Teach one another how to use the tools you each have."
      ]
    },
    {
      "cell_type": "code",
      "metadata": {
        "id": "8RfyvCXb9xxG"
      },
      "source": [
        "class GraphNode():\r\n",
        "  def __init__(self, value = 0, links = []):\r\n",
        "    self.value = value\r\n",
        "    self.links = links\r\n",
        "\r\n",
        "  def is_link(self, neighbor_value):\r\n",
        "    if neighbor_value in links:\r\n",
        "      return True\r\n",
        "    return False\r\n",
        "\r\n",
        "  def add_link(self, neighbor_value):\r\n",
        "    if not neighbor_value in self.links:\r\n",
        "      self.links.append(neighbor_value)\r\n",
        "\r\n",
        "  def remove_link(self, neighbor_value):\r\n",
        "    link.remove(neighbor_value)\r\n",
        "\r\n",
        "  def __eq__(self, node):\r\n",
        "    return self.value == node.value and set(self.links) == set(node.links)"
      ],
      "execution_count": 16,
      "outputs": []
    },
    {
      "cell_type": "code",
      "metadata": {
        "id": "lZwPqtLd9zbe"
      },
      "source": [
        "class Graph():\r\n",
        "  def __init__(self, nodes = [], links = []):\r\n",
        "    self.nodes = []\r\n",
        "    for node in nodes:\r\n",
        "      adjacent_nodes = [link[1] for link in links if link[0] == node] + [link[0] for link in links if link[1] == node]\r\n",
        "      self.nodes.append(GraphNode(node, adjacent_nodes))\r\n",
        "\r\n",
        "  def get_node(self, node_value):\r\n",
        "    return next(graphNode for graphNode in self.nodes if graphNode.value == node_value)\r\n",
        "\r\n",
        "  def get_nodes(self):\r\n",
        "    return [node.value for node in self.nodes]\r\n",
        "\r\n",
        "  def get_links(self):\r\n",
        "    links = [str(adj_list[0]) + str(adjacent_node) for adj_list in self.get_adjacency_list() for adjacent_node in adj_list[1]]\r\n",
        "    return list(set(tuple(sorted(link)) for link in links))\r\n",
        "\r\n",
        "  def get_adjacent_nodes(self, node_value):\r\n",
        "    node = self.get_node(node_value)\r\n",
        "    return (node.value, node.links)\r\n",
        "\r\n",
        "  def get_adjacency_list(self):\r\n",
        "    return [(graphNode.value, graphNode.links) for graphNode in self.nodes]\r\n",
        "\r\n",
        "  def is_adjacent(self, node_from, node_to):\r\n",
        "    self.add_node(node_from)\r\n",
        "    node = self.get_node(node_from)\r\n",
        "    return node.is_link(node_to)\r\n",
        "\r\n",
        "  def add_node(self, node_value, links = []):\r\n",
        "    if not node_value in self.get_nodes():\r\n",
        "      self.nodes.append(GraphNode(node_value, links))\r\n",
        "\r\n",
        "  def add_link(self, node_from, node_to):\r\n",
        "    self.add_node(node_from)\r\n",
        "    node = self.get_node(node_from)\r\n",
        "    if not node.is_link(node_to):\r\n",
        "      node.add_link(node_to)\r\n",
        "    self.add_node(node_to)\r\n",
        "    node = self.get_node(node_to)\r\n",
        "    if not node.is_link(node_from):\r\n",
        "      node.add_link(node_from)"
      ],
      "execution_count": 17,
      "outputs": []
    },
    {
      "cell_type": "code",
      "metadata": {
        "id": "C58RYDaw560d"
      },
      "source": [
        "# https://graphviz.org/\r\n",
        "# https://pypi.org/project/pygraphviz/\r\n",
        "import graphviz\r\n",
        "\r\n",
        "def display_links(links, engine = 'fdp'):\r\n",
        "  graphic = graphviz.Graph(format='png')\r\n",
        "  graphic.edges(links)\r\n",
        "  graphic.engine = engine\r\n",
        "  return graphic\r\n",
        "\r\n",
        "def display_graph(graph, engine = 'fdp'):\r\n",
        "  graphic = graphviz.Graph(format='png')\r\n",
        "  graphic.edges([str(link[0]) + str(link[1]) for link in graph.get_links()])\r\n",
        "  graphic.engine = engine\r\n",
        "  return graphic"
      ],
      "execution_count": 18,
      "outputs": []
    },
    {
      "cell_type": "code",
      "metadata": {
        "id": "7K2qVRcU9aUk",
        "outputId": "28829598-f258-40a6-ae73-dc62dec6b8b5",
        "colab": {
          "base_uri": "https://localhost:8080/",
          "height": 462
        }
      },
      "source": [
        "nodes = ['a', 'b', 'c', 'd', 'e']\r\n",
        "links = [\r\n",
        "  ('a', 'b'), ('a', 'c'), ('a', 'd'), ('a', 'e'), ('b', 'c'), ('b', 'd'),\r\n",
        "  ('b', 'e'), ('c', 'd'), ('c', 'e'), ('d', 'e')\r\n",
        "]\r\n",
        "\r\n",
        "k5 = Graph(nodes, links)\r\n",
        "display_graph(k5, 'sfdp')"
      ],
      "execution_count": 21,
      "outputs": [
        {
          "output_type": "execute_result",
          "data": {
            "text/plain": [
              "<graphviz.dot.Graph at 0x7f3d2e8abdd0>"
            ],
            "image/svg+xml": "<?xml version=\"1.0\" encoding=\"UTF-8\" standalone=\"no\"?>\n<!DOCTYPE svg PUBLIC \"-//W3C//DTD SVG 1.1//EN\"\n \"http://www.w3.org/Graphics/SVG/1.1/DTD/svg11.dtd\">\n<!-- Generated by graphviz version 2.40.1 (20161225.0304)\n -->\n<!-- Title: %3 Pages: 1 -->\n<svg width=\"350pt\" height=\"331pt\"\n viewBox=\"0.00 0.00 350.06 331.47\" xmlns=\"http://www.w3.org/2000/svg\" xmlns:xlink=\"http://www.w3.org/1999/xlink\">\n<g id=\"graph0\" class=\"graph\" transform=\"scale(1 1) rotate(0) translate(4 327.4734)\">\n<title>%3</title>\n<polygon fill=\"#ffffff\" stroke=\"transparent\" points=\"-4,4 -4,-327.4734 346.0641,-327.4734 346.0641,4 -4,4\"/>\n<!-- d -->\n<g id=\"node1\" class=\"node\">\n<title>d</title>\n<ellipse fill=\"none\" stroke=\"#000000\" cx=\"289.6993\" cy=\"-274.676\" rx=\"27\" ry=\"18\"/>\n<text text-anchor=\"middle\" x=\"289.6993\" y=\"-270.976\" font-family=\"Times,serif\" font-size=\"14.00\" fill=\"#000000\">d</text>\n</g>\n<!-- e -->\n<g id=\"node2\" class=\"node\">\n<title>e</title>\n<ellipse fill=\"none\" stroke=\"#000000\" cx=\"112.4282\" cy=\"-305.4734\" rx=\"27\" ry=\"18\"/>\n<text text-anchor=\"middle\" x=\"112.4282\" y=\"-301.7734\" font-family=\"Times,serif\" font-size=\"14.00\" fill=\"#000000\">e</text>\n</g>\n<!-- d&#45;&#45;e -->\n<g id=\"edge1\" class=\"edge\">\n<title>d&#45;&#45;e</title>\n<path fill=\"none\" stroke=\"#000000\" d=\"M263.5424,-279.2203C230.0263,-285.043 172.2602,-295.0788 138.6925,-300.9105\"/>\n</g>\n<!-- b -->\n<g id=\"node3\" class=\"node\">\n<title>b</title>\n<ellipse fill=\"none\" stroke=\"#000000\" cx=\"27\" cy=\"-146.8451\" rx=\"27\" ry=\"18\"/>\n<text text-anchor=\"middle\" x=\"27\" y=\"-143.1451\" font-family=\"Times,serif\" font-size=\"14.00\" fill=\"#000000\">b</text>\n</g>\n<!-- b&#45;&#45;d -->\n<g id=\"edge2\" class=\"edge\">\n<title>b&#45;&#45;d</title>\n<path fill=\"none\" stroke=\"#000000\" d=\"M48.9458,-157.524C98.3949,-181.5863 218.0666,-239.8191 267.6313,-263.9376\"/>\n</g>\n<!-- b&#45;&#45;e -->\n<g id=\"edge4\" class=\"edge\">\n<title>b&#45;&#45;e</title>\n<path fill=\"none\" stroke=\"#000000\" d=\"M36.1423,-163.8211C52.4987,-194.1928 86.5976,-257.5096 103.0926,-288.1386\"/>\n</g>\n<!-- c -->\n<g id=\"node5\" class=\"node\">\n<title>c</title>\n<ellipse fill=\"none\" stroke=\"#000000\" cx=\"315.0641\" cy=\"-95.8285\" rx=\"27\" ry=\"18\"/>\n<text text-anchor=\"middle\" x=\"315.0641\" y=\"-92.1285\" font-family=\"Times,serif\" font-size=\"14.00\" fill=\"#000000\">c</text>\n</g>\n<!-- b&#45;&#45;c -->\n<g id=\"edge10\" class=\"edge\">\n<title>b&#45;&#45;c</title>\n<path fill=\"none\" stroke=\"#000000\" d=\"M53.3274,-142.1825C108.1892,-132.4664 234.1835,-110.1526 288.902,-100.4618\"/>\n</g>\n<!-- a -->\n<g id=\"node4\" class=\"node\">\n<title>a</title>\n<ellipse fill=\"none\" stroke=\"#000000\" cx=\"152.6826\" cy=\"-18\" rx=\"27\" ry=\"18\"/>\n<text text-anchor=\"middle\" x=\"152.6826\" y=\"-14.3\" font-family=\"Times,serif\" font-size=\"14.00\" fill=\"#000000\">a</text>\n</g>\n<!-- a&#45;&#45;d -->\n<g id=\"edge5\" class=\"edge\">\n<title>a&#45;&#45;d</title>\n<path fill=\"none\" stroke=\"#000000\" d=\"M161.8854,-35.2398C186.8461,-81.9991 255.6228,-210.8399 280.5366,-257.5113\"/>\n</g>\n<!-- a&#45;&#45;e -->\n<g id=\"edge7\" class=\"edge\">\n<title>a&#45;&#45;e</title>\n<path fill=\"none\" stroke=\"#000000\" d=\"M150.1645,-35.9828C142.9353,-87.6091 122.1733,-235.8796 114.9453,-287.4975\"/>\n</g>\n<!-- a&#45;&#45;b -->\n<g id=\"edge3\" class=\"edge\">\n<title>a&#45;&#45;b</title>\n<path fill=\"none\" stroke=\"#000000\" d=\"M137.7716,-33.2862C113.5829,-58.0836 66.0678,-106.7942 41.8916,-131.5788\"/>\n</g>\n<!-- a&#45;&#45;c -->\n<g id=\"edge9\" class=\"edge\">\n<title>a&#45;&#45;c</title>\n<path fill=\"none\" stroke=\"#000000\" d=\"M174.9205,-28.6585C206.0163,-43.5626 262.1437,-70.4641 293.0947,-85.2987\"/>\n</g>\n<!-- c&#45;&#45;d -->\n<g id=\"edge6\" class=\"edge\">\n<title>c&#45;&#45;d</title>\n<path fill=\"none\" stroke=\"#000000\" d=\"M312.4924,-113.9616C307.6308,-148.2403 297.1446,-222.1792 292.2778,-256.4949\"/>\n</g>\n<!-- c&#45;&#45;e -->\n<g id=\"edge8\" class=\"edge\">\n<title>c&#45;&#45;e</title>\n<path fill=\"none\" stroke=\"#000000\" d=\"M300.1638,-111.2442C262.5988,-150.1085 164.3697,-251.7353 127.077,-290.3179\"/>\n</g>\n</g>\n</svg>\n"
          },
          "metadata": {
            "tags": []
          },
          "execution_count": 21
        }
      ]
    },
    {
      "cell_type": "code",
      "metadata": {
        "id": "2DR7FVYQ-w_0",
        "outputId": "5daf79af-3ddd-4772-abf8-ff78d2747c04",
        "colab": {
          "base_uri": "https://localhost:8080/",
          "height": 887
        }
      },
      "source": [
        "# Step 1: Add verticies constructed from the edges of K5\r\n",
        "verticies = [str(link[0]) + str(link[1]) for link in k5.get_links()]\r\n",
        "\r\n",
        "line_graph = Graph(verticies)\r\n",
        "# Step 2: Add edges\r\n",
        "for vertex in verticies:\r\n",
        "  # print(vertex[0], vertex[1])\r\n",
        "  adjacent_nodes = k5.get_adjacent_nodes(vertex[0])\r\n",
        "  for node in adjacent_nodes:\r\n",
        "    line_graph.add_link(str(vertex[0]) + str(vertex[1]), str(vertex[0]) + str(node))\r\n",
        "  adjacent_nodes = k5.get_adjacent_nodes(vertex[1])\r\n",
        "  for node in adjacent_nodes:\r\n",
        "    line_graph.add_link(str(vertex[0]) + str(vertex[1]), str(vertex[1]) + str(node))\r\n",
        "    print(str(vertex[0]) + str(vertex[1]), str(vertex[1]) + str(node))\r\n",
        "\r\n",
        "print(line_graph.get_nodes())\r\n",
        "print(line_graph.get_links())\r\n",
        "\r\n",
        "display_graph(line_graph, 'sfdp')"
      ],
      "execution_count": 32,
      "outputs": [
        {
          "output_type": "stream",
          "text": [
            "['de', 'bd', 'ab', 'be', 'ad', 'cd', 'ae', 'ce', 'ac', 'bc']\n",
            "de ee\n",
            "de e['a', 'b', 'c', 'd']\n",
            "bd dd\n",
            "bd d['e', 'a', 'b', 'c']\n",
            "ab bb\n",
            "ab b['c', 'd', 'e', 'a']\n",
            "be ee\n",
            "be e['a', 'b', 'c', 'd']\n",
            "ad dd\n",
            "ad d['e', 'a', 'b', 'c']\n",
            "cd dd\n",
            "cd d['e', 'a', 'b', 'c']\n",
            "ae ee\n",
            "ae e['a', 'b', 'c', 'd']\n",
            "ce ee\n",
            "ce e['a', 'b', 'c', 'd']\n",
            "ac cc\n",
            "ac c['d', 'e', 'a', 'b']\n",
            "bc cc\n",
            "bc c['d', 'e', 'a', 'b']\n",
            "['de', 'bd', 'ab', 'be', 'ad', 'cd', 'ae', 'ce', 'ac', 'bc', 'dd', \"d['e', 'a', 'b', 'c']\", 'ee', \"e['a', 'b', 'c', 'd']\", 'bb', \"b['c', 'd', 'e', 'a']\", 'aa', \"a['b', 'c', 'd', 'e']\", 'cc', \"c['d', 'e', 'a', 'b']\"]\n",
            "[('b', 'd', 'e', 'e'), ('c', 'd', 'e', 'e'), ('a', 'a', 'e', 'e'), ('b', 'b', 'b', 'e'), (' ', ' ', ' ', \"'\", \"'\", \"'\", \"'\", \"'\", \"'\", \"'\", \"'\", ',', ',', ',', '[', ']', 'a', 'b', 'c', 'c', 'd', 'e', 'e'), ('b', 'b', 'b', 'b'), ('b', 'b', 'd', 'd'), ('a', 'b', 'b', 'd'), (' ', ' ', ' ', \"'\", \"'\", \"'\", \"'\", \"'\", \"'\", \"'\", \"'\", ',', ',', ',', '[', ']', 'a', 'b', 'c', 'd', 'd', 'd', 'e'), ('a', 'a', 'b', 'b'), ('b', 'c', 'c', 'd'), ('d', 'e', 'e', 'e'), ('b', 'b', 'b', 'c'), ('b', 'e', 'e', 'e'), ('a', 'b', 'b', 'c'), ('a', 'a', 'c', 'd'), ('a', 'd', 'd', 'e'), (' ', ' ', ' ', \"'\", \"'\", \"'\", \"'\", \"'\", \"'\", \"'\", \"'\", ',', ',', ',', '[', ']', 'a', 'b', 'c', 'c', 'c', 'd', 'e'), ('a', 'a', 'a', 'a'), ('b', 'd', 'd', 'e'), ('d', 'd', 'd', 'd'), (' ', ' ', ' ', \"'\", \"'\", \"'\", \"'\", \"'\", \"'\", \"'\", \"'\", ',', ',', ',', '[', ']', 'a', 'b', 'c', 'c', 'd', 'd', 'e'), ('c', 'd', 'd', 'e'), ('a', 'c', 'c', 'd'), (' ', ' ', ' ', \"'\", \"'\", \"'\", \"'\", \"'\", \"'\", \"'\", \"'\", ',', ',', ',', '[', ']', 'a', 'a', 'b', 'b', 'c', 'd', 'e'), ('a', 'b', 'b', 'e'), ('b', 'b', 'c', 'd'), ('b', 'c', 'd', 'd'), (' ', ' ', ' ', \"'\", \"'\", \"'\", \"'\", \"'\", \"'\", \"'\", \"'\", ',', ',', ',', '[', ']', 'a', 'b', 'c', 'd', 'd', 'e', 'e'), ('c', 'c', 'd', 'e'), ('a', 'a', 'a', 'd'), (' ', ' ', ' ', \"'\", \"'\", \"'\", \"'\", \"'\", \"'\", \"'\", \"'\", ',', ',', ',', '[', ']', 'a', 'b', 'b', 'c', 'd', 'e', 'e'), (' ', ' ', ' ', \"'\", \"'\", \"'\", \"'\", \"'\", \"'\", \"'\", \"'\", ',', ',', ',', '[', ']', 'a', 'a', 'b', 'c', 'd', 'd', 'e'), (' ', ' ', ' ', \"'\", \"'\", \"'\", \"'\", \"'\", \"'\", \"'\", \"'\", ',', ',', ',', '[', ']', 'a', 'b', 'c', 'd', 'e', 'e', 'e'), ('a', 'a', 'a', 'c'), ('c', 'c', 'c', 'd'), ('b', 'c', 'c', 'e'), ('d', 'd', 'e', 'e'), ('c', 'c', 'c', 'c'), ('a', 'c', 'd', 'd'), (' ', ' ', ' ', \"'\", \"'\", \"'\", \"'\", \"'\", \"'\", \"'\", \"'\", ',', ',', ',', '[', ']', 'a', 'b', 'b', 'b', 'c', 'd', 'e'), ('c', 'c', 'd', 'd'), ('b', 'b', 'b', 'd'), ('a', 'a', 'a', 'e'), ('b', 'c', 'c', 'c'), ('a', 'c', 'c', 'c'), ('a', 'b', 'c', 'c'), ('b', 'b', 'c', 'c'), (' ', ' ', ' ', \"'\", \"'\", \"'\", \"'\", \"'\", \"'\", \"'\", \"'\", ',', ',', ',', '[', ']', 'a', 'a', 'b', 'c', 'd', 'e', 'e'), (' ', ' ', ' ', \"'\", \"'\", \"'\", \"'\", \"'\", \"'\", \"'\", \"'\", ',', ',', ',', '[', ']', 'a', 'b', 'b', 'c', 'd', 'd', 'e'), ('a', 'a', 'c', 'e'), ('b', 'c', 'e', 'e'), ('a', 'c', 'c', 'e'), ('a', 'a', 'a', 'b'), ('c', 'c', 'c', 'e'), ('a', 'a', 'd', 'e'), ('a', 'd', 'd', 'd'), ('b', 'b', 'd', 'e'), ('a', 'b', 'd', 'd'), ('a', 'd', 'e', 'e'), (' ', ' ', ' ', \"'\", \"'\", \"'\", \"'\", \"'\", \"'\", \"'\", \"'\", ',', ',', ',', '[', ']', 'a', 'b', 'b', 'c', 'c', 'd', 'e'), ('a', 'a', 'c', 'c'), (' ', ' ', ' ', \"'\", \"'\", \"'\", \"'\", \"'\", \"'\", \"'\", \"'\", ',', ',', ',', '[', ']', 'a', 'a', 'a', 'b', 'c', 'd', 'e'), ('b', 'b', 'c', 'e'), ('c', 'c', 'e', 'e'), ('b', 'd', 'd', 'd'), ('a', 'a', 'b', 'd'), ('c', 'd', 'd', 'd'), ('a', 'c', 'e', 'e'), ('a', 'e', 'e', 'e'), ('e', 'e', 'e', 'e'), ('a', 'b', 'b', 'b'), ('c', 'e', 'e', 'e'), ('a', 'b', 'e', 'e'), ('a', 'a', 'b', 'c'), (' ', ' ', ' ', \"'\", \"'\", \"'\", \"'\", \"'\", \"'\", \"'\", \"'\", ',', ',', ',', '[', ']', 'a', 'a', 'b', 'c', 'c', 'd', 'e'), ('b', 'b', 'e', 'e'), ('a', 'a', 'd', 'd'), ('d', 'd', 'd', 'e'), ('a', 'a', 'b', 'e'), (' ', ' ', ' ', ' ', ' ', ' ', \"'\", \"'\", \"'\", \"'\", \"'\", \"'\", \"'\", \"'\", \"'\", \"'\", \"'\", \"'\", \"'\", \"'\", \"'\", \"'\", ',', ',', ',', ',', ',', ',', '[', '[', ']', ']', 'a', 'a', 'b', 'b', 'c', 'c', 'd', 'd', 'e', 'e')]\n"
          ],
          "name": "stdout"
        },
        {
          "output_type": "execute_result",
          "data": {
            "text/plain": [
              "<graphviz.dot.Graph at 0x7f3d2e81a710>"
            ],
            "image/svg+xml": "<?xml version=\"1.0\" encoding=\"UTF-8\" standalone=\"no\"?>\n<!DOCTYPE svg PUBLIC \"-//W3C//DTD SVG 1.1//EN\"\n \"http://www.w3.org/Graphics/SVG/1.1/DTD/svg11.dtd\">\n<!-- Generated by graphviz version 2.40.1 (20161225.0304)\n -->\n<!-- Title: %3 Pages: 1 -->\n<svg width=\"746pt\" height=\"345pt\"\n viewBox=\"0.00 0.00 746.00 344.53\" xmlns=\"http://www.w3.org/2000/svg\" xmlns:xlink=\"http://www.w3.org/1999/xlink\">\n<g id=\"graph0\" class=\"graph\" transform=\"scale(1 1) rotate(0) translate(4 340.5278)\">\n<title>%3</title>\n<polygon fill=\"#ffffff\" stroke=\"transparent\" points=\"-4,4 -4,-340.5278 742,-340.5278 742,4 -4,4\"/>\n<!-- b -->\n<g id=\"node1\" class=\"node\">\n<title>b</title>\n<ellipse fill=\"none\" stroke=\"#000000\" cx=\"301.3049\" cy=\"-271.9656\" rx=\"27\" ry=\"18\"/>\n<text text-anchor=\"middle\" x=\"301.3049\" y=\"-268.2656\" font-family=\"Times,serif\" font-size=\"14.00\" fill=\"#000000\">b</text>\n</g>\n<!-- b&#45;&#45;b -->\n<g id=\"edge4\" class=\"edge\">\n<title>b&#45;&#45;b</title>\n<path fill=\"none\" stroke=\"#000000\" d=\"M328.5457,-273.4641C338.3288,-273.4963 346.3049,-272.9968 346.3049,-271.9656 346.3049,-270.9343 338.3288,-270.4348 328.5457,-270.467\"/>\n</g>\n<!-- b&#45;&#45;b -->\n<g id=\"edge6\" class=\"edge\">\n<title>b&#45;&#45;b</title>\n<path fill=\"none\" stroke=\"#000000\" d=\"M327.1096,-277.9925C399.7996,-291.7089 508.3049,-289.6999 508.3049,-271.9656 508.3049,-254.2312 399.7996,-252.2222 327.1096,-265.9387\"/>\n</g>\n<!-- b&#45;&#45;b -->\n<g id=\"edge7\" class=\"edge\">\n<title>b&#45;&#45;b</title>\n<path fill=\"none\" stroke=\"#000000\" d=\"M327.0702,-277.7925C393.405,-289.693 490.3049,-287.7507 490.3049,-271.9656 490.3049,-256.1804 393.405,-254.2381 327.0702,-266.1386\"/>\n</g>\n<!-- b&#45;&#45;b -->\n<g id=\"edge13\" class=\"edge\">\n<title>b&#45;&#45;b</title>\n<path fill=\"none\" stroke=\"#000000\" d=\"M327.0369,-277.5626C386.961,-287.675 472.3049,-285.8093 472.3049,-271.9656 472.3049,-258.1218 386.961,-256.2562 327.0369,-266.3686\"/>\n</g>\n<!-- b&#45;&#45;b -->\n<g id=\"edge27\" class=\"edge\">\n<title>b&#45;&#45;b</title>\n<path fill=\"none\" stroke=\"#000000\" d=\"M327.2547,-277.332C380.6776,-285.6489 454.3049,-283.8601 454.3049,-271.9656 454.3049,-260.071 380.6776,-258.2822 327.2547,-266.5991\"/>\n</g>\n<!-- b&#45;&#45;b -->\n<g id=\"edge43\" class=\"edge\">\n<title>b&#45;&#45;b</title>\n<path fill=\"none\" stroke=\"#000000\" d=\"M327.4799,-277.0433C374.2922,-283.6191 436.3049,-281.9265 436.3049,-271.9656 436.3049,-262.0046 374.2922,-260.312 327.4799,-266.8878\"/>\n</g>\n<!-- b&#45;&#45;b -->\n<g id=\"edge48\" class=\"edge\">\n<title>b&#45;&#45;b</title>\n<path fill=\"none\" stroke=\"#000000\" d=\"M327.4565,-276.6447C367.5527,-281.5917 418.3049,-280.032 418.3049,-271.9656 418.3049,-263.8992 367.5527,-262.3394 327.4565,-267.2864\"/>\n</g>\n<!-- b&#45;&#45;b -->\n<g id=\"edge58\" class=\"edge\">\n<title>b&#45;&#45;b</title>\n<path fill=\"none\" stroke=\"#000000\" d=\"M327.665,-276.1711C360.8233,-279.5549 400.3049,-278.1531 400.3049,-271.9656 400.3049,-265.7781 360.8233,-264.3762 327.665,-267.76\"/>\n</g>\n<!-- b&#45;&#45;b -->\n<g id=\"edge64\" class=\"edge\">\n<title>b&#45;&#45;b</title>\n<path fill=\"none\" stroke=\"#000000\" d=\"M327.8535,-275.5416C353.7987,-277.517 382.3049,-276.3249 382.3049,-271.9656 382.3049,-267.6062 353.7987,-266.4142 327.8535,-268.3895\"/>\n</g>\n<!-- b&#45;&#45;b -->\n<g id=\"edge77\" class=\"edge\">\n<title>b&#45;&#45;b</title>\n<path fill=\"none\" stroke=\"#000000\" d=\"M328.1745,-274.6871C346.4317,-275.4821 364.3049,-274.5749 364.3049,-271.9656 364.3049,-269.3562 346.4317,-268.449 328.1745,-269.2441\"/>\n</g>\n<!-- d -->\n<g id=\"node2\" class=\"node\">\n<title>d</title>\n<ellipse fill=\"none\" stroke=\"#000000\" cx=\"127.6822\" cy=\"-318.5278\" rx=\"27\" ry=\"18\"/>\n<text text-anchor=\"middle\" x=\"127.6822\" y=\"-314.8278\" font-family=\"Times,serif\" font-size=\"14.00\" fill=\"#000000\">d</text>\n</g>\n<!-- b&#45;&#45;d -->\n<g id=\"edge1\" class=\"edge\">\n<title>b&#45;&#45;d</title>\n<path fill=\"none\" stroke=\"#000000\" d=\"M274.6534,-269.0806C238.6136,-273.2385 175.4747,-290.4305 145.0093,-304.6269\"/>\n</g>\n<!-- b&#45;&#45;d -->\n<g id=\"edge20\" class=\"edge\">\n<title>b&#45;&#45;d</title>\n<path fill=\"none\" stroke=\"#000000\" d=\"M284.0379,-285.8384C253.6207,-300.0285 190.5011,-317.2239 154.4227,-321.4025\"/>\n</g>\n<!-- b&#45;&#45;d -->\n<g id=\"edge66\" class=\"edge\">\n<title>b&#45;&#45;d</title>\n<path fill=\"none\" stroke=\"#000000\" d=\"M276.0587,-278.7361C243.141,-287.564 185.8916,-302.9172 152.9589,-311.7491\"/>\n</g>\n<!-- c -->\n<g id=\"node3\" class=\"node\">\n<title>c</title>\n<ellipse fill=\"none\" stroke=\"#000000\" cx=\"27\" cy=\"-169.3259\" rx=\"27\" ry=\"18\"/>\n<text text-anchor=\"middle\" x=\"27\" y=\"-165.6259\" font-family=\"Times,serif\" font-size=\"14.00\" fill=\"#000000\">c</text>\n</g>\n<!-- b&#45;&#45;c -->\n<g id=\"edge11\" class=\"edge\">\n<title>b&#45;&#45;c</title>\n<path fill=\"none\" stroke=\"#000000\" d=\"M291.7921,-254.796C252.9919,-220.7832 110.9326,-166.8621 52.2139,-162.8549\"/>\n</g>\n<!-- b&#45;&#45;c -->\n<g id=\"edge28\" class=\"edge\">\n<title>b&#45;&#45;c</title>\n<path fill=\"none\" stroke=\"#000000\" d=\"M275.8943,-278.423C216.9273,-274.3002 74.6503,-220.235 36.2604,-186.2732\"/>\n</g>\n<!-- b&#45;&#45;c -->\n<g id=\"edge37\" class=\"edge\">\n<title>b&#45;&#45;c</title>\n<path fill=\"none\" stroke=\"#000000\" d=\"M274.3778,-270.4962C218.1562,-257.4443 90.0395,-209.2566 43.872,-183.4989\"/>\n</g>\n<!-- b&#45;&#45;c -->\n<g id=\"edge45\" class=\"edge\">\n<title>b&#45;&#45;c</title>\n<path fill=\"none\" stroke=\"#000000\" d=\"M277.442,-263.0365C225.4343,-243.5762 102.3911,-197.5358 50.6124,-178.1612\"/>\n</g>\n<!-- b&#45;&#45;c -->\n<g id=\"edge52\" class=\"edge\">\n<title>b&#45;&#45;c</title>\n<path fill=\"none\" stroke=\"#000000\" d=\"M284.173,-257.6478C237.8037,-231.8643 110.139,-183.8587 53.9901,-170.8098\"/>\n</g>\n<!-- e -->\n<g id=\"node6\" class=\"node\">\n<title>e</title>\n<ellipse fill=\"none\" stroke=\"#000000\" cx=\"309.4783\" cy=\"-91.1597\" rx=\"27\" ry=\"18\"/>\n<text text-anchor=\"middle\" x=\"309.4783\" y=\"-87.4597\" font-family=\"Times,serif\" font-size=\"14.00\" fill=\"#000000\">e</text>\n</g>\n<!-- b&#45;&#45;e -->\n<g id=\"edge14\" class=\"edge\">\n<title>b&#45;&#45;e</title>\n<path fill=\"none\" stroke=\"#000000\" d=\"M302.1185,-253.9682C303.6811,-219.4007 307.0863,-144.0732 308.6559,-109.3526\"/>\n</g>\n<!-- d&#45;&#45;d -->\n<g id=\"edge21\" class=\"edge\">\n<title>d&#45;&#45;d</title>\n<path fill=\"none\" stroke=\"#000000\" d=\"M154.4771,-320.7729C164.4626,-320.8465 172.6822,-320.0981 172.6822,-318.5278 172.6822,-316.9575 164.4626,-316.2092 154.4771,-316.2828\"/>\n</g>\n<!-- d&#45;&#45;d -->\n<g id=\"edge38\" class=\"edge\">\n<title>d&#45;&#45;d</title>\n<path fill=\"none\" stroke=\"#000000\" d=\"M153.8127,-323.8437C179.8687,-326.874 208.6822,-325.102 208.6822,-318.5278 208.6822,-311.9536 179.8687,-310.1816 153.8127,-313.2119\"/>\n</g>\n<!-- d&#45;&#45;d -->\n<g id=\"edge79\" class=\"edge\">\n<title>d&#45;&#45;d</title>\n<path fill=\"none\" stroke=\"#000000\" d=\"M154.2238,-322.5884C172.5944,-323.8188 190.6822,-322.4653 190.6822,-318.5278 190.6822,-314.5903 172.5944,-313.2368 154.2238,-314.4673\"/>\n</g>\n<!-- d&#45;&#45;e -->\n<g id=\"edge12\" class=\"edge\">\n<title>d&#45;&#45;e</title>\n<path fill=\"none\" stroke=\"#000000\" d=\"M140.4658,-302.5397C173.8451,-260.793 263.3454,-148.857 296.7089,-107.1301\"/>\n</g>\n<!-- c&#45;&#45;d -->\n<g id=\"edge2\" class=\"edge\">\n<title>c&#45;&#45;d</title>\n<path fill=\"none\" stroke=\"#000000\" d=\"M29.3481,-187.3943C41.9362,-218.1534 82.5141,-278.8787 107.9958,-305.721\"/>\n</g>\n<!-- c&#45;&#45;d -->\n<g id=\"edge23\" class=\"edge\">\n<title>c&#45;&#45;d</title>\n<path fill=\"none\" stroke=\"#000000\" d=\"M46.4956,-181.932C71.8997,-208.6024 112.5052,-269.3103 125.2363,-300.221\"/>\n</g>\n<!-- c&#45;&#45;d -->\n<g id=\"edge68\" class=\"edge\">\n<title>c&#45;&#45;d</title>\n<path fill=\"none\" stroke=\"#000000\" d=\"M38.1594,-185.8632C57.5126,-214.5429 97.0849,-273.1853 116.4728,-301.9165\"/>\n</g>\n<!-- c&#45;&#45;c -->\n<g id=\"edge30\" class=\"edge\">\n<title>c&#45;&#45;c</title>\n<path fill=\"none\" stroke=\"#000000\" d=\"M54.2408,-170.8244C64.0239,-170.8566 72,-170.3571 72,-169.3259 72,-168.2946 64.0239,-167.7951 54.2408,-167.8273\"/>\n</g>\n<!-- c&#45;&#45;c -->\n<g id=\"edge36\" class=\"edge\">\n<title>c&#45;&#45;c</title>\n<path fill=\"none\" stroke=\"#000000\" d=\"M53.175,-174.4036C99.9873,-180.9794 162,-179.2868 162,-169.3259 162,-159.3649 99.9873,-157.6724 53.175,-164.2481\"/>\n</g>\n<!-- c&#45;&#45;c -->\n<g id=\"edge39\" class=\"edge\">\n<title>c&#45;&#45;c</title>\n<path fill=\"none\" stroke=\"#000000\" d=\"M53.1516,-174.005C93.2478,-178.952 144,-177.3923 144,-169.3259 144,-161.2595 93.2478,-159.6998 53.1516,-164.6467\"/>\n</g>\n<!-- c&#45;&#45;c -->\n<g id=\"edge42\" class=\"edge\">\n<title>c&#45;&#45;c</title>\n<path fill=\"none\" stroke=\"#000000\" d=\"M53.3601,-173.5315C86.5184,-176.9152 126,-175.5134 126,-169.3259 126,-163.1384 86.5184,-161.7365 53.3601,-165.1203\"/>\n</g>\n<!-- c&#45;&#45;c -->\n<g id=\"edge55\" class=\"edge\">\n<title>c&#45;&#45;c</title>\n<path fill=\"none\" stroke=\"#000000\" d=\"M53.5487,-172.9019C79.4938,-174.8773 108,-173.6853 108,-169.3259 108,-164.9665 79.4938,-163.7745 53.5487,-165.7498\"/>\n</g>\n<!-- c&#45;&#45;c -->\n<g id=\"edge65\" class=\"edge\">\n<title>c&#45;&#45;c</title>\n<path fill=\"none\" stroke=\"#000000\" d=\"M53.8696,-172.0474C72.1268,-172.8424 90,-171.9353 90,-169.3259 90,-166.7165 72.1268,-165.8093 53.8696,-166.6044\"/>\n</g>\n<!-- c&#45;&#45;e -->\n<g id=\"edge73\" class=\"edge\">\n<title>c&#45;&#45;e</title>\n<path fill=\"none\" stroke=\"#000000\" d=\"M52.0681,-162.3892C105.6732,-147.5558 230.9114,-112.9004 284.4664,-98.0809\"/>\n</g>\n<!-- a -->\n<g id=\"node4\" class=\"node\">\n<title>a</title>\n<ellipse fill=\"none\" stroke=\"#000000\" cx=\"140.4589\" cy=\"-29.8123\" rx=\"27\" ry=\"18\"/>\n<text text-anchor=\"middle\" x=\"140.4589\" y=\"-26.1123\" font-family=\"Times,serif\" font-size=\"14.00\" fill=\"#000000\">a</text>\n</g>\n<!-- a&#45;&#45;b -->\n<g id=\"edge8\" class=\"edge\">\n<title>a&#45;&#45;b</title>\n<path fill=\"none\" stroke=\"#000000\" d=\"M132.6286,-47.4342C130.8014,-100.3747 221.1734,-238.9973 274.5583,-268.8121\"/>\n</g>\n<!-- a&#45;&#45;b -->\n<g id=\"edge15\" class=\"edge\">\n<title>a&#45;&#45;b</title>\n<path fill=\"none\" stroke=\"#000000\" d=\"M167.0962,-32.9048C220.4802,-62.5987 311.0085,-201.4359 309.1338,-254.383\"/>\n</g>\n<!-- a&#45;&#45;b -->\n<g id=\"edge26\" class=\"edge\">\n<title>a&#45;&#45;b</title>\n<path fill=\"none\" stroke=\"#000000\" d=\"M163.9889,-38.7234C209.2069,-75.714 293.7644,-204.4497 303.9919,-253.8017\"/>\n</g>\n<!-- a&#45;&#45;b -->\n<g id=\"edge47\" class=\"edge\">\n<title>a&#45;&#45;b</title>\n<path fill=\"none\" stroke=\"#000000\" d=\"M158.5141,-43.4817C195.9256,-84.9027 276.8111,-207.0724 297.4297,-253.8092\"/>\n</g>\n<!-- a&#45;&#45;b -->\n<g id=\"edge59\" class=\"edge\">\n<title>a&#45;&#45;b</title>\n<path fill=\"none\" stroke=\"#000000\" d=\"M151.5145,-46.4565C180.8985,-90.6941 260.6996,-210.8344 290.1719,-255.2049\"/>\n</g>\n<!-- a&#45;&#45;b -->\n<g id=\"edge72\" class=\"edge\">\n<title>a&#45;&#45;b</title>\n<path fill=\"none\" stroke=\"#000000\" d=\"M144.3531,-48.0116C164.993,-94.7593 245.7777,-216.7792 283.1997,-258.2408\"/>\n</g>\n<!-- a&#45;&#45;b -->\n<g id=\"edge74\" class=\"edge\">\n<title>a&#45;&#45;b</title>\n<path fill=\"none\" stroke=\"#000000\" d=\"M137.7692,-47.9634C147.9724,-97.2462 232.3486,-225.7496 277.6108,-262.9199\"/>\n</g>\n<!-- a&#45;&#45;d -->\n<g id=\"edge17\" class=\"edge\">\n<title>a&#45;&#45;d</title>\n<path fill=\"none\" stroke=\"#000000\" d=\"M132.7859,-47.1331C121.6946,-98.4091 115.0406,-249.0689 121.5985,-300.8294\"/>\n</g>\n<!-- a&#45;&#45;d -->\n<g id=\"edge57\" class=\"edge\">\n<title>a&#45;&#45;d</title>\n<path fill=\"none\" stroke=\"#000000\" d=\"M146.5719,-47.7432C153.0749,-99.6751 146.4416,-249.7436 135.3844,-301.0719\"/>\n</g>\n<!-- a&#45;&#45;d -->\n<g id=\"edge60\" class=\"edge\">\n<title>a&#45;&#45;d</title>\n<path fill=\"none\" stroke=\"#000000\" d=\"M139.6597,-47.8727C137.3651,-99.7221 130.7753,-248.6333 128.4812,-300.4742\"/>\n</g>\n<!-- a&#45;&#45;c -->\n<g id=\"edge24\" class=\"edge\">\n<title>a&#45;&#45;c</title>\n<path fill=\"none\" stroke=\"#000000\" d=\"M114.1276,-34.089C79.9143,-54.8262 30.005,-118.0955 23.3543,-151.404\"/>\n</g>\n<!-- a&#45;&#45;c -->\n<g id=\"edge40\" class=\"edge\">\n<title>a&#45;&#45;c</title>\n<path fill=\"none\" stroke=\"#000000\" d=\"M144.061,-47.9497C137.2457,-81.2828 87.5663,-144.2358 53.4295,-164.9896\"/>\n</g>\n<!-- a&#45;&#45;c -->\n<g id=\"edge46\" class=\"edge\">\n<title>a&#45;&#45;c</title>\n<path fill=\"none\" stroke=\"#000000\" d=\"M136.3707,-47.8778C121.0337,-77.3193 75.7989,-133.4751 48.1062,-158.0112\"/>\n</g>\n<!-- a&#45;&#45;c -->\n<g id=\"edge53\" class=\"edge\">\n<title>a&#45;&#45;c</title>\n<path fill=\"none\" stroke=\"#000000\" d=\"M127.4437,-45.8163C105.6743,-72.5848 62.1134,-126.149 40.2129,-153.0788\"/>\n</g>\n<!-- a&#45;&#45;c -->\n<g id=\"edge69\" class=\"edge\">\n<title>a&#45;&#45;c</title>\n<path fill=\"none\" stroke=\"#000000\" d=\"M119.3868,-41.0967C91.6346,-65.6723 46.2267,-122.061 30.9845,-151.4598\"/>\n</g>\n<!-- a&#45;&#45;a -->\n<g id=\"edge3\" class=\"edge\">\n<title>a&#45;&#45;a</title>\n<path fill=\"none\" stroke=\"#000000\" d=\"M167.6997,-31.3108C177.4828,-31.3431 185.4589,-30.8435 185.4589,-29.8123 185.4589,-28.781 177.4828,-28.2815 167.6997,-28.3138\"/>\n</g>\n<!-- a&#45;&#45;a -->\n<g id=\"edge10\" class=\"edge\">\n<title>a&#45;&#45;a</title>\n<path fill=\"none\" stroke=\"#000000\" d=\"M165.6634,-36.3683C269.5442,-59.6246 437.4589,-57.4392 437.4589,-29.8123 437.4589,-2.1853 269.5442,0 165.6634,-23.2563\"/>\n</g>\n<!-- a&#45;&#45;a -->\n<g id=\"edge16\" class=\"edge\">\n<title>a&#45;&#45;a</title>\n<path fill=\"none\" stroke=\"#000000\" d=\"M165.6932,-36.2745C263.3892,-57.6148 419.4589,-55.4607 419.4589,-29.8123 419.4589,-4.1639 263.3892,-2.0098 165.6932,-23.3501\"/>\n</g>\n<!-- a&#45;&#45;a -->\n<g id=\"edge19\" class=\"edge\">\n<title>a&#45;&#45;a</title>\n<path fill=\"none\" stroke=\"#000000\" d=\"M165.8256,-36.1905C257.32,-55.6024 401.4589,-53.4764 401.4589,-29.8123 401.4589,-6.1482 257.32,-4.0222 165.8256,-23.4341\"/>\n</g>\n<!-- a&#45;&#45;a -->\n<g id=\"edge31\" class=\"edge\">\n<title>a&#45;&#45;a</title>\n<path fill=\"none\" stroke=\"#000000\" d=\"M166.0038,-36.1002C251.2689,-53.588 383.4589,-51.492 383.4589,-29.8123 383.4589,-8.1326 251.2689,-6.0366 166.0038,-23.5243\"/>\n</g>\n<!-- a&#45;&#45;a -->\n<g id=\"edge35\" class=\"edge\">\n<title>a&#45;&#45;a</title>\n<path fill=\"none\" stroke=\"#000000\" d=\"M165.9113,-35.9371C244.9063,-51.5765 365.4589,-49.5349 365.4589,-29.8123 365.4589,-10.0896 244.9063,-8.048 165.9113,-23.6875\"/>\n</g>\n<!-- a&#45;&#45;a -->\n<g id=\"edge44\" class=\"edge\">\n<title>a&#45;&#45;a</title>\n<path fill=\"none\" stroke=\"#000000\" d=\"M166.2636,-35.8392C238.9536,-49.5556 347.4589,-47.5467 347.4589,-29.8123 347.4589,-12.0779 238.9536,-10.0689 166.2636,-23.7854\"/>\n</g>\n<!-- a&#45;&#45;a -->\n<g id=\"edge51\" class=\"edge\">\n<title>a&#45;&#45;a</title>\n<path fill=\"none\" stroke=\"#000000\" d=\"M166.2242,-35.6392C232.559,-47.5398 329.4589,-45.5974 329.4589,-29.8123 329.4589,-14.0271 232.559,-12.0848 166.2242,-23.9853\"/>\n</g>\n<!-- a&#45;&#45;a -->\n<g id=\"edge54\" class=\"edge\">\n<title>a&#45;&#45;a</title>\n<path fill=\"none\" stroke=\"#000000\" d=\"M166.1909,-35.4093C226.115,-45.5217 311.4589,-43.656 311.4589,-29.8123 311.4589,-15.9685 226.115,-14.1029 166.1909,-24.2153\"/>\n</g>\n<!-- a&#45;&#45;a -->\n<g id=\"edge56\" class=\"edge\">\n<title>a&#45;&#45;a</title>\n<path fill=\"none\" stroke=\"#000000\" d=\"M166.4087,-35.1788C219.8316,-43.4956 293.4589,-41.7068 293.4589,-29.8123 293.4589,-17.9178 219.8316,-16.1289 166.4087,-24.4458\"/>\n</g>\n<!-- a&#45;&#45;a -->\n<g id=\"edge62\" class=\"edge\">\n<title>a&#45;&#45;a</title>\n<path fill=\"none\" stroke=\"#000000\" d=\"M166.6339,-34.89C213.4462,-41.4658 275.4589,-39.7732 275.4589,-29.8123 275.4589,-19.8514 213.4462,-18.1588 166.6339,-24.7345\"/>\n</g>\n<!-- a&#45;&#45;a -->\n<g id=\"edge67\" class=\"edge\">\n<title>a&#45;&#45;a</title>\n<path fill=\"none\" stroke=\"#000000\" d=\"M166.6105,-34.4914C206.7067,-39.4384 257.4589,-37.8787 257.4589,-29.8123 257.4589,-21.7459 206.7067,-20.1862 166.6105,-25.1331\"/>\n</g>\n<!-- a&#45;&#45;a -->\n<g id=\"edge75\" class=\"edge\">\n<title>a&#45;&#45;a</title>\n<path fill=\"none\" stroke=\"#000000\" d=\"M166.819,-34.0179C199.9773,-37.4016 239.4589,-35.9998 239.4589,-29.8123 239.4589,-23.6248 199.9773,-22.2229 166.819,-25.6067\"/>\n</g>\n<!-- a&#45;&#45;a -->\n<g id=\"edge78\" class=\"edge\">\n<title>a&#45;&#45;a</title>\n<path fill=\"none\" stroke=\"#000000\" d=\"M167.0075,-33.3883C192.9527,-35.3637 221.4589,-34.1717 221.4589,-29.8123 221.4589,-25.4529 192.9527,-24.2609 167.0075,-26.2362\"/>\n</g>\n<!-- a&#45;&#45;a -->\n<g id=\"edge80\" class=\"edge\">\n<title>a&#45;&#45;a</title>\n<path fill=\"none\" stroke=\"#000000\" d=\"M167.3285,-32.5338C185.5857,-33.3288 203.4589,-32.4217 203.4589,-29.8123 203.4589,-27.2029 185.5857,-26.2957 167.3285,-27.0908\"/>\n</g>\n<!-- a&#45;&#45;e -->\n<g id=\"edge70\" class=\"edge\">\n<title>a&#45;&#45;e</title>\n<path fill=\"none\" stroke=\"#000000\" d=\"M164.3168,-38.4718C196.5296,-50.1637 253.5915,-70.875 285.7418,-82.5443\"/>\n</g>\n<!--   -->\n<g id=\"node5\" class=\"node\">\n<title> </title>\n<ellipse fill=\"none\" stroke=\"#000000\" cx=\"423\" cy=\"-175.8123\" rx=\"27\" ry=\"18\"/>\n<text text-anchor=\"middle\" x=\"423\" y=\"-172.1123\" font-family=\"Times,serif\" font-size=\"14.00\" fill=\"#000000\"> </text>\n</g>\n<!--  &#45;&#45;  -->\n<g id=\"edge5\" class=\"edge\">\n<title> &#45;&#45; </title>\n<path fill=\"none\" stroke=\"#000000\" d=\"M450.2408,-177.3108C460.0239,-177.3431 468,-176.8435 468,-175.8123 468,-174.781 460.0239,-174.2815 450.2408,-174.3138\"/>\n</g>\n<!--  &#45;&#45;  -->\n<g id=\"edge9\" class=\"edge\">\n<title> &#45;&#45; </title>\n<path fill=\"none\" stroke=\"#000000\" d=\"M448.3337,-182.4882C558.3946,-207.6313 738,-205.406 738,-175.8123 738,-146.2185 558.3946,-143.9932 448.3337,-169.1364\"/>\n</g>\n<!--  &#45;&#45;  -->\n<g id=\"edge18\" class=\"edge\">\n<title> &#45;&#45; </title>\n<path fill=\"none\" stroke=\"#000000\" d=\"M448.2045,-182.3683C552.0853,-205.6246 720,-203.4392 720,-175.8123 720,-148.1853 552.0853,-146 448.2045,-169.2563\"/>\n</g>\n<!--  &#45;&#45;  -->\n<g id=\"edge22\" class=\"edge\">\n<title> &#45;&#45; </title>\n<path fill=\"none\" stroke=\"#000000\" d=\"M448.2343,-182.2745C545.9303,-203.6148 702,-201.4607 702,-175.8123 702,-150.1639 545.9303,-148.0098 448.2343,-169.3501\"/>\n</g>\n<!--  &#45;&#45;  -->\n<g id=\"edge25\" class=\"edge\">\n<title> &#45;&#45; </title>\n<path fill=\"none\" stroke=\"#000000\" d=\"M448.3667,-182.1905C539.8611,-201.6024 684,-199.4764 684,-175.8123 684,-152.1482 539.8611,-150.0222 448.3667,-169.4341\"/>\n</g>\n<!--  &#45;&#45;  -->\n<g id=\"edge29\" class=\"edge\">\n<title> &#45;&#45; </title>\n<path fill=\"none\" stroke=\"#000000\" d=\"M448.5449,-182.1002C533.81,-199.588 666,-197.492 666,-175.8123 666,-154.1326 533.81,-152.0366 448.5449,-169.5243\"/>\n</g>\n<!--  &#45;&#45;  -->\n<g id=\"edge32\" class=\"edge\">\n<title> &#45;&#45; </title>\n<path fill=\"none\" stroke=\"#000000\" d=\"M448.4524,-181.9371C527.4474,-197.5765 648,-195.5349 648,-175.8123 648,-156.0896 527.4474,-154.048 448.4524,-169.6875\"/>\n</g>\n<!--  &#45;&#45;  -->\n<g id=\"edge33\" class=\"edge\">\n<title> &#45;&#45; </title>\n<path fill=\"none\" stroke=\"#000000\" d=\"M448.8047,-181.8392C521.4947,-195.5556 630,-193.5467 630,-175.8123 630,-158.0779 521.4947,-156.0689 448.8047,-169.7854\"/>\n</g>\n<!--  &#45;&#45;  -->\n<g id=\"edge34\" class=\"edge\">\n<title> &#45;&#45; </title>\n<path fill=\"none\" stroke=\"#000000\" d=\"M448.7653,-181.6392C515.1001,-193.5398 612,-191.5974 612,-175.8123 612,-160.0271 515.1001,-158.0848 448.7653,-169.9853\"/>\n</g>\n<!--  &#45;&#45;  -->\n<g id=\"edge41\" class=\"edge\">\n<title> &#45;&#45; </title>\n<path fill=\"none\" stroke=\"#000000\" d=\"M448.732,-181.4093C508.6561,-191.5217 594,-189.656 594,-175.8123 594,-161.9685 508.6561,-160.1029 448.732,-170.2153\"/>\n</g>\n<!--  &#45;&#45;  -->\n<g id=\"edge49\" class=\"edge\">\n<title> &#45;&#45; </title>\n<path fill=\"none\" stroke=\"#000000\" d=\"M448.9498,-181.1788C502.3727,-189.4956 576,-187.7068 576,-175.8123 576,-163.9178 502.3727,-162.1289 448.9498,-170.4458\"/>\n</g>\n<!--  &#45;&#45;  -->\n<g id=\"edge50\" class=\"edge\">\n<title> &#45;&#45; </title>\n<path fill=\"none\" stroke=\"#000000\" d=\"M449.175,-180.89C495.9873,-187.4658 558,-185.7732 558,-175.8123 558,-165.8514 495.9873,-164.1588 449.175,-170.7345\"/>\n</g>\n<!--  &#45;&#45;  -->\n<g id=\"edge61\" class=\"edge\">\n<title> &#45;&#45; </title>\n<path fill=\"none\" stroke=\"#000000\" d=\"M449.1516,-180.4914C489.2478,-185.4384 540,-183.8787 540,-175.8123 540,-167.7459 489.2478,-166.1862 449.1516,-171.1331\"/>\n</g>\n<!--  &#45;&#45;  -->\n<g id=\"edge63\" class=\"edge\">\n<title> &#45;&#45; </title>\n<path fill=\"none\" stroke=\"#000000\" d=\"M449.3601,-180.0179C482.5184,-183.4016 522,-181.9998 522,-175.8123 522,-169.6248 482.5184,-168.2229 449.3601,-171.6067\"/>\n</g>\n<!--  &#45;&#45;  -->\n<g id=\"edge76\" class=\"edge\">\n<title> &#45;&#45; </title>\n<path fill=\"none\" stroke=\"#000000\" d=\"M449.5487,-179.3883C475.4938,-181.3637 504,-180.1717 504,-175.8123 504,-171.4529 475.4938,-170.2609 449.5487,-172.2362\"/>\n</g>\n<!--  &#45;&#45;  -->\n<g id=\"edge81\" class=\"edge\">\n<title> &#45;&#45; </title>\n<path fill=\"none\" stroke=\"#000000\" d=\"M449.8696,-178.5338C468.1268,-179.3288 486,-178.4217 486,-175.8123 486,-173.2029 468.1268,-172.2957 449.8696,-173.0908\"/>\n</g>\n<!-- e&#45;&#45;e -->\n<g id=\"edge71\" class=\"edge\">\n<title>e&#45;&#45;e</title>\n<path fill=\"none\" stroke=\"#000000\" d=\"M334.9218,-97.8503C345.5062,-98.3118 354.4783,-96.0815 354.4783,-91.1597 354.4783,-86.2378 345.5062,-84.0076 334.9218,-84.469\"/>\n</g>\n</g>\n</svg>\n"
          },
          "metadata": {
            "tags": []
          },
          "execution_count": 32
        }
      ]
    },
    {
      "cell_type": "code",
      "metadata": {
        "id": "Rxn4Vch-6kJF",
        "outputId": "9674dd6c-7b58-4687-8485-e5d3f3d2a2f5",
        "colab": {
          "base_uri": "https://localhost:8080/",
          "height": 621
        }
      },
      "source": [
        "peterson = ['af', 'ac', 'ad', 'bg', 'bd', 'be', 'ch', 'ce', 'di', 'ej', 'fg', 'fj', 'gh', 'hi', 'ij']\r\n",
        "display_links(peterson, 'sfdp')"
      ],
      "execution_count": 20,
      "outputs": [
        {
          "output_type": "execute_result",
          "data": {
            "text/plain": [
              "<graphviz.dot.Graph at 0x7f3d2e8ef650>"
            ],
            "image/svg+xml": "<?xml version=\"1.0\" encoding=\"UTF-8\" standalone=\"no\"?>\n<!DOCTYPE svg PUBLIC \"-//W3C//DTD SVG 1.1//EN\"\n \"http://www.w3.org/Graphics/SVG/1.1/DTD/svg11.dtd\">\n<!-- Generated by graphviz version 2.40.1 (20161225.0304)\n -->\n<!-- Title: %3 Pages: 1 -->\n<svg width=\"473pt\" height=\"450pt\"\n viewBox=\"0.00 0.00 472.83 449.73\" xmlns=\"http://www.w3.org/2000/svg\" xmlns:xlink=\"http://www.w3.org/1999/xlink\">\n<g id=\"graph0\" class=\"graph\" transform=\"scale(1 1) rotate(0) translate(4 445.7317)\">\n<title>%3</title>\n<polygon fill=\"#ffffff\" stroke=\"transparent\" points=\"-4,4 -4,-445.7317 468.8264,-445.7317 468.8264,4 -4,4\"/>\n<!-- a -->\n<g id=\"node1\" class=\"node\">\n<title>a</title>\n<ellipse fill=\"none\" stroke=\"#000000\" cx=\"171.3579\" cy=\"-91.673\" rx=\"27\" ry=\"18\"/>\n<text text-anchor=\"middle\" x=\"171.3579\" y=\"-87.973\" font-family=\"Times,serif\" font-size=\"14.00\" fill=\"#000000\">a</text>\n</g>\n<!-- f -->\n<g id=\"node2\" class=\"node\">\n<title>f</title>\n<ellipse fill=\"none\" stroke=\"#000000\" cx=\"27\" cy=\"-262.4085\" rx=\"27\" ry=\"18\"/>\n<text text-anchor=\"middle\" x=\"27\" y=\"-258.7085\" font-family=\"Times,serif\" font-size=\"14.00\" fill=\"#000000\">f</text>\n</g>\n<!-- a&#45;&#45;f -->\n<g id=\"edge1\" class=\"edge\">\n<title>a&#45;&#45;f</title>\n<path fill=\"none\" stroke=\"#000000\" d=\"M158.0358,-107.4294C130.535,-139.9552 67.7631,-214.197 40.2899,-246.6903\"/>\n</g>\n<!-- c -->\n<g id=\"node3\" class=\"node\">\n<title>c</title>\n<ellipse fill=\"none\" stroke=\"#000000\" cx=\"423.9072\" cy=\"-68.4172\" rx=\"27\" ry=\"18\"/>\n<text text-anchor=\"middle\" x=\"423.9072\" y=\"-64.7172\" font-family=\"Times,serif\" font-size=\"14.00\" fill=\"#000000\">c</text>\n</g>\n<!-- a&#45;&#45;c -->\n<g id=\"edge2\" class=\"edge\">\n<title>a&#45;&#45;c</title>\n<path fill=\"none\" stroke=\"#000000\" d=\"M198.3851,-89.1842C246.9937,-84.7081 348.6074,-75.3511 397.0744,-70.8881\"/>\n</g>\n<!-- d -->\n<g id=\"node4\" class=\"node\">\n<title>d</title>\n<ellipse fill=\"none\" stroke=\"#000000\" cx=\"146.9988\" cy=\"-255.0056\" rx=\"27\" ry=\"18\"/>\n<text text-anchor=\"middle\" x=\"146.9988\" y=\"-251.3056\" font-family=\"Times,serif\" font-size=\"14.00\" fill=\"#000000\">d</text>\n</g>\n<!-- a&#45;&#45;d -->\n<g id=\"edge3\" class=\"edge\">\n<title>a&#45;&#45;d</title>\n<path fill=\"none\" stroke=\"#000000\" d=\"M168.658,-109.7765C163.9757,-141.1724 154.4016,-205.3688 149.7109,-236.821\"/>\n</g>\n<!-- g -->\n<g id=\"node6\" class=\"node\">\n<title>g</title>\n<ellipse fill=\"none\" stroke=\"#000000\" cx=\"235.801\" cy=\"-423.7317\" rx=\"27\" ry=\"18\"/>\n<text text-anchor=\"middle\" x=\"235.801\" y=\"-420.0317\" font-family=\"Times,serif\" font-size=\"14.00\" fill=\"#000000\">g</text>\n</g>\n<!-- f&#45;&#45;g -->\n<g id=\"edge11\" class=\"edge\">\n<title>f&#45;&#45;g</title>\n<path fill=\"none\" stroke=\"#000000\" d=\"M44.8023,-276.1628C84.2506,-306.6413 178.6373,-379.5661 218.0438,-410.0122\"/>\n</g>\n<!-- j -->\n<g id=\"node10\" class=\"node\">\n<title>j</title>\n<ellipse fill=\"none\" stroke=\"#000000\" cx=\"65.9483\" cy=\"-64.2988\" rx=\"27\" ry=\"18\"/>\n<text text-anchor=\"middle\" x=\"65.9483\" y=\"-60.5988\" font-family=\"Times,serif\" font-size=\"14.00\" fill=\"#000000\">j</text>\n</g>\n<!-- f&#45;&#45;j -->\n<g id=\"edge12\" class=\"edge\">\n<title>f&#45;&#45;j</title>\n<path fill=\"none\" stroke=\"#000000\" d=\"M30.5251,-244.4782C37.9217,-206.8556 54.989,-120.0429 62.4031,-82.3314\"/>\n</g>\n<!-- e -->\n<g id=\"node7\" class=\"node\">\n<title>e</title>\n<ellipse fill=\"none\" stroke=\"#000000\" cx=\"283.0457\" cy=\"-18\" rx=\"27\" ry=\"18\"/>\n<text text-anchor=\"middle\" x=\"283.0457\" y=\"-14.3\" font-family=\"Times,serif\" font-size=\"14.00\" fill=\"#000000\">e</text>\n</g>\n<!-- c&#45;&#45;e -->\n<g id=\"edge8\" class=\"edge\">\n<title>c&#45;&#45;e</title>\n<path fill=\"none\" stroke=\"#000000\" d=\"M400.012,-59.8646C374.1093,-50.5935 333.0066,-35.882 307.0581,-26.5945\"/>\n</g>\n<!-- h -->\n<g id=\"node8\" class=\"node\">\n<title>h</title>\n<ellipse fill=\"none\" stroke=\"#000000\" cx=\"437.8264\" cy=\"-285.3994\" rx=\"27\" ry=\"18\"/>\n<text text-anchor=\"middle\" x=\"437.8264\" y=\"-281.6994\" font-family=\"Times,serif\" font-size=\"14.00\" fill=\"#000000\">h</text>\n</g>\n<!-- c&#45;&#45;h -->\n<g id=\"edge7\" class=\"edge\">\n<title>c&#45;&#45;h</title>\n<path fill=\"none\" stroke=\"#000000\" d=\"M425.07,-86.5437C427.6901,-127.3873 434.0309,-226.2327 436.6571,-267.1718\"/>\n</g>\n<!-- i -->\n<g id=\"node9\" class=\"node\">\n<title>i</title>\n<ellipse fill=\"none\" stroke=\"#000000\" cx=\"268.4995\" cy=\"-170.631\" rx=\"27\" ry=\"18\"/>\n<text text-anchor=\"middle\" x=\"268.4995\" y=\"-166.931\" font-family=\"Times,serif\" font-size=\"14.00\" fill=\"#000000\">i</text>\n</g>\n<!-- d&#45;&#45;i -->\n<g id=\"edge9\" class=\"edge\">\n<title>d&#45;&#45;i</title>\n<path fill=\"none\" stroke=\"#000000\" d=\"M165.717,-242.007C188.4827,-226.1977 226.6946,-199.6619 249.5598,-183.7834\"/>\n</g>\n<!-- b -->\n<g id=\"node5\" class=\"node\">\n<title>b</title>\n<ellipse fill=\"none\" stroke=\"#000000\" cx=\"292.1711\" cy=\"-288.3855\" rx=\"27\" ry=\"18\"/>\n<text text-anchor=\"middle\" x=\"292.1711\" y=\"-284.6855\" font-family=\"Times,serif\" font-size=\"14.00\" fill=\"#000000\">b</text>\n</g>\n<!-- b&#45;&#45;d -->\n<g id=\"edge5\" class=\"edge\">\n<title>b&#45;&#45;d</title>\n<path fill=\"none\" stroke=\"#000000\" d=\"M266.5514,-282.4947C240.1783,-276.4306 199.3086,-267.0334 172.8508,-260.9498\"/>\n</g>\n<!-- b&#45;&#45;g -->\n<g id=\"edge4\" class=\"edge\">\n<title>b&#45;&#45;g</title>\n<path fill=\"none\" stroke=\"#000000\" d=\"M284.9171,-305.8026C274.0933,-331.7908 253.8347,-380.4322 243.0272,-406.3815\"/>\n</g>\n<!-- b&#45;&#45;e -->\n<g id=\"edge6\" class=\"edge\">\n<title>b&#45;&#45;e</title>\n<path fill=\"none\" stroke=\"#000000\" d=\"M291.5582,-270.2249C289.8958,-220.9681 285.3152,-85.2457 283.6559,-36.0816\"/>\n</g>\n<!-- g&#45;&#45;h -->\n<g id=\"edge13\" class=\"edge\">\n<title>g&#45;&#45;h</title>\n<path fill=\"none\" stroke=\"#000000\" d=\"M254.8071,-410.7178C293.3114,-384.3528 380.1386,-324.8998 418.7237,-298.4795\"/>\n</g>\n<!-- e&#45;&#45;j -->\n<g id=\"edge10\" class=\"edge\">\n<title>e&#45;&#45;j</title>\n<path fill=\"none\" stroke=\"#000000\" d=\"M257.2892,-23.4929C215.5069,-32.4035 133.432,-49.907 91.6712,-58.8131\"/>\n</g>\n<!-- h&#45;&#45;i -->\n<g id=\"edge14\" class=\"edge\">\n<title>h&#45;&#45;i</title>\n<path fill=\"none\" stroke=\"#000000\" d=\"M418.7316,-272.4571C386.1246,-250.3563 320.0838,-205.5944 287.5245,-183.526\"/>\n</g>\n<!-- i&#45;&#45;j -->\n<g id=\"edge15\" class=\"edge\">\n<title>i&#45;&#45;j</title>\n<path fill=\"none\" stroke=\"#000000\" d=\"M247.2058,-159.4526C208.3042,-139.0306 126.176,-95.9162 87.2606,-75.487\"/>\n</g>\n</g>\n</svg>\n"
          },
          "metadata": {
            "tags": []
          },
          "execution_count": 20
        }
      ]
    },
    {
      "cell_type": "markdown",
      "metadata": {
        "id": "2Ohmq677CPBM"
      },
      "source": [
        "I worked with Paul Semadeni and Daniel Strickland."
      ]
    }
  ]
}