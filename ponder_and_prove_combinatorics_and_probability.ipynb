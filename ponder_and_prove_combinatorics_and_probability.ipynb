{
  "nbformat": 4,
  "nbformat_minor": 0,
  "metadata": {
    "kernelspec": {
      "display_name": "Python 3",
      "language": "python",
      "name": "python3"
    },
    "language_info": {
      "codemirror_mode": {
        "name": "ipython",
        "version": 3
      },
      "file_extension": ".py",
      "mimetype": "text/x-python",
      "name": "python",
      "nbconvert_exporter": "python",
      "pygments_lexer": "ipython3",
      "version": "3.9.0"
    },
    "colab": {
      "name": "ponder_and_prove_combinatorics_and_probability.ipynb",
      "provenance": [],
      "include_colab_link": true
    }
  },
  "cells": [
    {
      "cell_type": "markdown",
      "metadata": {
        "id": "view-in-github",
        "colab_type": "text"
      },
      "source": [
        "<a href=\"https://colab.research.google.com/github/BrettonSteiner/cse380-notebooks/blob/master/ponder_and_prove_combinatorics_and_probability.ipynb\" target=\"_parent\"><img src=\"https://colab.research.google.com/assets/colab-badge.svg\" alt=\"Open In Colab\"/></a>"
      ]
    },
    {
      "cell_type": "markdown",
      "metadata": {
        "id": "gDTFVrYrzX5f"
      },
      "source": [
        "# Ponder and Prove Combinatorics and Probability\n",
        "#### Due: Saturday, 6 February 2021, 11:59 pm."
      ]
    },
    {
      "cell_type": "markdown",
      "metadata": {
        "id": "bZ12pf2kzX5j"
      },
      "source": [
        "## Conjecture\n",
        "\n",
        "A number-theoretic conjecture of combinatorial significance is the following:\n",
        "\n",
        "$degree2({2n \\choose n}) =$ the \"bits-on count\" (or population count, or Hamming weight) of $n$.\n",
        "\n",
        "$degree2(m)$ is defined as the number (degree, exponent) of 2's in the prime factorization of $m$.\n",
        "\n",
        "In other words, for any $m$, a positive integer, $m = 2^e \\cdot o$ where $o$ is an odd positive integer (could be 1) and $e$ is a natural number, including zero --- which would be the case when $m$ is odd. It's the $e$ that is the $degree2$ of $m$.\n",
        "\n",
        "Another way to state this conjecture is that the number of 1's in the binary expansion of ${2n \\choose n}$ for positive integer $n$ is equal to the number of 2's in the prime factorization of $n$.\n",
        "\n",
        "Your task is to write Python code to test this conjecture for as many positive integers as you can. See the self-assessment for more details.\n",
        "\n",
        "Note: a `bitsoncount` function can be a one-liner in Python: `return bin(x).count('1')`\n",
        "\n"
      ]
    },
    {
      "source": [
        "### My ponder5.pyw file:\n",
        "\n",
        "This file utilizes the multiprocessing library to speed up the program, a logger to take note of its progress every 30 minutes or so, and an internal timer that will automatically wrap-up the program after 24 hours have passed. I could probably make a better algorithm given more time, but this will have to do. It relies on Brother Neff's nCk.py file and Brother Comeau's cse251.py file to work. I've included them below."
      ],
      "cell_type": "markdown",
      "metadata": {}
    },
    {
      "cell_type": "code",
      "execution_count": null,
      "metadata": {},
      "outputs": [],
      "source": [
        "import time\n",
        "import timeit\n",
        "from itertools import repeat\n",
        "import multiprocessing as mp\n",
        "from nCk import *\n",
        "from cse251 import *\n",
        "\n",
        "# Leave 2 cpus free to keep the machine running :)\n",
        "CPU_COUNT = mp.cpu_count() - 2\n",
        "\n",
        "# Thanks Brother Neff!\n",
        "def bits_on_count(x):\n",
        "  return bin(x).count('1')\n",
        "\n",
        "# This is a function derived from an example I found here:\n",
        "# https://www.geeksforgeeks.org/count-occurrences-of-a-prime-number-in-the-prime-factorization-of-every-element-from-the-given-range/\n",
        "def get_num_twos(n):\n",
        "  prime = 2 # The prime we are looking for\n",
        "  count = 0 \n",
        "  val = prime\n",
        "  while (True): \n",
        "    # Number of values in n that are divisible by val \n",
        "    a = n // val\n",
        "\n",
        "    # Number of values in n - 1 that are divisible by val \n",
        "    b = (n - 1) // val\n",
        "\n",
        "    # Increment the power of the val \n",
        "    val *= prime\n",
        "\n",
        "    # (a - b) is the count of numbers in n that are divisible by val \n",
        "    if (a - b): \n",
        "      count += (a - b)\n",
        "\n",
        "    # No values that are divisible by val \n",
        "    # thus exiting from the loop \n",
        "    else: \n",
        "      break\n",
        "\n",
        "  return int(count); \n",
        "\n",
        "def test_conjecture(n):\n",
        "  return bits_on_count(n) == get_num_twos(nCk(2*n,n))\n",
        "\n",
        "def process_test_conjecture(n, eval_count, test_result, lock):\n",
        "  if (test_result.value):\n",
        "    result = test_conjecture(n)\n",
        "    if (result):\n",
        "      lock.acquire()\n",
        "      eval_count.value += 1\n",
        "      lock.release()\n",
        "    else:\n",
        "      lock.acquire()\n",
        "      test_result.value = result\n",
        "      lock.release()\n",
        "\n",
        "\n",
        "if __name__ == '__main__':\n",
        "  all_process_time = timeit.default_timer()\n",
        "  log = Log(show_terminal=True)\n",
        "  log.write(f\"Began processing with {CPU_COUNT} processes\")\n",
        "\n",
        "  # 86400 seconds = 24 hours\n",
        "  max_time = 86400\n",
        "  start_time = time.time()\n",
        "  n = 1\n",
        "  display_timer = 1800\n",
        "  display_count = 0\n",
        "  manager = mp.Manager()\n",
        "  test_result = manager.Value('test_result', True)\n",
        "  eval_count = manager.Value('eval_count', 0)\n",
        "  lock = manager.Lock()\n",
        "  try:\n",
        "    with mp.Pool(CPU_COUNT) as p:\n",
        "      while (time.time() - start_time) < max_time and test_result:\n",
        "        eval_count.value = 0\n",
        "        amount = CPU_COUNT * (250 - int(n * 0.005))\n",
        "        if (amount < CPU_COUNT):\n",
        "          amount = CPU_COUNT\n",
        "        numbers = range(n, n + amount)\n",
        "\n",
        "        p.starmap(process_test_conjecture, zip(numbers, repeat(eval_count), repeat(test_result), repeat(lock)))\n",
        "\n",
        "        n += eval_count.value\n",
        "\n",
        "        if not test_result.value:\n",
        "          break\n",
        "\n",
        "        if (time.time() - start_time) < max_time and (time.time() - start_time) // display_timer > display_count:\n",
        "          log.write(f'Verified up to {n}')\n",
        "          display_count += 1\n",
        "\n",
        "    if (time.time() - start_time) >= max_time:\n",
        "      log.write('Time\\'s up!')\n",
        "    else:\n",
        "      log.write('Conjecture evaluated to False!')\n",
        "    log.write(f'Verified up to {n}')\n",
        "\n",
        "    total_time = timeit.default_timer() - all_process_time\n",
        "    hours = total_time  // 3600\n",
        "    minutes = (total_time - (hours * 3600)) // 60\n",
        "    seconds = total_time - (hours * 3600) - (minutes * 60)\n",
        "    log.write(f'Total Time for ALL processing: {int(hours)} hours, {int(minutes)} minutes, and {seconds:.4f} seconds.')\n",
        "  except:\n",
        "    log.write(f'Verified up to {n}')\n",
        "\n",
        "    total_time = timeit.default_timer() - all_process_time\n",
        "    hours = total_time  // 3600\n",
        "    minutes = (total_time - (hours * 3600)) // 60\n",
        "    seconds = total_time - (hours * 3600) - (minutes * 60)\n",
        "    log.write(f'Total Time for ALL processing: {int(hours)} hours, {int(minutes)} minutes, and {seconds:.4f} seconds.')"
      ]
    },
    {
      "cell_type": "code",
      "execution_count": null,
      "metadata": {},
      "outputs": [],
      "source": []
    },
    {
      "source": [
        "### My cse251.py file:\n",
        "\n",
        "This file contains a subset of the classes in the original file. Thank you, Brother Comeau!"
      ],
      "cell_type": "markdown",
      "metadata": {}
    },
    {
      "cell_type": "code",
      "execution_count": null,
      "metadata": {},
      "outputs": [],
      "source": [
        "\"\"\"\n",
        "Course: CSE 251\n",
        "File: cse251.py\n",
        "Author: Brother Comeau\n",
        "\n",
        "Purpose: Common classes for the cse 251 course\n",
        "\n",
        "\"\"\"\n",
        "\n",
        "import time\n",
        "import logging\n",
        "from datetime import datetime\n",
        "\n",
        "\n",
        "# ===============================================================================================\n",
        "class Log():\n",
        "    \"\"\" Logger Class for CSE 251 \"\"\"\n",
        "\n",
        "    def __init__(self, filename_log='',\n",
        "                 linefmt='',\n",
        "                 show_levels=False,\n",
        "                 show_terminal=False,\n",
        "                 include_time=True):\n",
        "        self._start_time = time.perf_counter()\n",
        "        self._show_terminal = show_terminal\n",
        "\n",
        "        if filename_log == '':\n",
        "            d = datetime.now()\n",
        "            localtime = d.strftime(\"%m%d-%H%M%S\")\n",
        "            filename_log = f'{localtime}.log'\n",
        "\n",
        "        self._filename = filename_log\n",
        "\n",
        "        if linefmt == '':\n",
        "          linefmt = '%(message)s'\n",
        "\n",
        "        if show_levels:\n",
        "            linefmt = '%(levelname)s - ' + linefmt\n",
        "\n",
        "        if include_time:\n",
        "            date_format = '%H:%M:%S'\n",
        "            linefmt = '%(asctime)s| ' + linefmt\n",
        "        else:\n",
        "            date_format = ''\n",
        "\n",
        "        # Create and configure logger\n",
        "        logging.basicConfig(filename=self._filename,\n",
        "                            # format='%(asctime)s %(levelname)s %(message)s',\n",
        "                            format=linefmt,\n",
        "                            datefmt=date_format,\n",
        "                            filemode='w')\n",
        "\n",
        "        self.logger = logging.getLogger()\n",
        "\n",
        "        # Setting the threshold of logger to DEBUG\n",
        "        self.logger.setLevel(logging.INFO)\n",
        "\n",
        "        if show_terminal:\n",
        "            formatter = logging.Formatter(linefmt, datefmt=date_format)\n",
        "            terminal_handler = logging.StreamHandler()\n",
        "            terminal_handler.setFormatter(formatter)\n",
        "            self.logger.addHandler(terminal_handler)\n",
        "\n",
        "\n",
        "    def start_timer(self, message=''):\n",
        "        \"\"\"Start a new timer\"\"\"\n",
        "        if message != '':\n",
        "            self.write(message)\n",
        "            \n",
        "        self._start_time = time.perf_counter()\n",
        "\n",
        "    def step_timer(self, message=''):\n",
        "        \"\"\"Current timer value\"\"\"\n",
        "        t = time.perf_counter() - self._start_time\n",
        "        if message == '':\n",
        "            self.write(f'{t:0.8f}')\n",
        "        else:\n",
        "            self.write(f'{message} = {t:0.8f}')\n",
        "        return t\n",
        "\n",
        "    def stop_timer(self, message=''):\n",
        "        \"\"\"Stop the timer, and report the elapsed time\"\"\"\n",
        "        t = time.perf_counter() - self._start_time\n",
        "        if message == '':\n",
        "            self.write(f'{t:0.8f}')\n",
        "        else:\n",
        "            self.write(f'{message} = {t:0.8f}')\n",
        "        return t\n",
        "\n",
        "    def write(self, message=''):\n",
        "        \"\"\"Write info message to log file\"\"\"\n",
        "        self.logger.info(message)\n",
        "        # if self._show_terminal:\n",
        "        #   print(f'LOG: {message}')\n",
        "\n",
        "    def write_warning(self, message=''):\n",
        "        \"\"\"Write warning message to log file\"\"\"\n",
        "        self.logger.warning(message)\n",
        "        # if self._show_terminal:\n",
        "        #   print(f'LOG: {message}')\n",
        "\n",
        "    def write_error(self, message=''):\n",
        "        \"\"\"Write error message to log file\"\"\"\n",
        "        self.logger.error(message)\n",
        "        # if self._show_terminal:\n",
        "        #   print(f'LOG: {message}')\n"
      ]
    },
    {
      "source": [
        "### My nCk.py file:\n",
        "\n",
        "Thank you, Brother Neff!"
      ],
      "cell_type": "markdown",
      "metadata": {}
    },
    {
      "cell_type": "code",
      "execution_count": null,
      "metadata": {},
      "outputs": [],
      "source": [
        "from math import gcd\n",
        "\n",
        "def nCk(n, k):\n",
        "  if k < 0 or k > n:\n",
        "    return 0\n",
        "  else:\n",
        "    result = 1\n",
        "    d = 1\n",
        "    g = 1\n",
        "    m = min(k, n - k)\n",
        "    while (d <= m):\n",
        "      g = gcd(result, d)\n",
        "      result = n * (result // g)\n",
        "      result = (result // (d // g))\n",
        "      n -= 1\n",
        "      d += 1\n",
        "    return result"
      ]
    },
    {
      "source": [
        "### Results\n",
        "\n",
        "I ran my code for 24 hours on my desktop computer. Shown below are the log results. I had it report on its progress about every 30 minutes or so in the case that it failed to complete the 24-hour time frame.\n",
        "\n",
        "```\n",
        "11:42:24| Began processing with 14 processes\n",
        "12:12:56| Verified up to 32663\n",
        "12:43:09| Verified up to 41091\n",
        "13:12:51| Verified up to 46859\n",
        "13:42:28| Verified up to 51479\n",
        "14:12:24| Verified up to 55413\n",
        "14:42:25| Verified up to 58871\n",
        "15:12:25| Verified up to 61965\n",
        "15:42:24| Verified up to 64779\n",
        "16:12:24| Verified up to 67369\n",
        "16:42:24| Verified up to 69777\n",
        "17:12:32| Verified up to 72045\n",
        "17:42:35| Verified up to 74173\n",
        "18:12:24| Verified up to 76175\n",
        "18:42:27| Verified up to 78093\n",
        "19:12:37| Verified up to 79927\n",
        "19:42:24| Verified up to 81663\n",
        "20:12:30| Verified up to 83343\n",
        "20:42:26| Verified up to 84953\n",
        "21:12:26| Verified up to 86507\n",
        "21:42:24| Verified up to 88005\n",
        "22:12:30| Verified up to 89461\n",
        "22:42:40| Verified up to 90875\n",
        "23:12:31| Verified up to 92233\n",
        "23:42:36| Verified up to 93563\n",
        "00:12:36| Verified up to 94851\n",
        "00:42:43| Verified up to 96111\n",
        "01:12:34| Verified up to 97329\n",
        "01:42:29| Verified up to 98519\n",
        "02:12:43| Verified up to 99695\n",
        "02:42:33| Verified up to 100829\n",
        "03:12:40| Verified up to 101949\n",
        "03:42:42| Verified up to 103041\n",
        "04:12:31| Verified up to 104105\n",
        "04:42:36| Verified up to 105155\n",
        "05:12:26| Verified up to 106177\n",
        "05:42:28| Verified up to 107185\n",
        "06:12:34| Verified up to 108179\n",
        "06:42:50| Verified up to 109159\n",
        "07:12:41| Verified up to 110111\n",
        "07:42:39| Verified up to 111049\n",
        "08:12:39| Verified up to 111973\n",
        "08:42:42| Verified up to 112883\n",
        "09:12:47| Verified up to 113779\n",
        "09:42:51| Verified up to 114661\n",
        "10:12:27| Verified up to 115515\n",
        "10:42:29| Verified up to 116369\n",
        "11:12:26| Verified up to 117209\n",
        "11:42:48| Time's up!\n",
        "11:42:48| Verified up to 118049\n",
        "11:42:48| Total Time for ALL processing: 24 hours, 0 minutes, and 24.3162 seconds.\n",
        "```\n",
        "\n",
        "With my code running on my best machine, I was able to verify up to number 118049."
      ],
      "cell_type": "markdown",
      "metadata": {}
    },
    {
      "cell_type": "markdown",
      "metadata": {
        "id": "dJsOWqIHzX5j"
      },
      "source": [
        "## Basic Probability Theory Question\n",
        "A dark room contains two barrels. The first barrel is filled with green marbles, the second is filled with a half-and-half mixture of green and blue marbles. So there's a 100% chance of choosing a green marble from the first barrel, and a 50% chance of choosing either color in the second barrel. You reach into one of the barrels (it's dark so you don't know which one) and select a marble at random. It's green. You select another. It's green too. You select a third, a fourth, a fifth, etc. Green each time. What is the *minimum* number of marbles you need to select to *exceed* a probability of 99% that you are picking them out of the all-green barrel? (Note that there are enough marbles so that the answer does not depend on how many marbles are in the second barrel.)\n"
      ]
    },
    {
      "cell_type": "markdown",
      "metadata": {
        "id": "k5Tsfix41Brd"
      },
      "source": [
        "The following equations came from the Hint section on page 175 of the *First Three Odds* textbook.\n",
        "\n",
        "The probability of choosing a **green** marble from the\n",
        "- all-green barrel $= 1$\n",
        "- half-and-half barrel $= (1/2)^n$\n",
        "\n",
        "The probability of choosing a **blue** marble from the\n",
        "- all-green barrel $= 0$\n",
        "- half-and-half barrel $= 1-(1/2)^n$\n",
        "\n",
        "I can use the equation for the probability of getting a blue marble from the half-and-half barrel to tell at what number of marbles I choose $n$ at which I will have more than a 99% probability of getting a blue marble."
      ]
    },
    {
      "cell_type": "code",
      "metadata": {
        "id": "cNxYfrug2n-o",
        "outputId": "079e0c64-1bea-4fe6-df97-d2be65e47a67",
        "colab": {
          "base_uri": "https://localhost:8080/"
        }
      },
      "source": [
        "def green_marble_probability(n):\r\n",
        "  return (1/2) ** n\r\n",
        "\r\n",
        "def blue_marble_probability(n):\r\n",
        "  return 1 - (1/2) ** n\r\n",
        "\r\n",
        "for n in range(10):\r\n",
        "  print(f'n: {n}')\r\n",
        "  print(f'green: {green_marble_probability(n)}')\r\n",
        "  print(f'blue: {blue_marble_probability(n)}')\r\n",
        "  print()"
      ],
      "execution_count": 4,
      "outputs": [
        {
          "output_type": "stream",
          "text": [
            "n: 0\n",
            "green: 1.0\n",
            "blue: 0.0\n",
            "\n",
            "n: 1\n",
            "green: 0.5\n",
            "blue: 0.5\n",
            "\n",
            "n: 2\n",
            "green: 0.25\n",
            "blue: 0.75\n",
            "\n",
            "n: 3\n",
            "green: 0.125\n",
            "blue: 0.875\n",
            "\n",
            "n: 4\n",
            "green: 0.0625\n",
            "blue: 0.9375\n",
            "\n",
            "n: 5\n",
            "green: 0.03125\n",
            "blue: 0.96875\n",
            "\n",
            "n: 6\n",
            "green: 0.015625\n",
            "blue: 0.984375\n",
            "\n",
            "n: 7\n",
            "green: 0.0078125\n",
            "blue: 0.9921875\n",
            "\n",
            "n: 8\n",
            "green: 0.00390625\n",
            "blue: 0.99609375\n",
            "\n",
            "n: 9\n",
            "green: 0.001953125\n",
            "blue: 0.998046875\n",
            "\n"
          ],
          "name": "stdout"
        }
      ]
    },
    {
      "cell_type": "markdown",
      "metadata": {
        "id": "xHhMjHp84ML_"
      },
      "source": [
        "I will have a probability greater than 99% that I am pulling marbles from the all-green barrel if I consecutively choose seven or more green marbles from the barrel."
      ]
    },
    {
      "cell_type": "markdown",
      "metadata": {
        "id": "EiRF7vzezX5j"
      },
      "source": [
        "## A Related But Deeper Basic Probability Theory Question\n",
        "Take a deep breath. Suppose Shakespeare's account is accurate and Julius Caesar gasped \"You too, Brutus\" before breathing his last. What is the probability that you just inhaled a molecule that Julius Caesar exhaled in his dying breath?\n",
        "\n",
        "Assume that after more than two thousand years the exhaled molecules are uniformly spread about the world and the vast majority are still free in the atmosphere. Assume further that there are $10^{44}$ molecules of air in the world, and that your inhaled quantity and Caesar's exhaled quantity were each about $2.2 \\times 10^{22}$ molecules.\n",
        "### Hint\n",
        "If a number $x$ is small, then $(1 - x)$ is approximately equal to $e^{-x}$.\n"
      ]
    },
    {
      "cell_type": "code",
      "metadata": {
        "id": "7WIDLNdL5ArP",
        "outputId": "8f4348df-5aed-4482-efc1-cb6c60d6fd0d",
        "colab": {
          "base_uri": "https://localhost:8080/"
        }
      },
      "source": [
        "from math import e\r\n",
        "\r\n",
        "# The amount of molecules on a single breath\r\n",
        "breath_quantity = (2.2 * (10 ** 22))\r\n",
        "\r\n",
        "print('The probability of a single molecule being from Julius Caesar\\'s dying breath:')\r\n",
        "pr_caesars_breath = breath_quantity / (10 ** 44)\r\n",
        "print(pr_caesars_breath)\r\n",
        "print()\r\n",
        "\r\n",
        "print('The probability that no molecules in my breath are from Julius Caesar\\'s dying breath:')\r\n",
        "pr_none = e ** (-pr_caesars_breath * breath_quantity)\r\n",
        "print(pr_none)\r\n",
        "print()\r\n",
        "\r\n",
        "print('The probability that at least one molecule in my breath is from Julius Caesar\\'s dying breath:')\r\n",
        "print(1 - pr_none)\r\n",
        "print()"
      ],
      "execution_count": 56,
      "outputs": [
        {
          "output_type": "stream",
          "text": [
            "The probability of a single molecule being from Julius Caesar's dying breath:\n",
            "2.1999999999999996e-22\n",
            "\n",
            "The probability that no molecules in my breath are from Julius Caesar's dying breath:\n",
            "0.00790705405159345\n",
            "\n",
            "The probability that at least one molecule in my breath is from Julius Caesar's dying breath:\n",
            "0.9920929459484066\n",
            "\n"
          ],
          "name": "stdout"
        }
      ]
    },
    {
      "cell_type": "markdown",
      "metadata": {
        "id": "EquS_XO07Hcd"
      },
      "source": [
        "The probability of inhaling a molecule of Julius Caeser's exhale from his dying breath is about 99.2%, which is far more likely than I was expecting!\n",
        "\n",
        "Daniel Strickland, Claire Hocker, and I used this reference to help us figure it out: https://puzzlemath.blogspot.com/2011/06/julius-caesars-last-breath.html"
      ]
    },
    {
      "cell_type": "markdown",
      "metadata": {
        "id": "DzDBRYOnzX5k"
      },
      "source": [
        "## What is True?\n",
        "Assess yourself on how you did using the checkboxes below. Check a box by putting an 'X' in it only if it is warranted.\n"
      ]
    },
    {
      "cell_type": "markdown",
      "metadata": {
        "id": "Pyh_RfsmzX5k"
      },
      "source": [
        "### What is true of my experience in general?\n",
        "(5 points each, 15 points total)\n",
        "- [X] I had fun.\n",
        "- [X] I learned something new.\n",
        "- [X] I achieved something meaningful, or something I can build upon at a later time.\n",
        "\n",
        "I can say I did all of these when I implemented my program using multiprocessing and logging. I am currently taking a parallelism and concurrency class, so I will likely use this going forward. I even learned about the starmap function which I have never used before. It was a lot of fun, but I probably spent too much time on it."
      ]
    },
    {
      "cell_type": "markdown",
      "metadata": {
        "id": "40tw8l8CzX5k"
      },
      "source": [
        "### What is true of my report on what I learned?\n",
        "(5 points each, 25 points total)\n",
        "- [X] I wrote a sufficient number of well-written sentences.\n",
        "- [X] My report is free of \"mechanical infelicities\" (misspelled words, grammatical errors, punctuation errors, etc.).\n",
        "- [X] I reported on any connections I found between this investigation and something I already know.\n",
        "- [X] I reported who were and what contribution each of my collaborators made.\n",
        "- [X] I reported on how many numbers I was able to verify with a time/computation budget of 24 hours (in a row).\n",
        "\n",
        "I believe I have accomplished all of these because I have nothing more to write and everything that I have written has been run through Grammarly. I also mentioned above about my class on parallelism and concurrency that I have utilized in this class."
      ]
    },
    {
      "cell_type": "markdown",
      "metadata": {
        "id": "aJrMcq6VzX5k"
      },
      "source": [
        "### What is true about my answers?\n",
        "(15 points each, 60 points total)\n",
        "- [X] I figured out how to run a Python program continuously for at least 24 hours.\n",
        "- [ ] I refrained from printing out anything except the highest number I verified, knowing that printing just slows a program down.\n",
        "- [X] I got the right answer for the first probability theory question.\n",
        "- [X] I got the right answer for the second probability theory question.\n",
        "\n",
        "I believe I achieved all of these except for the printing out just one number part. This is proof that I should be reading these requirements ahead of time. I could have done this but was unaware that it was a requirement. I actually went out of my way to print out the number at a set time about every 30 minutes as insurance against a program crash, so if anything, I think I went above and beyond this requirement. But for the sake of following the requirements to the letter, I will leave it unchecked. Feel free to give me credit for it if you see fit.\n",
        "\n",
        "I worked with my classmates to work out the two probability theory questions and we are quite certain that we got the correct answer. We know for sure that we got the first one right because we got the same answer as was listed in the *First Three Odds* on page 175. The second was more challenging, but with the help of some research, we believe this one is correct, too."
      ]
    },
    {
      "cell_type": "code",
      "metadata": {
        "id": "LxuJjiR_zX5l"
      },
      "source": [],
      "execution_count": null,
      "outputs": []
    }
  ]
}