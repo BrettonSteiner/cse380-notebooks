{
  "nbformat": 4,
  "nbformat_minor": 0,
  "metadata": {
    "kernelspec": {
      "display_name": "Python 3",
      "language": "python",
      "name": "python3"
    },
    "language_info": {
      "codemirror_mode": {
        "name": "ipython",
        "version": 3
      },
      "file_extension": ".py",
      "mimetype": "text/x-python",
      "name": "python",
      "nbconvert_exporter": "python",
      "pygments_lexer": "ipython3",
      "version": "3.9.0"
    },
    "colab": {
      "name": "ponder_and_prove_combinatorics_and_probability.ipynb",
      "provenance": [],
      "include_colab_link": true
    }
  },
  "cells": [
    {
      "cell_type": "markdown",
      "metadata": {
        "id": "view-in-github",
        "colab_type": "text"
      },
      "source": [
        "<a href=\"https://colab.research.google.com/github/BrettonSteiner/cse380-notebooks/blob/master/ponder_and_prove_combinatorics_and_probability.ipynb\" target=\"_parent\"><img src=\"https://colab.research.google.com/assets/colab-badge.svg\" alt=\"Open In Colab\"/></a>"
      ]
    },
    {
      "cell_type": "markdown",
      "metadata": {
        "id": "gDTFVrYrzX5f"
      },
      "source": [
        "# Ponder and Prove Combinatorics and Probability\n",
        "#### Due: Saturday, 6 February 2021, 11:59 pm."
      ]
    },
    {
      "cell_type": "markdown",
      "metadata": {
        "id": "bZ12pf2kzX5j"
      },
      "source": [
        "## Conjecture\n",
        "\n",
        "A number-theoretic conjecture of combinatorial significance is the following:\n",
        "\n",
        "$degree2({2n \\choose n}) =$ the \"bits-on count\" (or population count, or Hamming weight) of $n$.\n",
        "\n",
        "$degree2(m)$ is defined as the number (degree, exponent) of 2's in the prime factorization of $m$.\n",
        "\n",
        "In other words, for any $m$, a positive integer, $m = 2^e \\cdot o$ where $o$ is an odd positive integer (could be 1) and $e$ is a natural number, including zero --- which would be the case when $m$ is odd. It's the $e$ that is the $degree2$ of $m$.\n",
        "\n",
        "Another way to state this conjecture is that the number of 1's in the binary expansion of ${2n \\choose n}$ for positive integer $n$ is equal to the number of 2's in the prime factorization of $n$.\n",
        "\n",
        "Your task is to write Python code to test this conjecture for as many positive integers as you can. See the self-assessment for more details.\n",
        "\n",
        "Note: a `bitsoncount` function can be a one-liner in Python: `return bin(x).count('1')`\n",
        "\n"
      ]
    },
    {
      "cell_type": "code",
      "metadata": {
        "id": "y_N8pOhH0EJJ"
      },
      "source": [
        "from math import gcd\r\n",
        "\r\n",
        "# Thanks Brother Neff!\r\n",
        "def bits_on_count(x):\r\n",
        "  return bin(x).count('1')\r\n",
        "\r\n",
        "# Again, thank you Brother Neff!\r\n",
        "def nCk(n, k):\r\n",
        "  if k < 0 or k > n:\r\n",
        "    return 0\r\n",
        "  else:\r\n",
        "    result = 1\r\n",
        "    d = 1\r\n",
        "    g = 1\r\n",
        "    m = min(k, n - k)\r\n",
        "    while (d <= m):\r\n",
        "      g = gcd(result, d)\r\n",
        "      result = n * (result // g)\r\n",
        "      result = (result // (d // g))\r\n",
        "      n -= 1\r\n",
        "      d += 1\r\n",
        "    return result\r\n",
        "\r\n",
        "# This is a function derived from an example I found here:\r\n",
        "# https://www.geeksforgeeks.org/count-occurrences-of-a-prime-number-in-the-prime-factorization-of-every-element-from-the-given-range/\r\n",
        "def get_num_twos(n):\r\n",
        "  prime = 2 # The prime we are looking for\r\n",
        "  count = 0 \r\n",
        "  val = prime\r\n",
        "  while (True): \r\n",
        "    # Number of values in n that are divisible by val \r\n",
        "    a = n // val\r\n",
        "\r\n",
        "    # Number of values in n - 1 that are divisible by val \r\n",
        "    b = (n - 1) // val\r\n",
        "\r\n",
        "    # Increment the power of the val \r\n",
        "    val *= prime\r\n",
        "\r\n",
        "    # (a - b) is the count of numbers in n that are divisible by val \r\n",
        "    if (a - b): \r\n",
        "      count += (a - b)\r\n",
        "\r\n",
        "    # No values that are divisible by val \r\n",
        "    # thus exiting from the loop \r\n",
        "    else: \r\n",
        "      break\r\n",
        "\r\n",
        "  return int(count); \r\n",
        "\r\n",
        "def test_conjecture(n):\r\n",
        "  return bits_on_count(n) == get_num_twos(nCk(2*n,n))"
      ],
      "execution_count": 31,
      "outputs": []
    },
    {
      "cell_type": "code",
      "metadata": {
        "id": "PeXIGPkC-w9y",
        "outputId": "a5cd4391-1ba6-4f2f-f984-47bb53d74a3d",
        "colab": {
          "base_uri": "https://localhost:8080/"
        }
      },
      "source": [
        "import datetime\r\n",
        "\r\n",
        "n = 1\r\n",
        "try:\r\n",
        "  while test_conjecture(n):\r\n",
        "    n += 1\r\n",
        "\r\n",
        "  # If it ends early due to a False statement:\r\n",
        "  print('Verified up to ' + str(n) + ' at ' + str(datetime.datetime.now()))\r\n",
        "  print('But then returned false')\r\n",
        "except:\r\n",
        "  print('Verified up to ' + str(n) + ' at ' + str(datetime.datetime.now()))"
      ],
      "execution_count": 34,
      "outputs": [
        {
          "output_type": "stream",
          "text": [
            "Verified up to 8116 at 2021-02-04 22:47:09.138715\n"
          ],
          "name": "stdout"
        }
      ]
    },
    {
      "cell_type": "markdown",
      "metadata": {
        "id": "dJsOWqIHzX5j"
      },
      "source": [
        "## Basic Probability Theory Question\n",
        "A dark room contains two barrels. The first barrel is filled with green marbles, the second is filled with a half-and-half mixture of green and blue marbles. So there's a 100% chance of choosing a green marble from the first barrel, and a 50% chance of choosing either color in the second barrel. You reach into one of the barrels (it's dark so you don't know which one) and select a marble at random. It's green. You select another. It's green too. You select a third, a fourth, a fifth, etc. Green each time. What is the *minimum* number of marbles you need to select to *exceed* a probability of 99% that you are picking them out of the all-green barrel? (Note that there are enough marbles so that the answer does not depend on how many marbles are in the second barrel.)\n"
      ]
    },
    {
      "cell_type": "markdown",
      "metadata": {
        "id": "k5Tsfix41Brd"
      },
      "source": [
        "Note: These equations came from the Hint section on page 175 of the *First Three Odds* textbook.\r\n",
        "\r\n",
        "The probability of choosing a **green** marble from the\r\n",
        "- all-green barrel $= 1$\r\n",
        "- half-and-half barrel $= (1/2)^n$\r\n",
        "\r\n",
        "The probability of choosing a **blue** marble from the\r\n",
        "- all-green barrel $= 0$\r\n",
        "- half-and-half barrel $= 1-(1/2)^n$\r\n",
        "\r\n",
        "I can use the equation for the probability of getting a blue marble from the half-and-half barrel to tell at what number of marbles I choose $n$ which I will have more than a 99% probability of getting a blue marble."
      ]
    },
    {
      "cell_type": "code",
      "metadata": {
        "id": "cNxYfrug2n-o",
        "outputId": "079e0c64-1bea-4fe6-df97-d2be65e47a67",
        "colab": {
          "base_uri": "https://localhost:8080/"
        }
      },
      "source": [
        "def green_marble_probability(n):\r\n",
        "  return (1/2) ** n\r\n",
        "\r\n",
        "def blue_marble_probability(n):\r\n",
        "  return 1 - (1/2) ** n\r\n",
        "\r\n",
        "for n in range(10):\r\n",
        "  print(f'n: {n}')\r\n",
        "  print(f'green: {green_marble_probability(n)}')\r\n",
        "  print(f'blue: {blue_marble_probability(n)}')\r\n",
        "  print()"
      ],
      "execution_count": 4,
      "outputs": [
        {
          "output_type": "stream",
          "text": [
            "n: 0\n",
            "green: 1.0\n",
            "blue: 0.0\n",
            "\n",
            "n: 1\n",
            "green: 0.5\n",
            "blue: 0.5\n",
            "\n",
            "n: 2\n",
            "green: 0.25\n",
            "blue: 0.75\n",
            "\n",
            "n: 3\n",
            "green: 0.125\n",
            "blue: 0.875\n",
            "\n",
            "n: 4\n",
            "green: 0.0625\n",
            "blue: 0.9375\n",
            "\n",
            "n: 5\n",
            "green: 0.03125\n",
            "blue: 0.96875\n",
            "\n",
            "n: 6\n",
            "green: 0.015625\n",
            "blue: 0.984375\n",
            "\n",
            "n: 7\n",
            "green: 0.0078125\n",
            "blue: 0.9921875\n",
            "\n",
            "n: 8\n",
            "green: 0.00390625\n",
            "blue: 0.99609375\n",
            "\n",
            "n: 9\n",
            "green: 0.001953125\n",
            "blue: 0.998046875\n",
            "\n"
          ],
          "name": "stdout"
        }
      ]
    },
    {
      "cell_type": "markdown",
      "metadata": {
        "id": "xHhMjHp84ML_"
      },
      "source": [
        "I will have a probability greater than 99% that I am pulling marbles from the all-green barrel if I choose 7 or more green marbles consecutively  from the barrel."
      ]
    },
    {
      "cell_type": "markdown",
      "metadata": {
        "id": "EiRF7vzezX5j"
      },
      "source": [
        "## A Related But Deeper Basic Probability Theory Question\n",
        "Take a deep breath. Suppose Shakespeare's account is accurate and Julius Caesar gasped \"You too, Brutus\" before breathing his last. What is the probability that you just inhaled a molecule that Julius Caesar exhaled in his dying breath?\n",
        "\n",
        "Assume that after more than two thousand years the exhaled molecules are uniformly spread about the world and the vast majority are still free in the atmosphere. Assume further that there are $10^{44}$ molecules of air in the world, and that your inhaled quantity and Caesar's exhaled quantity were each about $2.2 \\times 10^{22}$ molecules.\n",
        "### Hint\n",
        "If a number $x$ is small, then $(1 - x)$ is approximately equal to $e^{-x}$.\n"
      ]
    },
    {
      "cell_type": "code",
      "metadata": {
        "id": "7WIDLNdL5ArP",
        "outputId": "8f4348df-5aed-4482-efc1-cb6c60d6fd0d",
        "colab": {
          "base_uri": "https://localhost:8080/"
        }
      },
      "source": [
        "from math import e\r\n",
        "\r\n",
        "# The amount of molecules on a single breath\r\n",
        "breath_quantity = (2.2 * (10 ** 22))\r\n",
        "\r\n",
        "print('The probability of a single molecule being from Julius Caesar\\'s dying breath:')\r\n",
        "pr_caesars_breath = breath_quantity / (10 ** 44)\r\n",
        "print(pr_caesars_breath)\r\n",
        "print()\r\n",
        "\r\n",
        "print('The probability that no molecules in my breath are from Julius Caesar\\'s dying breath:')\r\n",
        "pr_none = e ** (-pr_caesars_breath * breath_quantity)\r\n",
        "print(pr_none)\r\n",
        "print()\r\n",
        "\r\n",
        "print('The probability that at least one molecule in my breath is from Julius Caesar\\'s dying breath:')\r\n",
        "print(1 - pr_none)\r\n",
        "print()"
      ],
      "execution_count": 56,
      "outputs": [
        {
          "output_type": "stream",
          "text": [
            "The probability of a single molecule being from Julius Caesar's dying breath:\n",
            "2.1999999999999996e-22\n",
            "\n",
            "The probability that no molecules in my breath are from Julius Caesar's dying breath:\n",
            "0.00790705405159345\n",
            "\n",
            "The probability that at least one molecule in my breath is from Julius Caesar's dying breath:\n",
            "0.9920929459484066\n",
            "\n"
          ],
          "name": "stdout"
        }
      ]
    },
    {
      "cell_type": "markdown",
      "metadata": {
        "id": "EquS_XO07Hcd"
      },
      "source": [
        "The probability of inhaling a molecule of Julius Caeser's exhale from his dying breath is about 99.2% which is far more likely than I was expecting!\r\n",
        "\r\n",
        "Daniel Strickland, Claire Hocker, and I used this reference to help us figure it out: https://puzzlemath.blogspot.com/2011/06/julius-caesars-last-breath.html"
      ]
    },
    {
      "cell_type": "markdown",
      "metadata": {
        "id": "DzDBRYOnzX5k"
      },
      "source": [
        "## What is True?\n",
        "Assess yourself on how you did using the checkboxes below. Check a box by putting an 'X' in it only if it is warranted.\n"
      ]
    },
    {
      "cell_type": "markdown",
      "metadata": {
        "id": "Pyh_RfsmzX5k"
      },
      "source": [
        "### What is true of my experience in general?\n",
        "(5 points each, 15 points total)\n",
        "- [ ] I had fun.\n",
        "- [ ] I learned something new.\n",
        "- [ ] I achieved something meaningful, or something I can build upon at a later time."
      ]
    },
    {
      "cell_type": "markdown",
      "metadata": {
        "id": "40tw8l8CzX5k"
      },
      "source": [
        "### What is true of my report on what I learned?\n",
        "(5 points each, 25 points total)\n",
        "- [ ] I wrote a sufficient number of well-written sentences.\n",
        "- [ ] My report is free of \"mechanical infelicities\" (misspelled words, grammatical errors, punctuation errors, etc.).\n",
        "- [ ] I reported on any connections I found between this investigation and something I already know.\n",
        "- [ ] I reported who were and what contribution each of my collaborators made.\n",
        "- [ ] I reported on how many numbers I was able to verify with a time/computation budget of 24 hours (in a row).\n"
      ]
    },
    {
      "cell_type": "markdown",
      "metadata": {
        "id": "aJrMcq6VzX5k"
      },
      "source": [
        "### What is true about my answers?\n",
        "(15 points each, 60 points total)\n",
        "- [ ] I figured out how to run a Python program continuously for at least 24 hours.\n",
        "- [ ] I refrained from printing out anything except the highest number I verified, knowing that printing just slows a program down.\n",
        "- [ ] I got the right answer for the first probability theory question.\n",
        "- [ ] I got the right answer for the second probability theory question.\n"
      ]
    },
    {
      "cell_type": "code",
      "metadata": {
        "id": "LxuJjiR_zX5l"
      },
      "source": [
        ""
      ],
      "execution_count": null,
      "outputs": []
    }
  ]
}